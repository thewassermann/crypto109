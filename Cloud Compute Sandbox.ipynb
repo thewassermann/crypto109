{
 "cells": [
  {
   "cell_type": "code",
   "execution_count": 1,
   "metadata": {},
   "outputs": [
    {
     "name": "stderr",
     "output_type": "stream",
     "text": [
      "/home/ubuntu/anaconda3/lib/python3.6/site-packages/matplotlib/__init__.py:1067: UserWarning: Duplicate key in file \"/home/ubuntu/.config/matplotlib/matplotlibrc\", line #2\n",
      "  (fname, cnt))\n",
      "/home/ubuntu/anaconda3/lib/python3.6/site-packages/matplotlib/__init__.py:1067: UserWarning: Duplicate key in file \"/home/ubuntu/.config/matplotlib/matplotlibrc\", line #3\n",
      "  (fname, cnt))\n"
     ]
    },
    {
     "name": "stdout",
     "output_type": "stream",
     "text": [
      "modules loaded\n"
     ]
    }
   ],
   "source": [
    "import pandas as pd\n",
    "import numpy as np\n",
    "import matplotlib.pyplot as plt\n",
    "\n",
    "import importlib\n",
    "import crypto_object\n",
    "\n",
    "import tqdm\n",
    "\n",
    "%matplotlib inline\n",
    "\n",
    "print('modules loaded')"
   ]
  },
  {
   "cell_type": "code",
   "execution_count": 2,
   "metadata": {},
   "outputs": [],
   "source": [
    "crypto_object = importlib.reload(crypto_object)"
   ]
  },
  {
   "cell_type": "code",
   "execution_count": 3,
   "metadata": {},
   "outputs": [],
   "source": [
    "btc = crypto_object.Coin('BTC', 'cryptocurrencypricehistory/bitcoin_price.csv')"
   ]
  },
  {
   "cell_type": "code",
   "execution_count": 4,
   "metadata": {},
   "outputs": [
    {
     "data": {
      "text/html": [
       "<div>\n",
       "<style scoped>\n",
       "    .dataframe tbody tr th:only-of-type {\n",
       "        vertical-align: middle;\n",
       "    }\n",
       "\n",
       "    .dataframe tbody tr th {\n",
       "        vertical-align: top;\n",
       "    }\n",
       "\n",
       "    .dataframe thead th {\n",
       "        text-align: right;\n",
       "    }\n",
       "</style>\n",
       "<table border=\"1\" class=\"dataframe\">\n",
       "  <thead>\n",
       "    <tr style=\"text-align: right;\">\n",
       "      <th></th>\n",
       "      <th>Date</th>\n",
       "      <th>Open</th>\n",
       "      <th>High</th>\n",
       "      <th>Low</th>\n",
       "      <th>Close</th>\n",
       "      <th>Volume</th>\n",
       "      <th>Market Cap</th>\n",
       "      <th>Pct Returns</th>\n",
       "    </tr>\n",
       "  </thead>\n",
       "  <tbody>\n",
       "    <tr>\n",
       "      <th>0</th>\n",
       "      <td>2018-02-20</td>\n",
       "      <td>11231.8</td>\n",
       "      <td>11958.5</td>\n",
       "      <td>11231.80</td>\n",
       "      <td>11403.7</td>\n",
       "      <td>9,926,540,000</td>\n",
       "      <td>189,536,000,000</td>\n",
       "      <td>0.015893</td>\n",
       "    </tr>\n",
       "    <tr>\n",
       "      <th>1</th>\n",
       "      <td>2018-02-19</td>\n",
       "      <td>10552.6</td>\n",
       "      <td>11273.8</td>\n",
       "      <td>10513.20</td>\n",
       "      <td>11225.3</td>\n",
       "      <td>7,652,090,000</td>\n",
       "      <td>178,055,000,000</td>\n",
       "      <td>0.063828</td>\n",
       "    </tr>\n",
       "    <tr>\n",
       "      <th>2</th>\n",
       "      <td>2018-02-18</td>\n",
       "      <td>11123.4</td>\n",
       "      <td>11349.8</td>\n",
       "      <td>10326.00</td>\n",
       "      <td>10551.8</td>\n",
       "      <td>8,744,010,000</td>\n",
       "      <td>187,663,000,000</td>\n",
       "      <td>-0.050474</td>\n",
       "    </tr>\n",
       "    <tr>\n",
       "      <th>3</th>\n",
       "      <td>2018-02-17</td>\n",
       "      <td>10207.5</td>\n",
       "      <td>11139.5</td>\n",
       "      <td>10149.40</td>\n",
       "      <td>11112.7</td>\n",
       "      <td>8,660,880,000</td>\n",
       "      <td>172,191,000,000</td>\n",
       "      <td>0.085871</td>\n",
       "    </tr>\n",
       "    <tr>\n",
       "      <th>4</th>\n",
       "      <td>2018-02-16</td>\n",
       "      <td>10135.7</td>\n",
       "      <td>10324.1</td>\n",
       "      <td>9824.82</td>\n",
       "      <td>10233.9</td>\n",
       "      <td>7,296,160,000</td>\n",
       "      <td>170,960,000,000</td>\n",
       "      <td>0.006640</td>\n",
       "    </tr>\n",
       "  </tbody>\n",
       "</table>\n",
       "</div>"
      ],
      "text/plain": [
       "        Date     Open     High       Low    Close         Volume  \\\n",
       "0 2018-02-20  11231.8  11958.5  11231.80  11403.7  9,926,540,000   \n",
       "1 2018-02-19  10552.6  11273.8  10513.20  11225.3  7,652,090,000   \n",
       "2 2018-02-18  11123.4  11349.8  10326.00  10551.8  8,744,010,000   \n",
       "3 2018-02-17  10207.5  11139.5  10149.40  11112.7  8,660,880,000   \n",
       "4 2018-02-16  10135.7  10324.1   9824.82  10233.9  7,296,160,000   \n",
       "\n",
       "        Market Cap  Pct Returns  \n",
       "0  189,536,000,000     0.015893  \n",
       "1  178,055,000,000     0.063828  \n",
       "2  187,663,000,000    -0.050474  \n",
       "3  172,191,000,000     0.085871  \n",
       "4  170,960,000,000     0.006640  "
      ]
     },
     "execution_count": 4,
     "metadata": {},
     "output_type": "execute_result"
    }
   ],
   "source": [
    "btc.full_data.head()"
   ]
  },
  {
   "cell_type": "code",
   "execution_count": 5,
   "metadata": {},
   "outputs": [
    {
     "data": {
      "text/plain": [
       "[<matplotlib.lines.Line2D at 0x7f18d1a43c88>]"
      ]
     },
     "execution_count": 5,
     "metadata": {},
     "output_type": "execute_result"
    },
    {
     "data": {
      "image/png": "[encoded data removed]",
      "text/plain": [
       "<Figure size 432x288 with 1 Axes>"
      ]
     },
     "metadata": {},
     "output_type": "display_data"
    }
   ],
   "source": [
    "plt.plot(btc.full_data.loc[:,'Date'], btc.full_data.loc[:,'Pct Returns'])"
   ]
  },
  {
   "cell_type": "code",
   "execution_count": 6,
   "metadata": {},
   "outputs": [
    {
     "data": {
      "text/plain": [
       "1"
      ]
     },
     "execution_count": 6,
     "metadata": {},
     "output_type": "execute_result"
    }
   ],
   "source": [
    "(btc.full_data.loc[2,'Date'] - btc.full_data.loc[3,'Date']).days"
   ]
  },
  {
   "cell_type": "code",
   "execution_count": 7,
   "metadata": {},
   "outputs": [],
   "source": [
    "import datetime"
   ]
  },
  {
   "cell_type": "code",
   "execution_count": 8,
   "metadata": {},
   "outputs": [
    {
     "data": {
      "text/plain": [
       "1   2018-02-19\n",
       "Name: Date, dtype: datetime64[ns]"
      ]
     },
     "execution_count": 8,
     "metadata": {},
     "output_type": "execute_result"
    }
   ],
   "source": [
    "btc.full_data['Date'][btc.full_data['Date'] == datetime.datetime.strptime('2018-02-19', \"%Y-%m-%d\")]"
   ]
  },
  {
   "cell_type": "code",
   "execution_count": 9,
   "metadata": {},
   "outputs": [
    {
     "data": {
      "text/plain": [
       "1"
      ]
     },
     "execution_count": 9,
     "metadata": {},
     "output_type": "execute_result"
    }
   ],
   "source": [
    "np.argwhere(btc.full_data['Date'] == datetime.datetime.strptime('2018-02-19', \"%Y-%m-%d\"))[0][0]"
   ]
  },
  {
   "cell_type": "code",
   "execution_count": 10,
   "metadata": {},
   "outputs": [
    {
     "data": {
      "text/plain": [
       "datetime.datetime(2018, 2, 19, 0, 0)"
      ]
     },
     "execution_count": 10,
     "metadata": {},
     "output_type": "execute_result"
    }
   ],
   "source": [
    "datetime.datetime.strptime('2018-02-19', \"%Y-%m-%d\")"
   ]
  },
  {
   "cell_type": "code",
   "execution_count": 11,
   "metadata": {},
   "outputs": [
    {
     "data": {
      "text/plain": [
       "-0.010670095926595473"
      ]
     },
     "execution_count": 11,
     "metadata": {},
     "output_type": "execute_result"
    }
   ],
   "source": [
    "np.random.choice(btc.full_data['Pct Returns'])"
   ]
  },
  {
   "cell_type": "code",
   "execution_count": 12,
   "metadata": {},
   "outputs": [],
   "source": [
    "import option_pricing as op"
   ]
  },
  {
   "cell_type": "code",
   "execution_count": 13,
   "metadata": {},
   "outputs": [],
   "source": [
    "op = importlib.reload(op)"
   ]
  },
  {
   "cell_type": "code",
   "execution_count": 14,
   "metadata": {},
   "outputs": [],
   "source": [
    "d1 = datetime.datetime.strptime('2016-02-19', \"%Y-%m-%d\")\n",
    "d2 = datetime.datetime.strptime('2017-02-19', \"%Y-%m-%d\")\n",
    "out = op.random_paths(btc, d1, d2, lookback=60, N=50)"
   ]
  },
  {
   "cell_type": "code",
   "execution_count": 15,
   "metadata": {},
   "outputs": [
    {
     "data": {
      "text/plain": [
       "731     437.16\n",
       "730     438.80\n",
       "729     437.75\n",
       "728     420.74\n",
       "727     424.95\n",
       "726     424.54\n",
       "725     432.15\n",
       "724     432.52\n",
       "723     433.50\n",
       "722     437.70\n",
       "721     435.12\n",
       "720     423.99\n",
       "719     421.65\n",
       "718     410.94\n",
       "717     400.57\n",
       "716     407.71\n",
       "715     414.32\n",
       "714     413.97\n",
       "713     414.86\n",
       "712     417.13\n",
       "711     421.69\n",
       "710     411.62\n",
       "709     414.06\n",
       "708     416.44\n",
       "707     416.83\n",
       "706     417.01\n",
       "705     420.62\n",
       "704     409.55\n",
       "703     410.44\n",
       "702     413.75\n",
       "        ...   \n",
       "395     921.79\n",
       "394     924.67\n",
       "393     921.01\n",
       "392     892.69\n",
       "391     901.54\n",
       "390     917.59\n",
       "389     919.75\n",
       "388     921.59\n",
       "387     919.50\n",
       "386     920.38\n",
       "385     970.40\n",
       "384     989.02\n",
       "383    1011.80\n",
       "382    1029.91\n",
       "381    1042.90\n",
       "380    1027.34\n",
       "379    1038.15\n",
       "378    1061.35\n",
       "377    1063.07\n",
       "376     994.38\n",
       "375     988.67\n",
       "374    1004.45\n",
       "373     999.18\n",
       "372     990.64\n",
       "371    1004.55\n",
       "370    1007.48\n",
       "369    1027.44\n",
       "368    1046.21\n",
       "367    1054.42\n",
       "366    1047.87\n",
       "Name: Close, Length: 366, dtype: float64"
      ]
     },
     "execution_count": 15,
     "metadata": {},
     "output_type": "execute_result"
    }
   ],
   "source": [
    "idx1 = np.argwhere(btc.full_data['Date'] == d1)[0][0]\n",
    "idx2 = np.argwhere(btc.full_data['Date'] == d2)[0][0]\n",
    "btc.full_data['Close'][(idx2):idx1].sort_index(ascending=False)"
   ]
  },
  {
   "cell_type": "code",
   "execution_count": 16,
   "metadata": {},
   "outputs": [
    {
     "data": {
      "text/plain": [
       "366"
      ]
     },
     "execution_count": 16,
     "metadata": {},
     "output_type": "execute_result"
    }
   ],
   "source": [
    "idx2"
   ]
  },
  {
   "cell_type": "code",
   "execution_count": 17,
   "metadata": {},
   "outputs": [],
   "source": [
    "def plot_random_paths(rp, true_path, coin):\n",
    "    \n",
    "    f, ax = plt.subplots(1,1, figsize=(12,8))\n",
    "    \n",
    "    dates = rp.index\n",
    "    \n",
    "    rp = rp.sort_index(axis=0 ,ascending=False).values\n",
    "    true_path = true_path.sort_index(ascending=False).values\n",
    "    \n",
    "    N = rp.shape[1]\n",
    "    \n",
    "    for i in np.arange(N):\n",
    "        ax.plot(dates, rp[:, i], color='blue', alpha=.2)\n",
    "        \n",
    "    ax.plot(dates, true_path, color='red')\n",
    "    \n",
    "    ax.set_xlabel('Date')\n",
    "    ax.set_ylabel('{} Price'.format(coin.name))\n",
    "    ax.set_title(coin.name)"
   ]
  },
  {
   "cell_type": "code",
   "execution_count": 19,
   "metadata": {},
   "outputs": [
    {
     "data": {
      "image/png": "[encoded data removed]",
      "text/plain": [
       "<Figure size 864x576 with 1 Axes>"
      ]
     },
     "metadata": {},
     "output_type": "display_data"
    }
   ],
   "source": [
    "d1 = datetime.datetime.strptime('2017-02-19', \"%Y-%m-%d\")\n",
    "d2 = datetime.datetime.strptime('2018-02-19', \"%Y-%m-%d\")\n",
    "idx1 = np.argwhere(btc.full_data['Date'] == d1)[0][0]\n",
    "idx2 = np.argwhere(btc.full_data['Date'] == d2)[0][0]\n",
    "out = op.random_paths(btc, d1, d2, lookback=15, N=20)\n",
    "plot_random_paths(out, btc.full_data['Close'][idx2:idx1].reset_index()['Close'], btc)"
   ]
  },
  {
   "cell_type": "code",
   "execution_count": 20,
   "metadata": {},
   "outputs": [
    {
     "data": {
      "text/plain": [
       "0     1068.630199\n",
       "1     1041.360688\n",
       "2     1067.013230\n",
       "3     1068.630199\n",
       "4     1071.287217\n",
       "5     1050.926353\n",
       "6     1061.086525\n",
       "7     1032.235848\n",
       "8     1032.235848\n",
       "9     1071.287217\n",
       "10    1066.625610\n",
       "11    1041.360688\n",
       "12    1068.630199\n",
       "13     980.162144\n",
       "14     980.162144\n",
       "15    1067.013230\n",
       "16    1058.896023\n",
       "17    1061.086525\n",
       "18    1042.372190\n",
       "19    1068.630199\n",
       "Name: 2018-02-18 00:00:00, dtype: float64"
      ]
     },
     "execution_count": 20,
     "metadata": {},
     "output_type": "execute_result"
    }
   ],
   "source": [
    "out.iloc[-1, :]"
   ]
  },
  {
   "cell_type": "code",
   "execution_count": 21,
   "metadata": {},
   "outputs": [
    {
     "data": {
      "text/plain": [
       "1049.981613793083"
      ]
     },
     "execution_count": 21,
     "metadata": {},
     "output_type": "execute_result"
    }
   ],
   "source": [
    "np.nanmax([np.nanmean(out.iloc[-1, :]), 0])"
   ]
  },
  {
   "cell_type": "code",
   "execution_count": 24,
   "metadata": {},
   "outputs": [],
   "source": [
    "from importlib import reload # python 3\n",
    "op = reload(op)"
   ]
  },
  {
   "cell_type": "code",
   "execution_count": 25,
   "metadata": {},
   "outputs": [
    {
     "data": {
      "text/plain": [
       "113.69744460757053"
      ]
     },
     "execution_count": 25,
     "metadata": {},
     "output_type": "execute_result"
    }
   ],
   "source": [
    "op.empirical_method(btc, d1, d2, 0, 5000, 'call', lookback=30, N=500)"
   ]
  },
  {
   "cell_type": "code",
   "execution_count": null,
   "metadata": {},
   "outputs": [],
   "source": []
  },
  {
   "cell_type": "code",
   "execution_count": null,
   "metadata": {},
   "outputs": [],
   "source": [
    "#####\n",
    "# Options Strip\n",
    "######"
   ]
  },
  {
   "cell_type": "code",
   "execution_count": 26,
   "metadata": {},
   "outputs": [],
   "source": [
    "def get_options_strip(coin, current_date, r, N_iter):\n",
    "    \n",
    "    # near and far dates\n",
    "    near_term = current_date + datetime.timedelta(days=5)\n",
    "    next_term = current_date + datetime.timedelta(days=30)\n",
    "    \n",
    "    starting_index = np.argwhere(coin.full_data['Date'] == current_date)[0][0]\n",
    "    starting_price = coin.full_data['Close'][starting_index]\n",
    "    \n",
    "    # produces ks to search over\n",
    "    ks_near = np.linspace(starting_price * .9, starting_price * 1.1, 10)\n",
    "    ks_next = np.linspace(starting_price * .8, starting_price * 1.2, 20)\n",
    "    \n",
    "    # near term options\n",
    "    near_term_calls = np.empty((10, ))\n",
    "    near_term_puts = np.empty((10, ))\n",
    "    \n",
    "    # next term options\n",
    "    next_term_calls = np.empty((20, ))\n",
    "    next_term_puts = np.empty((20, ))\n",
    "    \n",
    "    for i, k in enumerate(ks_near):\n",
    "        near_term_calls[i] = op.empirical_method(coin, current_date, near_term, 0, k, 'call', lookback=5, N=N_iter)\n",
    "        near_term_puts[i] = op.empirical_method(coin, current_date, near_term, 0, k, 'put', lookback=5, N=N_iter)\n",
    "        \n",
    "    for i, k in enumerate(ks_next):\n",
    "        next_term_calls[i] = op.empirical_method(coin, current_date, near_term, 0, k, 'call', lookback=30, N=N_iter)\n",
    "        next_term_puts[i] = op.empirical_method(coin, current_date, near_term, 0, k, 'put', lookback=30, N=N_iter)\n",
    "        \n",
    "    near_term_df = pd.DataFrame([near_term_calls, near_term_puts]).T\n",
    "    near_term_df.columns = ['Calls', 'Puts']\n",
    "    near_term_df.index = ks_near\n",
    "    next_term_df = pd.DataFrame([next_term_calls, next_term_puts]).T\n",
    "    next_term_df.columns = ['Calls', 'Puts']\n",
    "    next_term_df.index = ks_next\n",
    "    \n",
    "    return (near_term_df, next_term_df)"
   ]
  },
  {
   "cell_type": "code",
   "execution_count": 27,
   "metadata": {},
   "outputs": [],
   "source": [
    "a = get_options_strip(btc, d1, 0, 100)[0]"
   ]
  },
  {
   "cell_type": "code",
   "execution_count": 28,
   "metadata": {},
   "outputs": [
    {
     "data": {
      "text/plain": [
       "Calls    22.765592\n",
       "Puts      9.563283\n",
       "Name: 1059.513, dtype: float64"
      ]
     },
     "execution_count": 28,
     "metadata": {},
     "output_type": "execute_result"
    }
   ],
   "source": [
    "a.loc[a.mean(axis=1).idxmin()]"
   ]
  },
  {
   "cell_type": "code",
   "execution_count": 29,
   "metadata": {},
   "outputs": [
    {
     "data": {
      "text/plain": [
       "Calls    22.765592\n",
       "Puts      9.563283\n",
       "Name: 1059.513, dtype: float64"
      ]
     },
     "execution_count": 29,
     "metadata": {},
     "output_type": "execute_result"
    }
   ],
   "source": [
    "a.loc[a.mean(axis=1).idxmin()]"
   ]
  },
  {
   "cell_type": "code",
   "execution_count": 30,
   "metadata": {},
   "outputs": [
    {
     "data": {
      "text/html": [
       "<div>\n",
       "<style scoped>\n",
       "    .dataframe tbody tr th:only-of-type {\n",
       "        vertical-align: middle;\n",
       "    }\n",
       "\n",
       "    .dataframe tbody tr th {\n",
       "        vertical-align: top;\n",
       "    }\n",
       "\n",
       "    .dataframe thead th {\n",
       "        text-align: right;\n",
       "    }\n",
       "</style>\n",
       "<table border=\"1\" class=\"dataframe\">\n",
       "  <thead>\n",
       "    <tr style=\"text-align: right;\">\n",
       "      <th></th>\n",
       "      <th>0</th>\n",
       "      <th>1</th>\n",
       "    </tr>\n",
       "  </thead>\n",
       "  <tbody>\n",
       "    <tr>\n",
       "      <th>0</th>\n",
       "      <td>1.0</td>\n",
       "      <td>1.0</td>\n",
       "    </tr>\n",
       "    <tr>\n",
       "      <th>1</th>\n",
       "      <td>1.0</td>\n",
       "      <td>1.0</td>\n",
       "    </tr>\n",
       "    <tr>\n",
       "      <th>2</th>\n",
       "      <td>1.0</td>\n",
       "      <td>1.0</td>\n",
       "    </tr>\n",
       "    <tr>\n",
       "      <th>3</th>\n",
       "      <td>1.0</td>\n",
       "      <td>1.0</td>\n",
       "    </tr>\n",
       "    <tr>\n",
       "      <th>4</th>\n",
       "      <td>1.0</td>\n",
       "      <td>1.0</td>\n",
       "    </tr>\n",
       "  </tbody>\n",
       "</table>\n",
       "</div>"
      ],
      "text/plain": [
       "     0    1\n",
       "0  1.0  1.0\n",
       "1  1.0  1.0\n",
       "2  1.0  1.0\n",
       "3  1.0  1.0\n",
       "4  1.0  1.0"
      ]
     },
     "execution_count": 30,
     "metadata": {},
     "output_type": "execute_result"
    }
   ],
   "source": [
    "pd.DataFrame([np.ones(5), np.ones(5)]).T"
   ]
  },
  {
   "cell_type": "code",
   "execution_count": 31,
   "metadata": {},
   "outputs": [],
   "source": [
    "cls = a['Calls'].index.values"
   ]
  },
  {
   "cell_type": "code",
   "execution_count": 32,
   "metadata": {},
   "outputs": [
    {
     "data": {
      "text/plain": [
       "array([ 943.083,  966.369,  989.655, 1012.941, 1036.227, 1059.513,\n",
       "       1082.799, 1106.085, 1129.371, 1152.657])"
      ]
     },
     "execution_count": 32,
     "metadata": {},
     "output_type": "execute_result"
    }
   ],
   "source": [
    "cls"
   ]
  },
  {
   "cell_type": "code",
   "execution_count": 33,
   "metadata": {},
   "outputs": [
    {
     "data": {
      "text/plain": [
       "1152.657"
      ]
     },
     "execution_count": 33,
     "metadata": {},
     "output_type": "execute_result"
    }
   ],
   "source": [
    "cls[(1059.5129999999999 - cls).argmin()]"
   ]
  },
  {
   "cell_type": "code",
   "execution_count": 34,
   "metadata": {},
   "outputs": [],
   "source": [
    "cls = 1059.5129999999999 - cls"
   ]
  },
  {
   "cell_type": "code",
   "execution_count": 35,
   "metadata": {},
   "outputs": [
    {
     "data": {
      "text/plain": [
       "4"
      ]
     },
     "execution_count": 35,
     "metadata": {},
     "output_type": "execute_result"
    }
   ],
   "source": [
    "cls[cls > 0].argmin()"
   ]
  },
  {
   "cell_type": "code",
   "execution_count": 36,
   "metadata": {},
   "outputs": [],
   "source": [
    "from __future__ import division\n",
    "\n",
    "def closest_call_or_put(val, array, call_or_put):\n",
    "    \n",
    "    try:\n",
    "        # loop through array and return propery idx\n",
    "        if call_or_put == 'call':\n",
    "            return min(array[array - val > 0])\n",
    "        else:\n",
    "            return max(array[val - array > 0])\n",
    "    except:\n",
    "        return val\n",
    "        \n",
    "        \n",
    "\n",
    "def cryptoVix(coin, current_date, r, N_iter, N_paths):\n",
    "    \n",
    "    vix = np.empty((N_iter,))\n",
    "    for i in np.arange(N_iter):\n",
    "    \n",
    "        # near and next options strip\n",
    "        near_strip, next_strip = get_options_strip(coin, current_date, r, N_paths)\n",
    "\n",
    "        # get idx where calls and puts differ the least\n",
    "        near_closest_idx = near_strip.mean(axis=1).idxmin()\n",
    "        next_closest_idx = next_strip.mean(axis=1).idxmin()\n",
    "\n",
    "        T_1 = 5/365\n",
    "        T_2 = 30/365\n",
    "\n",
    "        # near and next forward prices\n",
    "        F_near = near_closest_idx + (np.exp(r * T_1) * \\\n",
    "                    (near_strip.loc[near_closest_idx, 'Calls'] - \\\n",
    "                     near_strip.loc[near_closest_idx, 'Puts']))\n",
    "\n",
    "        F_next = next_closest_idx + (np.exp(r * T_2) * \\\n",
    "                    (next_strip.loc[next_closest_idx, 'Calls'] - \\\n",
    "                     next_strip.loc[next_closest_idx, 'Puts']))\n",
    "\n",
    "        # near/next strikes to find K_0s\n",
    "        ks_near = near_strip.index.values\n",
    "        ks_next = next_strip.index.values\n",
    "        \n",
    "        \n",
    "\n",
    "        k_0_near_call = closest_call_or_put(near_closest_idx, ks_near, 'call')\n",
    "        k_0_near_put = closest_call_or_put(near_closest_idx, ks_near, 'put')\n",
    "\n",
    "        k_0_next_call = closest_call_or_put(next_closest_idx, ks_next, 'call')\n",
    "        k_0_next_put = closest_call_or_put(next_closest_idx, ks_next, 'put')\n",
    "\n",
    "        # strikes given by np.linspace so the delta for strikes is constant\n",
    "        # therefore sufficient to calc one delta\n",
    "        delta_near = np.abs((ks_near[1] - ks_near[0]) / 2)\n",
    "        delta_next = np.abs((ks_next[1] - ks_next[0]) / 2)\n",
    "\n",
    "        # near and next strikes for calls and puts to be calculated\n",
    "        ks_near_puts = ks_near[ks_near < k_0_near_put]\n",
    "        ks_near_calls = ks_near[ks_near > k_0_near_call]\n",
    "        ks_next_puts = ks_next[ks_next < k_0_next_put]\n",
    "        ks_next_calls = ks_next[ks_next > k_0_next_call]\n",
    "\n",
    "        # calculate near vol\n",
    "        near_sum = 0\n",
    "        for k in ks_near_puts:\n",
    "            near_sum = near_sum + near_strip.loc[k, 'Puts'] / (k**2)\n",
    "        for k in ks_near_calls:\n",
    "            near_sum = near_sum + near_strip.loc[k, 'Calls'] / (k**2)\n",
    "\n",
    "        sigma_2_near = (np.exp(r * T_1) * delta_near * (2 / T_1) * near_sum) - \\\n",
    "            ((1 / T_1) * (((F_near / np.nanmean([k_0_near_call, k_0_near_put])) - 1)**2))\n",
    "\n",
    "        # calculate next vol\n",
    "        next_sum = 0\n",
    "        for k in ks_next_puts:\n",
    "            next_sum += next_strip.loc[k, 'Puts'] / (k**2)\n",
    "        for k in ks_next_calls:\n",
    "            next_sum += next_strip.loc[k, 'Calls'] / (k**2)\n",
    "\n",
    "\n",
    "        sigma_2_next = (np.exp(r * T_2) * delta_next * (2 / T_2) * next_sum) - \\\n",
    "            ((1 / T_2) * (((F_next / np.nanmean([k_0_next_call, k_0_next_put])) - 1)**2))\n",
    "\n",
    "        vix[i] = 100 * np.sqrt((T_1 * sigma_2_near) + (T_2 * sigma_2_next) * (365/30))\n",
    "        \n",
    "    return(np.nanmean(vix))"
   ]
  },
  {
   "cell_type": "code",
   "execution_count": 39,
   "metadata": {
    "scrolled": true
   },
   "outputs": [
    {
     "name": "stderr",
     "output_type": "stream",
     "text": [
      "/home/ubuntu/anaconda3/lib/python3.6/site-packages/ipykernel/__main__.py:78: RuntimeWarning: invalid value encountered in sqrt\n"
     ]
    },
    {
     "data": {
      "text/plain": [
       "7.708027861907088"
      ]
     },
     "execution_count": 39,
     "metadata": {},
     "output_type": "execute_result"
    }
   ],
   "source": [
    "cryptoVix(btc, d1, 0, 20, 2) #reduced number of paths as test"
   ]
  },
  {
   "cell_type": "markdown",
   "metadata": {},
   "source": [
    "# VIX\n",
    "\n",
    "Methodology:\n",
    "\n",
    "* Create options strip 5 days in future and 30 days in future.\n",
    "* Find forward price: strike at which call and put differs by the least amount.\n",
    "\n"
   ]
  },
  {
   "cell_type": "code",
   "execution_count": 43,
   "metadata": {},
   "outputs": [],
   "source": [
    "import os\n",
    "crypto_object = importlib.reload(crypto_object)\n",
    "\n",
    "def load_coins(dir_):\n",
    "    \"\"\"\n",
    "    Function to take in a directory containing data\n",
    "    and return a dictionary of `Coin` objects\n",
    "    \"\"\"\n",
    "    \n",
    "    # to store data\n",
    "    coin_dict = {}\n",
    "    \n",
    "    for filename in os.listdir(dir_):\n",
    "        \n",
    "        # price data\n",
    "        if filename.endswith(\"_price.csv\"):\n",
    "            \n",
    "            # coin name\n",
    "            coin_name = filename.split('_')[0]\n",
    "            \n",
    "            coin_dict[coin_name] = crypto_object.Coin(coin_name, dir_ + filename)\n",
    "            \n",
    "    return coin_dict\n",
    "coins = load_coins('cryptocurrencypricehistory/')"
   ]
  },
  {
   "cell_type": "code",
   "execution_count": 44,
   "metadata": {},
   "outputs": [],
   "source": [
    "def coin_vix(coin):\n",
    "    # create vix for a given coin\n",
    "    \n",
    "    # for replicability\n",
    "    np.random.seed(109)\n",
    "    dates = coin.full_data['Date'][:-31]\n",
    "    vix = np.empty((len(dates,)))\n",
    "    \n",
    "    # create vix for each date\n",
    "    for i in tqdm.trange(len(dates,)):\n",
    "        \n",
    "        vix[i] = cryptoVix(coin, dates[i], 0, 4, 100)\n",
    "\n",
    "    out_series = pd.Series(vix)\n",
    "    out_series.index = dates\n",
    "    return out_series"
   ]
  },
  {
   "cell_type": "code",
   "execution_count": 45,
   "metadata": {},
   "outputs": [
    {
     "name": "stderr",
     "output_type": "stream",
     "text": [
      " 19%|█▉        | 46/242 [00:38<02:44,  1.19it/s]/home/ubuntu/anaconda3/lib/python3.6/site-packages/ipykernel/__main__.py:78: RuntimeWarning: invalid value encountered in sqrt\n",
      " 98%|█████████▊| 238/242 [03:18<00:03,  1.20it/s]/home/ubuntu/crypto109/option_pricing.py:118: RuntimeWarning: Mean of empty slice\n",
      "  emp_price = np.nanmean(payout) * discount_factor\n",
      "100%|██████████| 242/242 [03:21<00:00,  1.20it/s]\n"
     ]
    }
   ],
   "source": [
    "qtum_vix = coin_vix(coins['qtum'])"
   ]
  },
  {
   "cell_type": "code",
   "execution_count": 50,
   "metadata": {
    "scrolled": true
   },
   "outputs": [
    {
     "data": {
      "text/plain": [
       "Date\n",
       "2018-02-20    45.672691\n",
       "2018-02-19    56.389403\n",
       "2018-02-18    67.426989\n",
       "2018-02-17    44.783208\n",
       "2018-02-16    54.614589\n",
       "2018-02-15    61.663511\n",
       "2018-02-14    64.980276\n",
       "2018-02-13    49.702504\n",
       "2018-02-12    58.925057\n",
       "2018-02-11    58.421301\n",
       "2018-02-10    65.377479\n",
       "2018-02-09    59.749457\n",
       "2018-02-08    49.430838\n",
       "2018-02-07    69.304174\n",
       "2018-02-06    76.061828\n",
       "2018-02-05    67.554879\n",
       "2018-02-04    58.708236\n",
       "2018-02-03    62.557083\n",
       "2018-02-02    63.402267\n",
       "2018-02-01    62.438075\n",
       "2018-01-31    60.264452\n",
       "2018-01-30    50.892988\n",
       "2018-01-29    72.576564\n",
       "2018-01-28    65.301001\n",
       "2018-01-27    67.040702\n",
       "2018-01-26    58.272978\n",
       "2018-01-25    71.684235\n",
       "2018-01-24    73.138539\n",
       "2018-01-23    68.816002\n",
       "2018-01-22    69.984021\n",
       "                ...    \n",
       "2017-07-23    64.786764\n",
       "2017-07-22    56.613195\n",
       "2017-07-21    65.418894\n",
       "2017-07-20    57.686966\n",
       "2017-07-19    42.441352\n",
       "2017-07-18    51.057061\n",
       "2017-07-17    47.171503\n",
       "2017-07-16    46.164931\n",
       "2017-07-15    41.270245\n",
       "2017-07-14    52.469908\n",
       "2017-07-13    58.755798\n",
       "2017-07-12    43.038575\n",
       "2017-07-11    38.815497\n",
       "2017-07-10    48.388362\n",
       "2017-07-09    49.926599\n",
       "2017-07-08    52.233571\n",
       "2017-07-07    49.258924\n",
       "2017-07-06    55.451764\n",
       "2017-07-05    48.602896\n",
       "2017-07-04    69.103105\n",
       "2017-07-03    59.700915\n",
       "2017-07-02    68.727521\n",
       "2017-07-01    64.234667\n",
       "2017-06-30    76.072826\n",
       "2017-06-29    66.470277\n",
       "2017-06-28    56.610726\n",
       "2017-06-27    61.352519\n",
       "2017-06-26    51.201296\n",
       "2017-06-25    60.115428\n",
       "2017-06-24    64.536909\n",
       "Length: 242, dtype: float64"
      ]
     },
     "execution_count": 50,
     "metadata": {},
     "output_type": "execute_result"
    }
   ],
   "source": [
    "qtum_vix"
   ]
  },
  {
   "cell_type": "code",
   "execution_count": 52,
   "metadata": {},
   "outputs": [
    {
     "data": {
      "text/plain": [
       "<matplotlib.axes._subplots.AxesSubplot at 0x7f1949095400>"
      ]
     },
     "execution_count": 52,
     "metadata": {},
     "output_type": "execute_result"
    },
    {
     "data": {
      "image/png": "[encoded data removed]",
      "text/plain": [
       "<Figure size 432x288 with 1 Axes>"
      ]
     },
     "metadata": {},
     "output_type": "display_data"
    }
   ],
   "source": [
    "qtum_vix.plot()"
   ]
  },
  {
   "cell_type": "code",
   "execution_count": 53,
   "metadata": {},
   "outputs": [
    {
     "data": {
      "text/plain": [
       "<bound method Series.to_frame of Date\n",
       "2017-06-24    64.536909\n",
       "2017-06-25    60.115428\n",
       "2017-06-26    51.201296\n",
       "2017-06-27    61.352519\n",
       "2017-06-28    56.610726\n",
       "2017-06-29    66.470277\n",
       "2017-06-30    76.072826\n",
       "2017-07-01    64.234667\n",
       "2017-07-02    68.727521\n",
       "2017-07-03    59.700915\n",
       "2017-07-04    69.103105\n",
       "2017-07-05    48.602896\n",
       "2017-07-06    55.451764\n",
       "2017-07-07    49.258924\n",
       "2017-07-08    52.233571\n",
       "2017-07-09    49.926599\n",
       "2017-07-10    48.388362\n",
       "2017-07-11    38.815497\n",
       "2017-07-12    43.038575\n",
       "2017-07-13    58.755798\n",
       "2017-07-14    52.469908\n",
       "2017-07-15    41.270245\n",
       "2017-07-16    46.164931\n",
       "2017-07-17    47.171503\n",
       "2017-07-18    51.057061\n",
       "2017-07-19    42.441352\n",
       "2017-07-20    57.686966\n",
       "2017-07-21    65.418894\n",
       "2017-07-22    56.613195\n",
       "2017-07-23    64.786764\n",
       "                ...    \n",
       "2018-01-22    69.984021\n",
       "2018-01-23    68.816002\n",
       "2018-01-24    73.138539\n",
       "2018-01-25    71.684235\n",
       "2018-01-26    58.272978\n",
       "2018-01-27    67.040702\n",
       "2018-01-28    65.301001\n",
       "2018-01-29    72.576564\n",
       "2018-01-30    50.892988\n",
       "2018-01-31    60.264452\n",
       "2018-02-01    62.438075\n",
       "2018-02-02    63.402267\n",
       "2018-02-03    62.557083\n",
       "2018-02-04    58.708236\n",
       "2018-02-05    67.554879\n",
       "2018-02-06    76.061828\n",
       "2018-02-07    69.304174\n",
       "2018-02-08    49.430838\n",
       "2018-02-09    59.749457\n",
       "2018-02-10    65.377479\n",
       "2018-02-11    58.421301\n",
       "2018-02-12    58.925057\n",
       "2018-02-13    49.702504\n",
       "2018-02-14    64.980276\n",
       "2018-02-15    61.663511\n",
       "2018-02-16    54.614589\n",
       "2018-02-17    44.783208\n",
       "2018-02-18    67.426989\n",
       "2018-02-19    56.389403\n",
       "2018-02-20    45.672691\n",
       "Length: 242, dtype: float64>"
      ]
     },
     "execution_count": 53,
     "metadata": {},
     "output_type": "execute_result"
    }
   ],
   "source": [
    "qtum_vix[::-1].to_frame"
   ]
  },
  {
   "cell_type": "code",
   "execution_count": 54,
   "metadata": {},
   "outputs": [],
   "source": [
    "q_close = coins['qtum'].full_data.loc[:, ['Date', 'Close']]"
   ]
  },
  {
   "cell_type": "code",
   "execution_count": 55,
   "metadata": {},
   "outputs": [],
   "source": [
    "b = q_close.join(qtum_vix[::-1].to_frame(), on='Date', how='left')"
   ]
  },
  {
   "cell_type": "code",
   "execution_count": 56,
   "metadata": {},
   "outputs": [
    {
     "data": {
      "text/html": [
       "<div>\n",
       "<style scoped>\n",
       "    .dataframe tbody tr th:only-of-type {\n",
       "        vertical-align: middle;\n",
       "    }\n",
       "\n",
       "    .dataframe tbody tr th {\n",
       "        vertical-align: top;\n",
       "    }\n",
       "\n",
       "    .dataframe thead th {\n",
       "        text-align: right;\n",
       "    }\n",
       "</style>\n",
       "<table border=\"1\" class=\"dataframe\">\n",
       "  <thead>\n",
       "    <tr style=\"text-align: right;\">\n",
       "      <th></th>\n",
       "      <th>Date</th>\n",
       "      <th>Close</th>\n",
       "      <th>0</th>\n",
       "    </tr>\n",
       "  </thead>\n",
       "  <tbody>\n",
       "    <tr>\n",
       "      <th>0</th>\n",
       "      <td>2018-02-20</td>\n",
       "      <td>31.11</td>\n",
       "      <td>45.672691</td>\n",
       "    </tr>\n",
       "    <tr>\n",
       "      <th>1</th>\n",
       "      <td>2018-02-19</td>\n",
       "      <td>32.66</td>\n",
       "      <td>56.389403</td>\n",
       "    </tr>\n",
       "    <tr>\n",
       "      <th>2</th>\n",
       "      <td>2018-02-18</td>\n",
       "      <td>31.24</td>\n",
       "      <td>67.426989</td>\n",
       "    </tr>\n",
       "    <tr>\n",
       "      <th>3</th>\n",
       "      <td>2018-02-17</td>\n",
       "      <td>33.56</td>\n",
       "      <td>44.783208</td>\n",
       "    </tr>\n",
       "    <tr>\n",
       "      <th>4</th>\n",
       "      <td>2018-02-16</td>\n",
       "      <td>33.02</td>\n",
       "      <td>54.614589</td>\n",
       "    </tr>\n",
       "    <tr>\n",
       "      <th>5</th>\n",
       "      <td>2018-02-15</td>\n",
       "      <td>33.06</td>\n",
       "      <td>61.663511</td>\n",
       "    </tr>\n",
       "    <tr>\n",
       "      <th>6</th>\n",
       "      <td>2018-02-14</td>\n",
       "      <td>32.55</td>\n",
       "      <td>64.980276</td>\n",
       "    </tr>\n",
       "    <tr>\n",
       "      <th>7</th>\n",
       "      <td>2018-02-13</td>\n",
       "      <td>30.11</td>\n",
       "      <td>49.702504</td>\n",
       "    </tr>\n",
       "    <tr>\n",
       "      <th>8</th>\n",
       "      <td>2018-02-12</td>\n",
       "      <td>30.13</td>\n",
       "      <td>58.925057</td>\n",
       "    </tr>\n",
       "    <tr>\n",
       "      <th>9</th>\n",
       "      <td>2018-02-11</td>\n",
       "      <td>27.48</td>\n",
       "      <td>58.421301</td>\n",
       "    </tr>\n",
       "    <tr>\n",
       "      <th>10</th>\n",
       "      <td>2018-02-10</td>\n",
       "      <td>30.27</td>\n",
       "      <td>65.377479</td>\n",
       "    </tr>\n",
       "    <tr>\n",
       "      <th>11</th>\n",
       "      <td>2018-02-09</td>\n",
       "      <td>31.16</td>\n",
       "      <td>59.749457</td>\n",
       "    </tr>\n",
       "    <tr>\n",
       "      <th>12</th>\n",
       "      <td>2018-02-08</td>\n",
       "      <td>26.48</td>\n",
       "      <td>49.430838</td>\n",
       "    </tr>\n",
       "    <tr>\n",
       "      <th>13</th>\n",
       "      <td>2018-02-07</td>\n",
       "      <td>21.78</td>\n",
       "      <td>69.304174</td>\n",
       "    </tr>\n",
       "    <tr>\n",
       "      <th>14</th>\n",
       "      <td>2018-02-06</td>\n",
       "      <td>24.05</td>\n",
       "      <td>76.061828</td>\n",
       "    </tr>\n",
       "    <tr>\n",
       "      <th>15</th>\n",
       "      <td>2018-02-05</td>\n",
       "      <td>20.54</td>\n",
       "      <td>67.554879</td>\n",
       "    </tr>\n",
       "    <tr>\n",
       "      <th>16</th>\n",
       "      <td>2018-02-04</td>\n",
       "      <td>26.19</td>\n",
       "      <td>58.708236</td>\n",
       "    </tr>\n",
       "    <tr>\n",
       "      <th>17</th>\n",
       "      <td>2018-02-03</td>\n",
       "      <td>29.93</td>\n",
       "      <td>62.557083</td>\n",
       "    </tr>\n",
       "    <tr>\n",
       "      <th>18</th>\n",
       "      <td>2018-02-02</td>\n",
       "      <td>30.26</td>\n",
       "      <td>63.402267</td>\n",
       "    </tr>\n",
       "    <tr>\n",
       "      <th>19</th>\n",
       "      <td>2018-02-01</td>\n",
       "      <td>35.68</td>\n",
       "      <td>62.438075</td>\n",
       "    </tr>\n",
       "    <tr>\n",
       "      <th>20</th>\n",
       "      <td>2018-01-31</td>\n",
       "      <td>42.12</td>\n",
       "      <td>60.264452</td>\n",
       "    </tr>\n",
       "    <tr>\n",
       "      <th>21</th>\n",
       "      <td>2018-01-30</td>\n",
       "      <td>37.33</td>\n",
       "      <td>50.892988</td>\n",
       "    </tr>\n",
       "    <tr>\n",
       "      <th>22</th>\n",
       "      <td>2018-01-29</td>\n",
       "      <td>43.41</td>\n",
       "      <td>72.576564</td>\n",
       "    </tr>\n",
       "    <tr>\n",
       "      <th>23</th>\n",
       "      <td>2018-01-28</td>\n",
       "      <td>43.76</td>\n",
       "      <td>65.301001</td>\n",
       "    </tr>\n",
       "    <tr>\n",
       "      <th>24</th>\n",
       "      <td>2018-01-27</td>\n",
       "      <td>39.58</td>\n",
       "      <td>67.040702</td>\n",
       "    </tr>\n",
       "    <tr>\n",
       "      <th>25</th>\n",
       "      <td>2018-01-26</td>\n",
       "      <td>39.70</td>\n",
       "      <td>58.272978</td>\n",
       "    </tr>\n",
       "    <tr>\n",
       "      <th>26</th>\n",
       "      <td>2018-01-25</td>\n",
       "      <td>40.72</td>\n",
       "      <td>71.684235</td>\n",
       "    </tr>\n",
       "    <tr>\n",
       "      <th>27</th>\n",
       "      <td>2018-01-24</td>\n",
       "      <td>40.51</td>\n",
       "      <td>73.138539</td>\n",
       "    </tr>\n",
       "    <tr>\n",
       "      <th>28</th>\n",
       "      <td>2018-01-23</td>\n",
       "      <td>39.15</td>\n",
       "      <td>68.816002</td>\n",
       "    </tr>\n",
       "    <tr>\n",
       "      <th>29</th>\n",
       "      <td>2018-01-22</td>\n",
       "      <td>39.97</td>\n",
       "      <td>69.984021</td>\n",
       "    </tr>\n",
       "    <tr>\n",
       "      <th>...</th>\n",
       "      <td>...</td>\n",
       "      <td>...</td>\n",
       "      <td>...</td>\n",
       "    </tr>\n",
       "    <tr>\n",
       "      <th>243</th>\n",
       "      <td>2017-06-22</td>\n",
       "      <td>12.10</td>\n",
       "      <td>NaN</td>\n",
       "    </tr>\n",
       "    <tr>\n",
       "      <th>244</th>\n",
       "      <td>2017-06-21</td>\n",
       "      <td>11.83</td>\n",
       "      <td>NaN</td>\n",
       "    </tr>\n",
       "    <tr>\n",
       "      <th>245</th>\n",
       "      <td>2017-06-20</td>\n",
       "      <td>11.49</td>\n",
       "      <td>NaN</td>\n",
       "    </tr>\n",
       "    <tr>\n",
       "      <th>246</th>\n",
       "      <td>2017-06-19</td>\n",
       "      <td>10.59</td>\n",
       "      <td>NaN</td>\n",
       "    </tr>\n",
       "    <tr>\n",
       "      <th>247</th>\n",
       "      <td>2017-06-18</td>\n",
       "      <td>10.58</td>\n",
       "      <td>NaN</td>\n",
       "    </tr>\n",
       "    <tr>\n",
       "      <th>248</th>\n",
       "      <td>2017-06-17</td>\n",
       "      <td>11.25</td>\n",
       "      <td>NaN</td>\n",
       "    </tr>\n",
       "    <tr>\n",
       "      <th>249</th>\n",
       "      <td>2017-06-16</td>\n",
       "      <td>11.29</td>\n",
       "      <td>NaN</td>\n",
       "    </tr>\n",
       "    <tr>\n",
       "      <th>250</th>\n",
       "      <td>2017-06-15</td>\n",
       "      <td>11.11</td>\n",
       "      <td>NaN</td>\n",
       "    </tr>\n",
       "    <tr>\n",
       "      <th>251</th>\n",
       "      <td>2017-06-14</td>\n",
       "      <td>11.77</td>\n",
       "      <td>NaN</td>\n",
       "    </tr>\n",
       "    <tr>\n",
       "      <th>252</th>\n",
       "      <td>2017-06-13</td>\n",
       "      <td>12.42</td>\n",
       "      <td>NaN</td>\n",
       "    </tr>\n",
       "    <tr>\n",
       "      <th>253</th>\n",
       "      <td>2017-06-12</td>\n",
       "      <td>10.96</td>\n",
       "      <td>NaN</td>\n",
       "    </tr>\n",
       "    <tr>\n",
       "      <th>254</th>\n",
       "      <td>2017-06-11</td>\n",
       "      <td>11.76</td>\n",
       "      <td>NaN</td>\n",
       "    </tr>\n",
       "    <tr>\n",
       "      <th>255</th>\n",
       "      <td>2017-06-10</td>\n",
       "      <td>11.33</td>\n",
       "      <td>NaN</td>\n",
       "    </tr>\n",
       "    <tr>\n",
       "      <th>256</th>\n",
       "      <td>2017-06-09</td>\n",
       "      <td>11.74</td>\n",
       "      <td>NaN</td>\n",
       "    </tr>\n",
       "    <tr>\n",
       "      <th>257</th>\n",
       "      <td>2017-06-08</td>\n",
       "      <td>12.35</td>\n",
       "      <td>NaN</td>\n",
       "    </tr>\n",
       "    <tr>\n",
       "      <th>258</th>\n",
       "      <td>2017-06-07</td>\n",
       "      <td>10.97</td>\n",
       "      <td>NaN</td>\n",
       "    </tr>\n",
       "    <tr>\n",
       "      <th>259</th>\n",
       "      <td>2017-06-06</td>\n",
       "      <td>11.50</td>\n",
       "      <td>NaN</td>\n",
       "    </tr>\n",
       "    <tr>\n",
       "      <th>260</th>\n",
       "      <td>2017-06-05</td>\n",
       "      <td>11.17</td>\n",
       "      <td>NaN</td>\n",
       "    </tr>\n",
       "    <tr>\n",
       "      <th>261</th>\n",
       "      <td>2017-06-04</td>\n",
       "      <td>12.15</td>\n",
       "      <td>NaN</td>\n",
       "    </tr>\n",
       "    <tr>\n",
       "      <th>262</th>\n",
       "      <td>2017-06-03</td>\n",
       "      <td>12.54</td>\n",
       "      <td>NaN</td>\n",
       "    </tr>\n",
       "    <tr>\n",
       "      <th>263</th>\n",
       "      <td>2017-06-02</td>\n",
       "      <td>13.46</td>\n",
       "      <td>NaN</td>\n",
       "    </tr>\n",
       "    <tr>\n",
       "      <th>264</th>\n",
       "      <td>2017-06-01</td>\n",
       "      <td>7.79</td>\n",
       "      <td>NaN</td>\n",
       "    </tr>\n",
       "    <tr>\n",
       "      <th>265</th>\n",
       "      <td>2017-05-31</td>\n",
       "      <td>4.86</td>\n",
       "      <td>NaN</td>\n",
       "    </tr>\n",
       "    <tr>\n",
       "      <th>266</th>\n",
       "      <td>2017-05-30</td>\n",
       "      <td>4.65</td>\n",
       "      <td>NaN</td>\n",
       "    </tr>\n",
       "    <tr>\n",
       "      <th>267</th>\n",
       "      <td>2017-05-29</td>\n",
       "      <td>4.60</td>\n",
       "      <td>NaN</td>\n",
       "    </tr>\n",
       "    <tr>\n",
       "      <th>268</th>\n",
       "      <td>2017-05-28</td>\n",
       "      <td>4.62</td>\n",
       "      <td>NaN</td>\n",
       "    </tr>\n",
       "    <tr>\n",
       "      <th>269</th>\n",
       "      <td>2017-05-27</td>\n",
       "      <td>4.53</td>\n",
       "      <td>NaN</td>\n",
       "    </tr>\n",
       "    <tr>\n",
       "      <th>270</th>\n",
       "      <td>2017-05-26</td>\n",
       "      <td>4.10</td>\n",
       "      <td>NaN</td>\n",
       "    </tr>\n",
       "    <tr>\n",
       "      <th>271</th>\n",
       "      <td>2017-05-25</td>\n",
       "      <td>4.66</td>\n",
       "      <td>NaN</td>\n",
       "    </tr>\n",
       "    <tr>\n",
       "      <th>272</th>\n",
       "      <td>2017-05-24</td>\n",
       "      <td>6.19</td>\n",
       "      <td>NaN</td>\n",
       "    </tr>\n",
       "  </tbody>\n",
       "</table>\n",
       "<p>273 rows × 3 columns</p>\n",
       "</div>"
      ],
      "text/plain": [
       "          Date  Close          0\n",
       "0   2018-02-20  31.11  45.672691\n",
       "1   2018-02-19  32.66  56.389403\n",
       "2   2018-02-18  31.24  67.426989\n",
       "3   2018-02-17  33.56  44.783208\n",
       "4   2018-02-16  33.02  54.614589\n",
       "5   2018-02-15  33.06  61.663511\n",
       "6   2018-02-14  32.55  64.980276\n",
       "7   2018-02-13  30.11  49.702504\n",
       "8   2018-02-12  30.13  58.925057\n",
       "9   2018-02-11  27.48  58.421301\n",
       "10  2018-02-10  30.27  65.377479\n",
       "11  2018-02-09  31.16  59.749457\n",
       "12  2018-02-08  26.48  49.430838\n",
       "13  2018-02-07  21.78  69.304174\n",
       "14  2018-02-06  24.05  76.061828\n",
       "15  2018-02-05  20.54  67.554879\n",
       "16  2018-02-04  26.19  58.708236\n",
       "17  2018-02-03  29.93  62.557083\n",
       "18  2018-02-02  30.26  63.402267\n",
       "19  2018-02-01  35.68  62.438075\n",
       "20  2018-01-31  42.12  60.264452\n",
       "21  2018-01-30  37.33  50.892988\n",
       "22  2018-01-29  43.41  72.576564\n",
       "23  2018-01-28  43.76  65.301001\n",
       "24  2018-01-27  39.58  67.040702\n",
       "25  2018-01-26  39.70  58.272978\n",
       "26  2018-01-25  40.72  71.684235\n",
       "27  2018-01-24  40.51  73.138539\n",
       "28  2018-01-23  39.15  68.816002\n",
       "29  2018-01-22  39.97  69.984021\n",
       "..         ...    ...        ...\n",
       "243 2017-06-22  12.10        NaN\n",
       "244 2017-06-21  11.83        NaN\n",
       "245 2017-06-20  11.49        NaN\n",
       "246 2017-06-19  10.59        NaN\n",
       "247 2017-06-18  10.58        NaN\n",
       "248 2017-06-17  11.25        NaN\n",
       "249 2017-06-16  11.29        NaN\n",
       "250 2017-06-15  11.11        NaN\n",
       "251 2017-06-14  11.77        NaN\n",
       "252 2017-06-13  12.42        NaN\n",
       "253 2017-06-12  10.96        NaN\n",
       "254 2017-06-11  11.76        NaN\n",
       "255 2017-06-10  11.33        NaN\n",
       "256 2017-06-09  11.74        NaN\n",
       "257 2017-06-08  12.35        NaN\n",
       "258 2017-06-07  10.97        NaN\n",
       "259 2017-06-06  11.50        NaN\n",
       "260 2017-06-05  11.17        NaN\n",
       "261 2017-06-04  12.15        NaN\n",
       "262 2017-06-03  12.54        NaN\n",
       "263 2017-06-02  13.46        NaN\n",
       "264 2017-06-01   7.79        NaN\n",
       "265 2017-05-31   4.86        NaN\n",
       "266 2017-05-30   4.65        NaN\n",
       "267 2017-05-29   4.60        NaN\n",
       "268 2017-05-28   4.62        NaN\n",
       "269 2017-05-27   4.53        NaN\n",
       "270 2017-05-26   4.10        NaN\n",
       "271 2017-05-25   4.66        NaN\n",
       "272 2017-05-24   6.19        NaN\n",
       "\n",
       "[273 rows x 3 columns]"
      ]
     },
     "execution_count": 56,
     "metadata": {},
     "output_type": "execute_result"
    }
   ],
   "source": [
    "b"
   ]
  },
  {
   "cell_type": "code",
   "execution_count": 57,
   "metadata": {},
   "outputs": [
    {
     "data": {
      "text/plain": [
       "0"
      ]
     },
     "execution_count": 57,
     "metadata": {},
     "output_type": "execute_result"
    }
   ],
   "source": [
    "b.columns[2]"
   ]
  },
  {
   "cell_type": "code",
   "execution_count": 58,
   "metadata": {},
   "outputs": [
    {
     "data": {
      "image/png": "[encoded data removed]",
      "text/plain": [
       "<Figure size 864x576 with 1 Axes>"
      ]
     },
     "metadata": {},
     "output_type": "display_data"
    }
   ],
   "source": [
    "f, ax = plt.subplots(1,1, figsize=(12, 8))\n",
    "ax.plot(b['Date'], b['Close'], color='red', label='Qtum Curve')\n",
    "ax.plot(b['Date'], b[0], color='blue', label='Qtum VIX')\n",
    "ax.set_title('Qtum and Qtum VIX')\n",
    "ax.set_ylabel('Qtum price / Qtum VIX Price')\n",
    "ax.set_xlabel('Date')\n",
    "ax.legend();"
   ]
  },
  {
   "cell_type": "code",
   "execution_count": null,
   "metadata": {},
   "outputs": [],
   "source": []
  },
  {
   "cell_type": "code",
   "execution_count": null,
   "metadata": {},
   "outputs": [],
   "source": []
  },
  {
   "cell_type": "markdown",
   "metadata": {
    "collapsed": true
   },
   "source": [
    "# Parallelize\n",
    "\n",
    "These vix computations take several hours for each coin. Our team decided to do all the coins at once using a 36 Haskell core AWS CPU (2.9ghz) instance."
   ]
  },
  {
   "cell_type": "code",
   "execution_count": 62,
   "metadata": {},
   "outputs": [
    {
     "name": "stdout",
     "output_type": "stream",
     "text": [
      "36 cores\n"
     ]
    }
   ],
   "source": [
    "import multiprocessing\n",
    "\n",
    "print(multiprocessing.cpu_count(), 'cores')"
   ]
  },
  {
   "cell_type": "code",
   "execution_count": 65,
   "metadata": {
    "scrolled": true
   },
   "outputs": [
    {
     "name": "stdout",
     "output_type": "stream",
     "text": [
      "['ethereum', 'omisego', 'stratis', 'numeraire', 'neo', 'qtum', 'ripple', 'nem', 'dash', 'litecoin', 'bitcoin', 'bitconnect', 'waves', 'iota', 'monero']\n"
     ]
    }
   ],
   "source": [
    "coin_names = list(coins.keys())\n",
    "\n",
    "print(coin_names)"
   ]
  },
  {
   "cell_type": "code",
   "execution_count": null,
   "metadata": {},
   "outputs": [],
   "source": [
    "def coin_vix(coin, N_iter=4, N_paths=100):\n",
    "    # create vix for a given coin\n",
    "    \n",
    "    # for replicability\n",
    "    np.random.seed(109)\n",
    "    dates = coin.full_data['Date'][:-31]\n",
    "    vix = np.empty((len(dates,)))\n",
    "    \n",
    "    # create vix for each date\n",
    "    for i in tqdm.trange(len(dates,)):\n",
    "        \n",
    "        vix[i] = cryptoVix(coin, dates[i], 0, N_iter, N_paths)\n",
    "\n",
    "    out_series = pd.Series(vix)\n",
    "    out_series.index = dates\n",
    "    return out_series"
   ]
  },
  {
   "cell_type": "code",
   "execution_count": null,
   "metadata": {
    "scrolled": false
   },
   "outputs": [
    {
     "name": "stderr",
     "output_type": "stream",
     "text": [
      "  0%|          | 3/1026 [00:04<25:25,  1.49s/it]t]/home/ubuntu/anaconda3/lib/python3.6/site-packages/ipykernel/__main__.py:78: RuntimeWarning: invalid value encountered in sqrt\n",
      "  5%|▌         | 11/212 [00:09<02:58,  1.12it/s]t]/home/ubuntu/anaconda3/lib/python3.6/site-packages/ipykernel/__main__.py:78: RuntimeWarning: invalid value encountered in sqrt\n",
      "  9%|▉         | 21/222 [00:17<02:49,  1.19it/s]]]/home/ubuntu/anaconda3/lib/python3.6/site-packages/ipykernel/__main__.py:78: RuntimeWarning: invalid value encountered in sqrt\n",
      " 13%|█▎        | 29/222 [00:24<02:42,  1.19it/s]] /home/ubuntu/anaconda3/lib/python3.6/site-packages/ipykernel/__main__.py:78: RuntimeWarning: invalid value encountered in sqrt\n",
      "  7%|▋         | 37/527 [00:40<08:53,  1.09s/it]]/home/ubuntu/anaconda3/lib/python3.6/site-packages/ipykernel/__main__.py:78: RuntimeWarning: invalid value encountered in sqrt\n",
      "  7%|▋         | 42/598 [00:47<10:26,  1.13s/it]]/home/ubuntu/anaconda3/lib/python3.6/site-packages/ipykernel/__main__.py:78: RuntimeWarning: invalid value encountered in sqrt\n",
      " 16%|█▌        | 57/366 [00:53<04:49,  1.07it/s]]/home/ubuntu/anaconda3/lib/python3.6/site-packages/ipykernel/__main__.py:78: RuntimeWarning: invalid value encountered in sqrt\n",
      "  9%|▉         | 54/598 [01:00<10:13,  1.13s/it]]/home/ubuntu/anaconda3/lib/python3.6/site-packages/ipykernel/__main__.py:78: RuntimeWarning: invalid value encountered in sqrt\n",
      " 35%|███▌      | 78/222 [01:05<02:00,  1.19it/s]]/home/ubuntu/anaconda3/lib/python3.6/site-packages/ipykernel/__main__.py:78: RuntimeWarning: invalid value encountered in sqrt\n",
      " 31%|███▏      | 76/242 [01:06<02:24,  1.15it/s]]/home/ubuntu/anaconda3/lib/python3.6/site-packages/ipykernel/__main__.py:78: RuntimeWarning: invalid value encountered in sqrt\n",
      " 10%|█         | 62/598 [01:09<10:03,  1.13s/it]]/home/ubuntu/anaconda3/lib/python3.6/site-packages/ipykernel/__main__.py:78: RuntimeWarning: invalid value encountered in sqrt\n",
      "  5%|▍         | 65/1340 [01:50<36:11,  1.70s/it]/home/ubuntu/anaconda3/lib/python3.6/site-packages/ipykernel/__main__.py:78: RuntimeWarning: invalid value encountered in sqrt\n",
      " 75%|███████▌  | 144/191 [02:02<00:40,  1.17it/s]/home/ubuntu/anaconda3/lib/python3.6/site-packages/ipykernel/__main__.py:78: RuntimeWarning: invalid value encountered in sqrt\n",
      " 23%|██▎       | 117/499 [02:04<06:46,  1.06s/it]/home/ubuntu/anaconda3/lib/python3.6/site-packages/ipykernel/__main__.py:78: RuntimeWarning: invalid value encountered in sqrt\n",
      "  4%|▍         | 72/1631 [02:20<50:45,  1.95s/it]/home/ubuntu/anaconda3/lib/python3.6/site-packages/ipykernel/__main__.py:78: RuntimeWarning: invalid value encountered in sqrt\n",
      " 42%|████▏     | 155/366 [02:26<03:18,  1.06it/s]/home/ubuntu/crypto109/option_pricing.py:118: RuntimeWarning: Mean of empty slice\n",
      "  emp_price = np.nanmean(payout) * discount_factor\n",
      "100%|██████████| 182/182 [02:29<00:00,  1.22it/s]]\n",
      "  6%|▌         | 89/1437 [02:41<40:39,  1.81s/it]]/home/ubuntu/crypto109/option_pricing.py:118: RuntimeWarning: Mean of empty slice\n",
      "  emp_price = np.nanmean(payout) * discount_factor\n",
      "100%|██████████| 191/191 [02:43<00:00,  1.17it/s]]\n",
      "  6%|▌         | 91/1631 [02:58<50:15,  1.96s/it]]/home/ubuntu/crypto109/option_pricing.py:118: RuntimeWarning: Mean of empty slice\n",
      "  emp_price = np.nanmean(payout) * discount_factor\n",
      "100%|██████████| 212/212 [03:01<00:00,  1.17it/s]]\n",
      " 35%|███▍      | 174/499 [03:04<05:45,  1.06s/it]]/home/ubuntu/crypto109/option_pricing.py:118: RuntimeWarning: Mean of empty slice\n",
      "  emp_price = np.nanmean(payout) * discount_factor\n",
      " 33%|███▎      | 172/527 [03:07<06:26,  1.09s/it]]\n",
      " 60%|█████▉    | 219/366 [03:26<02:18,  1.06it/s]]/home/ubuntu/crypto109/option_pricing.py:118: RuntimeWarning: Mean of empty slice\n",
      "  emp_price = np.nanmean(payout) * discount_factor\n",
      "100%|██████████| 242/242 [03:29<00:00,  1.15it/s]]\n",
      " 11%|█         | 174/1631 [05:34<46:44,  1.93s/it]/home/ubuntu/crypto109/option_pricing.py:118: RuntimeWarning: Mean of empty slice\n",
      "  emp_price = np.nanmean(payout) * discount_factor\n",
      " 15%|█▌        | 201/1340 [05:37<31:54,  1.68s/it]/home/ubuntu/crypto109/option_pricing.py:132: RuntimeWarning: Mean of empty slice\n",
      "  if emp_price < np.nanmax([np.nanmean((K * discount_factor) - rps.iloc[-1, :]), 0]):\n",
      "/home/ubuntu/crypto109/option_pricing.py:124: RuntimeWarning: Mean of empty slice\n",
      "  if emp_price < np.nanmax([np.nanmean(rps.iloc[-1, :] - (K * discount_factor)), 0]):\n",
      "/home/ubuntu/crypto109/option_pricing.py:126: RuntimeWarning: Mean of empty slice\n",
      "  elif emp_price > np.nanmean(rps.iloc[-1, :]):\n",
      "100%|██████████| 366/366 [05:38<00:00,  1.08it/s]\n",
      " 35%|███▍      | 356/1026 [08:34<16:07,  1.44s/it]/home/ubuntu/crypto109/option_pricing.py:118: RuntimeWarning: Mean of empty slice\n",
      "  emp_price = np.nanmean(payout) * discount_factor\n",
      "100%|██████████| 499/499 [08:37<00:00,  1.04s/it]]\n",
      " 18%|█▊        | 289/1631 [09:11<42:43,  1.91s/it]/home/ubuntu/crypto109/option_pricing.py:118: RuntimeWarning: Mean of empty slice\n",
      "  emp_price = np.nanmean(payout) * discount_factor\n",
      "100%|██████████| 527/527 [09:14<00:00,  1.05s/it]]\n",
      " 19%|█▊        | 302/1631 [09:36<42:17,  1.91s/it]/home/ubuntu/crypto109/option_pricing.py:118: RuntimeWarning: Mean of empty slice\n",
      "  emp_price = np.nanmean(payout) * discount_factor\n",
      " 26%|██▌       | 345/1340 [09:39<27:50,  1.68s/it]/home/ubuntu/anaconda3/lib/python3.6/site-packages/ipykernel/__main__.py:80: RuntimeWarning: Mean of empty slice\n",
      "100%|██████████| 546/546 [09:39<00:00,  1.06s/it]\n",
      " 26%|██▌       | 372/1437 [10:51<31:05,  1.75s/it]/home/ubuntu/crypto109/option_pricing.py:118: RuntimeWarning: Mean of empty slice\n",
      "  emp_price = np.nanmean(payout) * discount_factor\n",
      "100%|██████████| 598/598 [10:54<00:00,  1.10s/it]]\n",
      " 22%|██▏       | 357/1631 [11:19<40:26,  1.90s/it]/home/ubuntu/anaconda3/lib/python3.6/site-packages/ipykernel/__main__.py:80: RuntimeWarning: Mean of empty slice\n",
      " 23%|██▎       | 406/1729 [13:15<43:12,  1.96s/it]/home/ubuntu/anaconda3/lib/python3.6/site-packages/ipykernel/__main__.py:80: RuntimeWarning: Mean of empty slice\n",
      " 76%|███████▋  | 784/1026 [18:43<05:46,  1.43s/it]/home/ubuntu/anaconda3/lib/python3.6/site-packages/ipykernel/__main__.py:80: RuntimeWarning: Mean of empty slice\n",
      " 58%|█████▊    | 837/1437 [24:26<17:31,  1.75s/it]]/home/ubuntu/crypto109/option_pricing.py:118: RuntimeWarning: Mean of empty slice\n",
      "  emp_price = np.nanmean(payout) * discount_factor\n",
      " 58%|█████▊    | 838/1437 [24:27<17:29,  1.75s/it]]/home/ubuntu/crypto109/option_pricing.py:124: RuntimeWarning: Mean of empty slice\n",
      "  if emp_price < np.nanmax([np.nanmean(rps.iloc[-1, :] - (K * discount_factor)), 0]):\n",
      "/home/ubuntu/crypto109/option_pricing.py:126: RuntimeWarning: Mean of empty slice\n",
      "  elif emp_price > np.nanmean(rps.iloc[-1, :]):\n",
      "100%|██████████| 1026/1026 [24:29<00:00,  1.43s/it]\n",
      " 99%|█████████▉| 1326/1340 [36:47<00:23,  1.66s/it]"
     ]
    },
    {
     "name": "stdout",
     "output_type": "stream",
     "text": [
      "ERROR: lookback window not possible with current start date\n"
     ]
    },
    {
     "name": "stderr",
     "output_type": "stream",
     "text": [
      " 81%|████████▏ | 1329/1631 [41:40<09:28,  1.88s/it]/home/ubuntu/crypto109/option_pricing.py:118: RuntimeWarning: Mean of empty slice\n",
      "  emp_price = np.nanmean(payout) * discount_factor\n",
      "100%|██████████| 1437/1437 [41:46<00:00,  1.74s/it]\n",
      "100%|█████████▉| 1626/1631 [50:50<00:09,  1.88s/it]/home/ubuntu/crypto109/option_pricing.py:118: RuntimeWarning: Mean of empty slice\n",
      "  emp_price = np.nanmean(payout) * discount_factor\n",
      "100%|██████████| 1631/1631 [50:59<00:00,  1.88s/it]\n",
      "100%|█████████▉| 1726/1729 [55:28<00:05,  1.93s/it]/home/ubuntu/crypto109/option_pricing.py:118: RuntimeWarning: Mean of empty slice\n",
      "  emp_price = np.nanmean(payout) * discount_factor\n",
      "100%|██████████| 1729/1729 [55:34<00:00,  1.93s/it]\n",
      "Process ForkPoolWorker-60:\n",
      "Process ForkPoolWorker-54:\n",
      "Process ForkPoolWorker-50:\n",
      "Process ForkPoolWorker-79:\n",
      "Process ForkPoolWorker-80:\n",
      "Process ForkPoolWorker-71:\n",
      "Process ForkPoolWorker-70:\n",
      "Process ForkPoolWorker-49:\n",
      "Process ForkPoolWorker-69:\n",
      "Process ForkPoolWorker-67:\n",
      "Process ForkPoolWorker-76:\n",
      "Process ForkPoolWorker-72:\n",
      "Process ForkPoolWorker-64:\n",
      "Process ForkPoolWorker-77:\n",
      "Process ForkPoolWorker-68:\n",
      "Process ForkPoolWorker-73:\n",
      "Process ForkPoolWorker-74:\n",
      "Process ForkPoolWorker-58:\n",
      "Process ForkPoolWorker-55:\n",
      "Process ForkPoolWorker-52:\n",
      "Traceback (most recent call last):\n",
      "Process ForkPoolWorker-78:\n",
      "Process ForkPoolWorker-53:\n",
      "Process ForkPoolWorker-63:\n",
      "Process ForkPoolWorker-51:\n",
      "Traceback (most recent call last):\n",
      "Process ForkPoolWorker-59:\n",
      "Process ForkPoolWorker-57:\n",
      "Process ForkPoolWorker-48:\n",
      "Traceback (most recent call last):\n",
      "Traceback (most recent call last):\n",
      "  File \"/home/ubuntu/anaconda3/lib/python3.6/multiprocessing/process.py\", line 258, in _bootstrap\n",
      "    self.run()\n",
      "Traceback (most recent call last):\n",
      "Process ForkPoolWorker-75:\n",
      "Process ForkPoolWorker-56:\n",
      "Traceback (most recent call last):\n",
      "  File \"/home/ubuntu/anaconda3/lib/python3.6/multiprocessing/process.py\", line 258, in _bootstrap\n",
      "    self.run()\n",
      "Traceback (most recent call last):\n",
      "Traceback (most recent call last):\n",
      "Process ForkPoolWorker-61:\n",
      "  File \"/home/ubuntu/anaconda3/lib/python3.6/multiprocessing/process.py\", line 258, in _bootstrap\n",
      "    self.run()\n",
      "Traceback (most recent call last):\n",
      "Traceback (most recent call last):\n",
      "Process ForkPoolWorker-66:\n",
      "Process ForkPoolWorker-65:\n",
      "Traceback (most recent call last):\n",
      "Traceback (most recent call last):\n",
      "Traceback (most recent call last):\n",
      "Traceback (most recent call last):\n",
      "Traceback (most recent call last):\n",
      "Traceback (most recent call last):\n",
      "  File \"/home/ubuntu/anaconda3/lib/python3.6/multiprocessing/process.py\", line 258, in _bootstrap\n",
      "    self.run()\n",
      "Traceback (most recent call last):\n",
      "Traceback (most recent call last):\n",
      "Traceback (most recent call last):\n",
      "Traceback (most recent call last):\n",
      "Traceback (most recent call last):\n",
      "Traceback (most recent call last):\n",
      "Traceback (most recent call last):\n",
      "Traceback (most recent call last):\n",
      "Traceback (most recent call last):\n",
      "Traceback (most recent call last):\n",
      "Traceback (most recent call last):\n",
      "Traceback (most recent call last):\n",
      "  File \"/home/ubuntu/anaconda3/lib/python3.6/multiprocessing/process.py\", line 258, in _bootstrap\n",
      "    self.run()\n",
      "  File \"/home/ubuntu/anaconda3/lib/python3.6/multiprocessing/process.py\", line 93, in run\n",
      "    self._target(*self._args, **self._kwargs)\n",
      "  File \"/home/ubuntu/anaconda3/lib/python3.6/multiprocessing/process.py\", line 258, in _bootstrap\n",
      "    self.run()\n",
      "  File \"/home/ubuntu/anaconda3/lib/python3.6/multiprocessing/process.py\", line 258, in _bootstrap\n",
      "    self.run()\n",
      "  File \"/home/ubuntu/anaconda3/lib/python3.6/multiprocessing/process.py\", line 93, in run\n",
      "    self._target(*self._args, **self._kwargs)\n",
      "  File \"/home/ubuntu/anaconda3/lib/python3.6/multiprocessing/process.py\", line 258, in _bootstrap\n",
      "    self.run()\n",
      "  File \"/home/ubuntu/anaconda3/lib/python3.6/multiprocessing/process.py\", line 93, in run\n",
      "    self._target(*self._args, **self._kwargs)\n",
      "  File \"/home/ubuntu/anaconda3/lib/python3.6/multiprocessing/process.py\", line 258, in _bootstrap\n",
      "    self.run()\n",
      "  File \"/home/ubuntu/anaconda3/lib/python3.6/multiprocessing/process.py\", line 258, in _bootstrap\n",
      "    self.run()\n",
      "  File \"/home/ubuntu/anaconda3/lib/python3.6/multiprocessing/process.py\", line 258, in _bootstrap\n",
      "    self.run()\n",
      "  File \"/home/ubuntu/anaconda3/lib/python3.6/multiprocessing/process.py\", line 258, in _bootstrap\n",
      "    self.run()\n",
      "Traceback (most recent call last):\n",
      "  File \"/home/ubuntu/anaconda3/lib/python3.6/multiprocessing/process.py\", line 258, in _bootstrap\n",
      "    self.run()\n",
      "  File \"/home/ubuntu/anaconda3/lib/python3.6/multiprocessing/process.py\", line 258, in _bootstrap\n",
      "    self.run()\n",
      "  File \"/home/ubuntu/anaconda3/lib/python3.6/multiprocessing/process.py\", line 258, in _bootstrap\n",
      "    self.run()\n",
      "  File \"/home/ubuntu/anaconda3/lib/python3.6/multiprocessing/process.py\", line 93, in run\n",
      "    self._target(*self._args, **self._kwargs)\n",
      "  File \"/home/ubuntu/anaconda3/lib/python3.6/multiprocessing/process.py\", line 258, in _bootstrap\n",
      "    self.run()\n",
      "  File \"/home/ubuntu/anaconda3/lib/python3.6/multiprocessing/process.py\", line 258, in _bootstrap\n",
      "    self.run()\n",
      "Traceback (most recent call last):\n",
      "  File \"/home/ubuntu/anaconda3/lib/python3.6/multiprocessing/process.py\", line 258, in _bootstrap\n",
      "    self.run()\n",
      "  File \"/home/ubuntu/anaconda3/lib/python3.6/multiprocessing/process.py\", line 258, in _bootstrap\n",
      "    self.run()\n",
      "Traceback (most recent call last):\n",
      "  File \"/home/ubuntu/anaconda3/lib/python3.6/multiprocessing/process.py\", line 258, in _bootstrap\n",
      "    self.run()\n",
      "  File \"/home/ubuntu/anaconda3/lib/python3.6/multiprocessing/process.py\", line 258, in _bootstrap\n",
      "    self.run()\n",
      "  File \"/home/ubuntu/anaconda3/lib/python3.6/multiprocessing/process.py\", line 258, in _bootstrap\n",
      "    self.run()\n",
      "  File \"/home/ubuntu/anaconda3/lib/python3.6/multiprocessing/process.py\", line 258, in _bootstrap\n",
      "    self.run()\n",
      "  File \"/home/ubuntu/anaconda3/lib/python3.6/multiprocessing/process.py\", line 258, in _bootstrap\n",
      "    self.run()\n",
      "Traceback (most recent call last):\n",
      "  File \"/home/ubuntu/anaconda3/lib/python3.6/multiprocessing/process.py\", line 258, in _bootstrap\n",
      "    self.run()\n",
      "  File \"/home/ubuntu/anaconda3/lib/python3.6/multiprocessing/process.py\", line 258, in _bootstrap\n",
      "    self.run()\n",
      "  File \"/home/ubuntu/anaconda3/lib/python3.6/multiprocessing/process.py\", line 258, in _bootstrap\n",
      "    self.run()\n",
      "  File \"/home/ubuntu/anaconda3/lib/python3.6/multiprocessing/pool.py\", line 108, in worker\n",
      "    task = get()\n",
      "  File \"/home/ubuntu/anaconda3/lib/python3.6/multiprocessing/process.py\", line 258, in _bootstrap\n",
      "    self.run()\n",
      "  File \"/home/ubuntu/anaconda3/lib/python3.6/multiprocessing/process.py\", line 93, in run\n",
      "    self._target(*self._args, **self._kwargs)\n",
      "  File \"/home/ubuntu/anaconda3/lib/python3.6/multiprocessing/process.py\", line 93, in run\n",
      "    self._target(*self._args, **self._kwargs)\n",
      "  File \"/home/ubuntu/anaconda3/lib/python3.6/multiprocessing/process.py\", line 93, in run\n",
      "    self._target(*self._args, **self._kwargs)\n",
      "  File \"/home/ubuntu/anaconda3/lib/python3.6/multiprocessing/pool.py\", line 108, in worker\n",
      "    task = get()\n",
      "  File \"/home/ubuntu/anaconda3/lib/python3.6/multiprocessing/process.py\", line 93, in run\n",
      "    self._target(*self._args, **self._kwargs)\n",
      "  File \"/home/ubuntu/anaconda3/lib/python3.6/multiprocessing/process.py\", line 93, in run\n",
      "    self._target(*self._args, **self._kwargs)\n",
      "  File \"/home/ubuntu/anaconda3/lib/python3.6/multiprocessing/process.py\", line 93, in run\n",
      "    self._target(*self._args, **self._kwargs)\n",
      "  File \"/home/ubuntu/anaconda3/lib/python3.6/multiprocessing/pool.py\", line 108, in worker\n",
      "    task = get()\n",
      "  File \"/home/ubuntu/anaconda3/lib/python3.6/multiprocessing/process.py\", line 93, in run\n",
      "    self._target(*self._args, **self._kwargs)\n",
      "  File \"/home/ubuntu/anaconda3/lib/python3.6/multiprocessing/process.py\", line 93, in run\n",
      "    self._target(*self._args, **self._kwargs)\n",
      "  File \"/home/ubuntu/anaconda3/lib/python3.6/multiprocessing/process.py\", line 258, in _bootstrap\n",
      "    self.run()\n",
      "  File \"/home/ubuntu/anaconda3/lib/python3.6/multiprocessing/process.py\", line 93, in run\n",
      "    self._target(*self._args, **self._kwargs)\n",
      "  File \"/home/ubuntu/anaconda3/lib/python3.6/multiprocessing/process.py\", line 93, in run\n",
      "    self._target(*self._args, **self._kwargs)\n"
     ]
    },
    {
     "name": "stderr",
     "output_type": "stream",
     "text": [
      "  File \"/home/ubuntu/anaconda3/lib/python3.6/multiprocessing/process.py\", line 93, in run\n",
      "    self._target(*self._args, **self._kwargs)\n",
      "  File \"/home/ubuntu/anaconda3/lib/python3.6/multiprocessing/pool.py\", line 108, in worker\n",
      "    task = get()\n",
      "  File \"/home/ubuntu/anaconda3/lib/python3.6/multiprocessing/process.py\", line 93, in run\n",
      "    self._target(*self._args, **self._kwargs)\n",
      "  File \"/home/ubuntu/anaconda3/lib/python3.6/multiprocessing/process.py\", line 93, in run\n",
      "    self._target(*self._args, **self._kwargs)\n",
      "  File \"/home/ubuntu/anaconda3/lib/python3.6/multiprocessing/process.py\", line 93, in run\n",
      "    self._target(*self._args, **self._kwargs)\n",
      "  File \"/home/ubuntu/anaconda3/lib/python3.6/multiprocessing/process.py\", line 93, in run\n",
      "    self._target(*self._args, **self._kwargs)\n",
      "  File \"/home/ubuntu/anaconda3/lib/python3.6/multiprocessing/process.py\", line 258, in _bootstrap\n",
      "    self.run()\n",
      "  File \"/home/ubuntu/anaconda3/lib/python3.6/multiprocessing/process.py\", line 93, in run\n",
      "    self._target(*self._args, **self._kwargs)\n",
      "  File \"/home/ubuntu/anaconda3/lib/python3.6/multiprocessing/process.py\", line 93, in run\n",
      "    self._target(*self._args, **self._kwargs)\n",
      "  File \"/home/ubuntu/anaconda3/lib/python3.6/multiprocessing/process.py\", line 258, in _bootstrap\n",
      "    self.run()\n",
      "  File \"/home/ubuntu/anaconda3/lib/python3.6/multiprocessing/process.py\", line 258, in _bootstrap\n",
      "    self.run()\n",
      "  File \"/home/ubuntu/anaconda3/lib/python3.6/multiprocessing/process.py\", line 93, in run\n",
      "    self._target(*self._args, **self._kwargs)\n",
      "  File \"/home/ubuntu/anaconda3/lib/python3.6/multiprocessing/process.py\", line 93, in run\n",
      "    self._target(*self._args, **self._kwargs)\n",
      "  File \"/home/ubuntu/anaconda3/lib/python3.6/multiprocessing/process.py\", line 93, in run\n",
      "    self._target(*self._args, **self._kwargs)\n",
      "  File \"/home/ubuntu/anaconda3/lib/python3.6/multiprocessing/process.py\", line 93, in run\n",
      "    self._target(*self._args, **self._kwargs)\n",
      "  File \"/home/ubuntu/anaconda3/lib/python3.6/multiprocessing/process.py\", line 93, in run\n",
      "    self._target(*self._args, **self._kwargs)\n",
      "  File \"/home/ubuntu/anaconda3/lib/python3.6/multiprocessing/process.py\", line 93, in run\n",
      "    self._target(*self._args, **self._kwargs)\n",
      "  File \"/home/ubuntu/anaconda3/lib/python3.6/multiprocessing/pool.py\", line 108, in worker\n",
      "    task = get()\n",
      "  File \"/home/ubuntu/anaconda3/lib/python3.6/multiprocessing/process.py\", line 93, in run\n",
      "    self._target(*self._args, **self._kwargs)\n",
      "  File \"/home/ubuntu/anaconda3/lib/python3.6/multiprocessing/queues.py\", line 334, in get\n",
      "    with self._rlock:\n",
      "  File \"/home/ubuntu/anaconda3/lib/python3.6/multiprocessing/pool.py\", line 108, in worker\n",
      "    task = get()\n",
      "  File \"/home/ubuntu/anaconda3/lib/python3.6/multiprocessing/pool.py\", line 108, in worker\n",
      "    task = get()\n",
      "  File \"/home/ubuntu/anaconda3/lib/python3.6/multiprocessing/pool.py\", line 108, in worker\n",
      "    task = get()\n",
      "  File \"/home/ubuntu/anaconda3/lib/python3.6/multiprocessing/queues.py\", line 334, in get\n",
      "    with self._rlock:\n",
      "  File \"/home/ubuntu/anaconda3/lib/python3.6/multiprocessing/pool.py\", line 108, in worker\n",
      "    task = get()\n",
      "  File \"/home/ubuntu/anaconda3/lib/python3.6/multiprocessing/queues.py\", line 334, in get\n",
      "    with self._rlock:\n",
      "  File \"/home/ubuntu/anaconda3/lib/python3.6/multiprocessing/pool.py\", line 108, in worker\n",
      "    task = get()\n",
      "  File \"/home/ubuntu/anaconda3/lib/python3.6/multiprocessing/pool.py\", line 108, in worker\n",
      "    task = get()\n",
      "  File \"/home/ubuntu/anaconda3/lib/python3.6/multiprocessing/pool.py\", line 108, in worker\n",
      "    task = get()\n",
      "  File \"/home/ubuntu/anaconda3/lib/python3.6/multiprocessing/pool.py\", line 108, in worker\n",
      "    task = get()\n",
      "  File \"/home/ubuntu/anaconda3/lib/python3.6/multiprocessing/pool.py\", line 108, in worker\n",
      "    task = get()\n",
      "  File \"/home/ubuntu/anaconda3/lib/python3.6/multiprocessing/process.py\", line 93, in run\n",
      "    self._target(*self._args, **self._kwargs)\n",
      "  File \"/home/ubuntu/anaconda3/lib/python3.6/multiprocessing/queues.py\", line 334, in get\n",
      "    with self._rlock:\n",
      "  File \"/home/ubuntu/anaconda3/lib/python3.6/multiprocessing/pool.py\", line 108, in worker\n",
      "    task = get()\n",
      "  File \"/home/ubuntu/anaconda3/lib/python3.6/multiprocessing/pool.py\", line 108, in worker\n",
      "    task = get()\n",
      "  File \"/home/ubuntu/anaconda3/lib/python3.6/multiprocessing/pool.py\", line 108, in worker\n",
      "    task = get()\n",
      "  File \"/home/ubuntu/anaconda3/lib/python3.6/multiprocessing/pool.py\", line 108, in worker\n",
      "    task = get()\n",
      "  File \"/home/ubuntu/anaconda3/lib/python3.6/multiprocessing/pool.py\", line 108, in worker\n",
      "    task = get()\n",
      "  File \"/home/ubuntu/anaconda3/lib/python3.6/multiprocessing/pool.py\", line 108, in worker\n",
      "    task = get()\n",
      "  File \"/home/ubuntu/anaconda3/lib/python3.6/multiprocessing/process.py\", line 93, in run\n",
      "    self._target(*self._args, **self._kwargs)\n",
      "  File \"/home/ubuntu/anaconda3/lib/python3.6/multiprocessing/pool.py\", line 108, in worker\n",
      "    task = get()\n",
      "  File \"/home/ubuntu/anaconda3/lib/python3.6/multiprocessing/process.py\", line 93, in run\n",
      "    self._target(*self._args, **self._kwargs)\n",
      "  File \"/home/ubuntu/anaconda3/lib/python3.6/multiprocessing/pool.py\", line 108, in worker\n",
      "    task = get()\n",
      "  File \"/home/ubuntu/anaconda3/lib/python3.6/multiprocessing/process.py\", line 93, in run\n",
      "    self._target(*self._args, **self._kwargs)\n",
      "  File \"/home/ubuntu/anaconda3/lib/python3.6/multiprocessing/pool.py\", line 108, in worker\n",
      "    task = get()\n",
      "  File \"/home/ubuntu/anaconda3/lib/python3.6/multiprocessing/pool.py\", line 108, in worker\n",
      "    task = get()\n",
      "  File \"/home/ubuntu/anaconda3/lib/python3.6/multiprocessing/pool.py\", line 108, in worker\n",
      "    task = get()\n",
      "  File \"/home/ubuntu/anaconda3/lib/python3.6/multiprocessing/synchronize.py\", line 96, in __enter__\n",
      "    return self._semlock.__enter__()\n",
      "  File \"/home/ubuntu/anaconda3/lib/python3.6/multiprocessing/pool.py\", line 108, in worker\n",
      "    task = get()\n",
      "  File \"/home/ubuntu/anaconda3/lib/python3.6/multiprocessing/queues.py\", line 334, in get\n",
      "    with self._rlock:\n",
      "  File \"/home/ubuntu/anaconda3/lib/python3.6/multiprocessing/pool.py\", line 108, in worker\n",
      "    task = get()\n",
      "  File \"/home/ubuntu/anaconda3/lib/python3.6/multiprocessing/queues.py\", line 334, in get\n",
      "    with self._rlock:\n",
      "  File \"/home/ubuntu/anaconda3/lib/python3.6/multiprocessing/queues.py\", line 334, in get\n",
      "    with self._rlock:\n",
      "  File \"/home/ubuntu/anaconda3/lib/python3.6/multiprocessing/pool.py\", line 108, in worker\n",
      "    task = get()\n",
      "  File \"/home/ubuntu/anaconda3/lib/python3.6/multiprocessing/queues.py\", line 334, in get\n",
      "    with self._rlock:\n",
      "  File \"/home/ubuntu/anaconda3/lib/python3.6/multiprocessing/synchronize.py\", line 96, in __enter__\n",
      "    return self._semlock.__enter__()\n",
      "  File \"/home/ubuntu/anaconda3/lib/python3.6/multiprocessing/synchronize.py\", line 96, in __enter__\n",
      "    return self._semlock.__enter__()\n",
      "  File \"/home/ubuntu/anaconda3/lib/python3.6/multiprocessing/queues.py\", line 334, in get\n",
      "    with self._rlock:\n",
      "  File \"/home/ubuntu/anaconda3/lib/python3.6/multiprocessing/queues.py\", line 334, in get\n",
      "    with self._rlock:\n",
      "  File \"/home/ubuntu/anaconda3/lib/python3.6/multiprocessing/queues.py\", line 334, in get\n",
      "    with self._rlock:\n",
      "  File \"/home/ubuntu/anaconda3/lib/python3.6/multiprocessing/queues.py\", line 334, in get\n",
      "    with self._rlock:\n",
      "  File \"/home/ubuntu/anaconda3/lib/python3.6/multiprocessing/pool.py\", line 108, in worker\n",
      "    task = get()\n",
      "  File \"/home/ubuntu/anaconda3/lib/python3.6/multiprocessing/queues.py\", line 334, in get\n",
      "    with self._rlock:\n",
      "  File \"/home/ubuntu/anaconda3/lib/python3.6/multiprocessing/queues.py\", line 334, in get\n",
      "    with self._rlock:\n",
      "  File \"/home/ubuntu/anaconda3/lib/python3.6/multiprocessing/queues.py\", line 334, in get\n",
      "    with self._rlock:\n",
      "  File \"/home/ubuntu/anaconda3/lib/python3.6/multiprocessing/synchronize.py\", line 96, in __enter__\n",
      "    return self._semlock.__enter__()\n",
      "  File \"/home/ubuntu/anaconda3/lib/python3.6/multiprocessing/queues.py\", line 334, in get\n",
      "    with self._rlock:\n",
      "  File \"/home/ubuntu/anaconda3/lib/python3.6/multiprocessing/queues.py\", line 334, in get\n",
      "    with self._rlock:\n",
      "  File \"/home/ubuntu/anaconda3/lib/python3.6/multiprocessing/queues.py\", line 334, in get\n",
      "    with self._rlock:\n",
      "  File \"/home/ubuntu/anaconda3/lib/python3.6/multiprocessing/queues.py\", line 334, in get\n",
      "    with self._rlock:\n"
     ]
    },
    {
     "name": "stderr",
     "output_type": "stream",
     "text": [
      "  File \"/home/ubuntu/anaconda3/lib/python3.6/multiprocessing/pool.py\", line 108, in worker\n",
      "    task = get()\n",
      "  File \"/home/ubuntu/anaconda3/lib/python3.6/multiprocessing/pool.py\", line 108, in worker\n",
      "    task = get()\n",
      "  File \"/home/ubuntu/anaconda3/lib/python3.6/multiprocessing/queues.py\", line 334, in get\n",
      "    with self._rlock:\n",
      "  File \"/home/ubuntu/anaconda3/lib/python3.6/multiprocessing/queues.py\", line 334, in get\n",
      "    with self._rlock:\n",
      "  File \"/home/ubuntu/anaconda3/lib/python3.6/multiprocessing/queues.py\", line 335, in get\n",
      "    res = self._reader.recv_bytes()\n",
      "  File \"/home/ubuntu/anaconda3/lib/python3.6/multiprocessing/queues.py\", line 334, in get\n",
      "    with self._rlock:\n",
      "  File \"/home/ubuntu/anaconda3/lib/python3.6/multiprocessing/pool.py\", line 108, in worker\n",
      "    task = get()\n",
      "  File \"/home/ubuntu/anaconda3/lib/python3.6/multiprocessing/queues.py\", line 334, in get\n",
      "    with self._rlock:\n",
      "  File \"/home/ubuntu/anaconda3/lib/python3.6/multiprocessing/queues.py\", line 334, in get\n",
      "    with self._rlock:\n",
      "  File \"/home/ubuntu/anaconda3/lib/python3.6/multiprocessing/queues.py\", line 334, in get\n",
      "    with self._rlock:\n",
      "KeyboardInterrupt\n",
      "  File \"/home/ubuntu/anaconda3/lib/python3.6/multiprocessing/queues.py\", line 334, in get\n",
      "    with self._rlock:\n",
      "  File \"/home/ubuntu/anaconda3/lib/python3.6/multiprocessing/queues.py\", line 334, in get\n",
      "    with self._rlock:\n",
      "  File \"/home/ubuntu/anaconda3/lib/python3.6/multiprocessing/synchronize.py\", line 96, in __enter__\n",
      "    return self._semlock.__enter__()\n",
      "  File \"/home/ubuntu/anaconda3/lib/python3.6/multiprocessing/synchronize.py\", line 96, in __enter__\n",
      "    return self._semlock.__enter__()\n",
      "  File \"/home/ubuntu/anaconda3/lib/python3.6/multiprocessing/synchronize.py\", line 96, in __enter__\n",
      "    return self._semlock.__enter__()\n",
      "  File \"/home/ubuntu/anaconda3/lib/python3.6/multiprocessing/synchronize.py\", line 96, in __enter__\n",
      "    return self._semlock.__enter__()\n",
      "KeyboardInterrupt\n",
      "KeyboardInterrupt\n",
      "  File \"/home/ubuntu/anaconda3/lib/python3.6/multiprocessing/synchronize.py\", line 96, in __enter__\n",
      "    return self._semlock.__enter__()\n",
      "  File \"/home/ubuntu/anaconda3/lib/python3.6/multiprocessing/synchronize.py\", line 96, in __enter__\n",
      "    return self._semlock.__enter__()\n",
      "  File \"/home/ubuntu/anaconda3/lib/python3.6/multiprocessing/queues.py\", line 334, in get\n",
      "    with self._rlock:\n",
      "  File \"/home/ubuntu/anaconda3/lib/python3.6/multiprocessing/synchronize.py\", line 96, in __enter__\n",
      "    return self._semlock.__enter__()\n",
      "  File \"/home/ubuntu/anaconda3/lib/python3.6/multiprocessing/synchronize.py\", line 96, in __enter__\n",
      "    return self._semlock.__enter__()\n",
      "  File \"/home/ubuntu/anaconda3/lib/python3.6/multiprocessing/synchronize.py\", line 96, in __enter__\n",
      "    return self._semlock.__enter__()\n",
      "KeyboardInterrupt\n",
      "  File \"/home/ubuntu/anaconda3/lib/python3.6/multiprocessing/synchronize.py\", line 96, in __enter__\n",
      "    return self._semlock.__enter__()\n",
      "  File \"/home/ubuntu/anaconda3/lib/python3.6/multiprocessing/synchronize.py\", line 96, in __enter__\n",
      "    return self._semlock.__enter__()\n",
      "  File \"/home/ubuntu/anaconda3/lib/python3.6/multiprocessing/synchronize.py\", line 96, in __enter__\n",
      "    return self._semlock.__enter__()\n",
      "  File \"/home/ubuntu/anaconda3/lib/python3.6/multiprocessing/synchronize.py\", line 96, in __enter__\n",
      "    return self._semlock.__enter__()\n",
      "  File \"/home/ubuntu/anaconda3/lib/python3.6/multiprocessing/synchronize.py\", line 96, in __enter__\n",
      "    return self._semlock.__enter__()\n",
      "  File \"/home/ubuntu/anaconda3/lib/python3.6/multiprocessing/queues.py\", line 334, in get\n",
      "    with self._rlock:\n",
      "  File \"/home/ubuntu/anaconda3/lib/python3.6/multiprocessing/queues.py\", line 334, in get\n",
      "    with self._rlock:\n",
      "  File \"/home/ubuntu/anaconda3/lib/python3.6/multiprocessing/synchronize.py\", line 96, in __enter__\n",
      "    return self._semlock.__enter__()\n",
      "  File \"/home/ubuntu/anaconda3/lib/python3.6/multiprocessing/synchronize.py\", line 96, in __enter__\n",
      "    return self._semlock.__enter__()\n",
      "  File \"/home/ubuntu/anaconda3/lib/python3.6/multiprocessing/synchronize.py\", line 96, in __enter__\n",
      "    return self._semlock.__enter__()\n",
      "  File \"/home/ubuntu/anaconda3/lib/python3.6/multiprocessing/connection.py\", line 216, in recv_bytes\n",
      "    buf = self._recv_bytes(maxlength)\n",
      "  File \"/home/ubuntu/anaconda3/lib/python3.6/multiprocessing/synchronize.py\", line 96, in __enter__\n",
      "    return self._semlock.__enter__()\n",
      "  File \"/home/ubuntu/anaconda3/lib/python3.6/multiprocessing/queues.py\", line 334, in get\n",
      "    with self._rlock:\n",
      "  File \"/home/ubuntu/anaconda3/lib/python3.6/multiprocessing/synchronize.py\", line 96, in __enter__\n",
      "    return self._semlock.__enter__()\n",
      "  File \"/home/ubuntu/anaconda3/lib/python3.6/multiprocessing/synchronize.py\", line 96, in __enter__\n",
      "    return self._semlock.__enter__()\n",
      "  File \"/home/ubuntu/anaconda3/lib/python3.6/multiprocessing/synchronize.py\", line 96, in __enter__\n",
      "    return self._semlock.__enter__()\n",
      "KeyboardInterrupt\n",
      "  File \"/home/ubuntu/anaconda3/lib/python3.6/multiprocessing/synchronize.py\", line 96, in __enter__\n",
      "    return self._semlock.__enter__()\n",
      "  File \"/home/ubuntu/anaconda3/lib/python3.6/multiprocessing/synchronize.py\", line 96, in __enter__\n",
      "    return self._semlock.__enter__()\n",
      "KeyboardInterrupt\n",
      "KeyboardInterrupt\n",
      "KeyboardInterrupt\n",
      "KeyboardInterrupt\n",
      "  File \"/home/ubuntu/anaconda3/lib/python3.6/multiprocessing/synchronize.py\", line 96, in __enter__\n",
      "    return self._semlock.__enter__()\n",
      "KeyboardInterrupt\n",
      "KeyboardInterrupt\n",
      "KeyboardInterrupt\n",
      "KeyboardInterrupt\n",
      "KeyboardInterrupt\n",
      "KeyboardInterrupt\n",
      "KeyboardInterrupt\n",
      "KeyboardInterrupt\n",
      "  File \"/home/ubuntu/anaconda3/lib/python3.6/multiprocessing/synchronize.py\", line 96, in __enter__\n",
      "    return self._semlock.__enter__()\n",
      "  File \"/home/ubuntu/anaconda3/lib/python3.6/multiprocessing/synchronize.py\", line 96, in __enter__\n",
      "    return self._semlock.__enter__()\n",
      "KeyboardInterrupt\n",
      "KeyboardInterrupt\n",
      "KeyboardInterrupt\n",
      "  File \"/home/ubuntu/anaconda3/lib/python3.6/multiprocessing/connection.py\", line 407, in _recv_bytes\n",
      "    buf = self._recv(4)\n",
      "KeyboardInterrupt\n",
      "  File \"/home/ubuntu/anaconda3/lib/python3.6/multiprocessing/connection.py\", line 379, in _recv\n",
      "    chunk = read(handle, remaining)\n",
      "KeyboardInterrupt\n",
      "KeyboardInterrupt\n",
      "KeyboardInterrupt\n",
      "KeyboardInterrupt\n",
      "KeyboardInterrupt\n",
      "KeyboardInterrupt\n",
      "KeyboardInterrupt\n",
      "KeyboardInterrupt\n",
      "KeyboardInterrupt\n",
      "KeyboardInterrupt\n",
      "  File \"/home/ubuntu/anaconda3/lib/python3.6/multiprocessing/synchronize.py\", line 96, in __enter__\n",
      "    return self._semlock.__enter__()\n",
      "KeyboardInterrupt\n"
     ]
    }
   ],
   "source": [
    "\n",
    "\n",
    "def f(coin_name):\n",
    "    return coin_vix(coins[coin_name], N_iter=4, N_paths=2)\n",
    "\n",
    "coin_vixes = []\n",
    "\n",
    "if __name__ == '__main__':\n",
    "    with multiprocessing.Pool(32) as p:\n",
    "        coin_vixes = (p.map(f, coin_names))"
   ]
  },
  {
   "cell_type": "code",
   "execution_count": null,
   "metadata": {},
   "outputs": [],
   "source": [
    "print(vixes)"
   ]
  },
  {
   "cell_type": "code",
   "execution_count": null,
   "metadata": {},
   "outputs": [],
   "source": [
    "print('done')"
   ]
  },
  {
   "cell_type": "code",
   "execution_count": null,
   "metadata": {},
   "outputs": [],
   "source": [
    "# store objects in file\n",
    "\n",
    "def save_object(obj, filename):\n",
    "    with open(filename, 'wb') as output:  # Overwrites any existing file.\n",
    "        pickle.dump(obj, output, pickle.HIGHEST_PROTOCOL)\n"
   ]
  },
  {
   "cell_type": "code",
   "execution_count": null,
   "metadata": {},
   "outputs": [],
   "source": [
    "save_object(coin_vixes, 'coin_vixes_2_paths.pkl')"
   ]
  }
 ],
 "metadata": {
  "anaconda-cloud": {},
  "kernelspec": {
   "display_name": "Environment (conda_anaconda3)",
   "language": "python",
   "name": "conda_anaconda3"
  },
  "language_info": {
   "codemirror_mode": {
    "name": "ipython",
    "version": 3
   },
   "file_extension": ".py",
   "mimetype": "text/x-python",
   "name": "python",
   "nbconvert_exporter": "python",
   "pygments_lexer": "ipython3",
   "version": "3.6.4"
  }
 },
 "nbformat": 4,
 "nbformat_minor": 1
}
