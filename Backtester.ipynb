{
 "cells": [
  {
   "cell_type": "code",
   "execution_count": 32,
   "metadata": {
    "collapsed": false
   },
   "outputs": [],
   "source": [
    "import numpy as np\n",
    "import pandas as pd\n",
    "\n",
    "import matplotlib.pyplot as plt\n",
    "\n",
    "%matplotlib inline\n",
    "\n",
    "import importlib\n",
    "\n",
    "import os\n",
    "import crypto_object\n",
    "from datetime import timedelta"
   ]
  },
  {
   "cell_type": "code",
   "execution_count": 25,
   "metadata": {
    "collapsed": true
   },
   "outputs": [],
   "source": [
    "crypto_object = importlib.reload(crypto_object)\n",
    "\n",
    "def load_coins(dir_):\n",
    "    \"\"\"\n",
    "    Function to take in a directory containing data\n",
    "    and return a dictionary of `Coin` objects\n",
    "    \"\"\"\n",
    "    \n",
    "    # to store data\n",
    "    coin_dict = {}\n",
    "    \n",
    "    for filename in os.listdir(dir_):\n",
    "        \n",
    "        # price data\n",
    "        if filename.endswith(\"_price.csv\"):\n",
    "            \n",
    "            # coin name\n",
    "            coin_name = filename.split('_')[0]\n",
    "            \n",
    "            coin_dict[coin_name] = crypto_object.Coin(coin_name, dir_ + filename)\n",
    "            \n",
    "    return coin_dict"
   ]
  },
  {
   "cell_type": "code",
   "execution_count": 26,
   "metadata": {
    "collapsed": false
   },
   "outputs": [],
   "source": [
    "coins = load_coins('cryptocurrencypricehistory/')"
   ]
  },
  {
   "cell_type": "code",
   "execution_count": 30,
   "metadata": {
    "collapsed": false
   },
   "outputs": [
    {
     "data": {
      "text/plain": [
       "[Timestamp('2013-04-28 00:00:00'),\n",
       " Timestamp('2017-01-20 00:00:00'),\n",
       " Timestamp('2014-02-14 00:00:00'),\n",
       " Timestamp('2015-08-07 00:00:00'),\n",
       " Timestamp('2017-06-13 00:00:00'),\n",
       " Timestamp('2013-04-28 00:00:00'),\n",
       " Timestamp('2014-05-21 00:00:00'),\n",
       " Timestamp('2015-04-01 00:00:00'),\n",
       " Timestamp('2016-09-09 00:00:00'),\n",
       " Timestamp('2017-06-23 00:00:00'),\n",
       " Timestamp('2017-07-14 00:00:00'),\n",
       " Timestamp('2017-05-24 00:00:00'),\n",
       " Timestamp('2013-08-04 00:00:00'),\n",
       " Timestamp('2016-08-12 00:00:00'),\n",
       " Timestamp('2016-06-02 00:00:00')]"
      ]
     },
     "execution_count": 30,
     "metadata": {},
     "output_type": "execute_result"
    }
   ],
   "source": [
    "[coins[k].start for k in coins.keys()]"
   ]
  },
  {
   "cell_type": "code",
   "execution_count": 82,
   "metadata": {
    "collapsed": false
   },
   "outputs": [],
   "source": [
    "class Portfolio():\n",
    "    \"\"\"\n",
    "    Portfolio Object for Backtester\n",
    "    \n",
    "    weights associated with coins. Ensures can not hold \n",
    "    coins that have not been created yet\n",
    "    \"\"\"\n",
    "    \n",
    "    def __init__(self, name, time, coin_dict, weight_dict, starting_value):\n",
    "        self.name = name\n",
    "        self.t = time\n",
    "        self.coin_dict = coin_dict\n",
    "        self.weight_dict = self.normalize_weights(weight_dict)\n",
    "        self.total_value = starting_value\n",
    "        self.coin_values = {k : starting_value * self.weight_dict[k] for k in self.coin_dict.keys()}\n",
    "        \n",
    "    def normalize_weights(self, weight_dict):\n",
    "        ws = np.nansum(list(weight_dict.values()))\n",
    "        return {k : weight_dict[k] / ws for k in weight_dict.keys()}\n",
    "        \n",
    "    def update(self, weight_dict):\n",
    "        \"\"\"\n",
    "        Update Portfolio after each day\n",
    "        \"\"\"\n",
    "        \n",
    "        # create dict for returns of each coin\n",
    "        returns_dict = {}\n",
    "        self.t = self.t + timedelta(days=1)\n",
    "        \n",
    "        self.weight_dict = self.normalize_weights(weight_dict)\n",
    "        \n",
    "        # ensure coins that have not been created yet \n",
    "        for k in self.weight_dict.keys():\n",
    "            if self.coin_dict[k].start > self.t:\n",
    "                print('Coin Weight Premature')\n",
    "                self.weight_dict[k] = 0\n",
    "        \n",
    "        self.coin_values = {k : self.total_value * self.weight_dict[k] for k in self.coin_dict.keys()}\n",
    "        \n",
    "        # create returns dictionary\n",
    "        for k in self.coin_dict.keys():\n",
    "            returns_dict[k] = self.coin_dict[k].full_data['Pct Returns'][np.argwhere(self.coin_dict[k].full_data['Date'] == self.t)[0][0]]\n",
    "            \n",
    "        for k in self.coin_dict.keys():\n",
    "            self.coin_values[k] = self.coin_values[k] * (1 + returns_dict[k])\n",
    "                \n",
    "        # get new total_value\n",
    "        self.total_value = np.nansum(list(self.coin_values.values()))"
   ]
  },
  {
   "cell_type": "code",
   "execution_count": 109,
   "metadata": {
    "collapsed": false
   },
   "outputs": [],
   "source": [
    "import datetime\n",
    "\n",
    "p = Portfolio(\n",
    "    'Test',\n",
    "    coins['bitcoin'].full_data['Date'][50],\n",
    "    coins,\n",
    "    {k : 2 for k in coins.keys()},\n",
    "    1000\n",
    ")"
   ]
  },
  {
   "cell_type": "code",
   "execution_count": 110,
   "metadata": {
    "collapsed": false
   },
   "outputs": [],
   "source": [
    "N=40\n",
    "vals = np.empty((N,))\n",
    "\n",
    "for i in np.arange(N):\n",
    "    p.update({k : np.random.uniform() for k in coins.keys()})\n",
    "    vals[i] = p.total_value"
   ]
  },
  {
   "cell_type": "code",
   "execution_count": 111,
   "metadata": {
    "collapsed": false
   },
   "outputs": [
    {
     "data": {
      "text/plain": [
       "[<matplotlib.lines.Line2D at 0x113b83550>]"
      ]
     },
     "execution_count": 111,
     "metadata": {},
     "output_type": "execute_result"
    },
    {
     "data": {
      "image/png": "[encoded data removed]",
      "text/plain": [
       "<matplotlib.figure.Figure at 0x113aa8c50>"
      ]
     },
     "metadata": {},
     "output_type": "display_data"
    }
   ],
   "source": [
    "plt.plot(vals)"
   ]
  },
  {
   "cell_type": "code",
   "execution_count": null,
   "metadata": {
    "collapsed": true
   },
   "outputs": [],
   "source": []
  }
 ],
 "metadata": {
  "anaconda-cloud": {},
  "kernelspec": {
   "display_name": "Python [conda env:cs109env]",
   "language": "python",
   "name": "conda-env-cs109env-py"
  },
  "language_info": {
   "codemirror_mode": {
    "name": "ipython",
    "version": 3
   },
   "file_extension": ".py",
   "mimetype": "text/x-python",
   "name": "python",
   "nbconvert_exporter": "python",
   "pygments_lexer": "ipython3",
   "version": "3.6.1"
  }
 },
 "nbformat": 4,
 "nbformat_minor": 1
}
