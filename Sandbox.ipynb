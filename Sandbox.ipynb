{
 "cells": [
  {
   "cell_type": "code",
   "execution_count": 1,
   "metadata": {
    "collapsed": false
   },
   "outputs": [],
   "source": [
    "import pandas as pd\n",
    "import numpy as np\n",
    "import matplotlib.pyplot as plt\n",
    "\n",
    "import importlib\n",
    "import crypto_object\n",
    "\n",
    "import tqdm\n",
    "\n",
    "%matplotlib inline"
   ]
  },
  {
   "cell_type": "code",
   "execution_count": 2,
   "metadata": {
    "collapsed": false
   },
   "outputs": [
    {
     "ename": "AttributeError",
     "evalue": "'module' object has no attribute 'reload'",
     "output_type": "error",
     "traceback": [
      "\u001b[0;31m---------------------------------------------------------------------------\u001b[0m",
      "\u001b[0;31mAttributeError\u001b[0m                            Traceback (most recent call last)",
      "\u001b[0;32m<ipython-input-2-9713c1bff66e>\u001b[0m in \u001b[0;36m<module>\u001b[0;34m()\u001b[0m\n\u001b[0;32m----> 1\u001b[0;31m \u001b[0mcrypto_object\u001b[0m \u001b[0;34m=\u001b[0m \u001b[0mimportlib\u001b[0m\u001b[0;34m.\u001b[0m\u001b[0mreload\u001b[0m\u001b[0;34m(\u001b[0m\u001b[0mcrypto_object\u001b[0m\u001b[0;34m)\u001b[0m\u001b[0;34m\u001b[0m\u001b[0m\n\u001b[0m",
      "\u001b[0;31mAttributeError\u001b[0m: 'module' object has no attribute 'reload'"
     ]
    }
   ],
   "source": [
    "crypto_object = importlib.reload(crypto_object)"
   ]
  },
  {
   "cell_type": "code",
   "execution_count": 3,
   "metadata": {
    "collapsed": false
   },
   "outputs": [],
   "source": [
    "btc = crypto_object.Coin('BTC', 'cryptocurrencypricehistory/bitcoin_price.csv')"
   ]
  },
  {
   "cell_type": "code",
   "execution_count": 4,
   "metadata": {
    "collapsed": false
   },
   "outputs": [
    {
     "data": {
      "text/html": [
       "<div>\n",
       "<style>\n",
       "    .dataframe thead tr:only-child th {\n",
       "        text-align: right;\n",
       "    }\n",
       "\n",
       "    .dataframe thead th {\n",
       "        text-align: left;\n",
       "    }\n",
       "\n",
       "    .dataframe tbody tr th {\n",
       "        vertical-align: top;\n",
       "    }\n",
       "</style>\n",
       "<table border=\"1\" class=\"dataframe\">\n",
       "  <thead>\n",
       "    <tr style=\"text-align: right;\">\n",
       "      <th></th>\n",
       "      <th>Date</th>\n",
       "      <th>Open</th>\n",
       "      <th>High</th>\n",
       "      <th>Low</th>\n",
       "      <th>Close</th>\n",
       "      <th>Volume</th>\n",
       "      <th>Market Cap</th>\n",
       "      <th>Pct Returns</th>\n",
       "    </tr>\n",
       "  </thead>\n",
       "  <tbody>\n",
       "    <tr>\n",
       "      <th>0</th>\n",
       "      <td>2018-02-20</td>\n",
       "      <td>11231.8</td>\n",
       "      <td>11958.5</td>\n",
       "      <td>11231.80</td>\n",
       "      <td>11403.7</td>\n",
       "      <td>9,926,540,000</td>\n",
       "      <td>189,536,000,000</td>\n",
       "      <td>0.015893</td>\n",
       "    </tr>\n",
       "    <tr>\n",
       "      <th>1</th>\n",
       "      <td>2018-02-19</td>\n",
       "      <td>10552.6</td>\n",
       "      <td>11273.8</td>\n",
       "      <td>10513.20</td>\n",
       "      <td>11225.3</td>\n",
       "      <td>7,652,090,000</td>\n",
       "      <td>178,055,000,000</td>\n",
       "      <td>0.063828</td>\n",
       "    </tr>\n",
       "    <tr>\n",
       "      <th>2</th>\n",
       "      <td>2018-02-18</td>\n",
       "      <td>11123.4</td>\n",
       "      <td>11349.8</td>\n",
       "      <td>10326.00</td>\n",
       "      <td>10551.8</td>\n",
       "      <td>8,744,010,000</td>\n",
       "      <td>187,663,000,000</td>\n",
       "      <td>-0.050474</td>\n",
       "    </tr>\n",
       "    <tr>\n",
       "      <th>3</th>\n",
       "      <td>2018-02-17</td>\n",
       "      <td>10207.5</td>\n",
       "      <td>11139.5</td>\n",
       "      <td>10149.40</td>\n",
       "      <td>11112.7</td>\n",
       "      <td>8,660,880,000</td>\n",
       "      <td>172,191,000,000</td>\n",
       "      <td>0.085871</td>\n",
       "    </tr>\n",
       "    <tr>\n",
       "      <th>4</th>\n",
       "      <td>2018-02-16</td>\n",
       "      <td>10135.7</td>\n",
       "      <td>10324.1</td>\n",
       "      <td>9824.82</td>\n",
       "      <td>10233.9</td>\n",
       "      <td>7,296,160,000</td>\n",
       "      <td>170,960,000,000</td>\n",
       "      <td>0.006640</td>\n",
       "    </tr>\n",
       "  </tbody>\n",
       "</table>\n",
       "</div>"
      ],
      "text/plain": [
       "        Date     Open     High       Low    Close         Volume  \\\n",
       "0 2018-02-20  11231.8  11958.5  11231.80  11403.7  9,926,540,000   \n",
       "1 2018-02-19  10552.6  11273.8  10513.20  11225.3  7,652,090,000   \n",
       "2 2018-02-18  11123.4  11349.8  10326.00  10551.8  8,744,010,000   \n",
       "3 2018-02-17  10207.5  11139.5  10149.40  11112.7  8,660,880,000   \n",
       "4 2018-02-16  10135.7  10324.1   9824.82  10233.9  7,296,160,000   \n",
       "\n",
       "        Market Cap  Pct Returns  \n",
       "0  189,536,000,000     0.015893  \n",
       "1  178,055,000,000     0.063828  \n",
       "2  187,663,000,000    -0.050474  \n",
       "3  172,191,000,000     0.085871  \n",
       "4  170,960,000,000     0.006640  "
      ]
     },
     "execution_count": 4,
     "metadata": {},
     "output_type": "execute_result"
    }
   ],
   "source": [
    "btc.full_data.head()"
   ]
  },
  {
   "cell_type": "code",
   "execution_count": 5,
   "metadata": {
    "collapsed": false
   },
   "outputs": [
    {
     "data": {
      "text/plain": [
       "[<matplotlib.lines.Line2D at 0x10ea6e890>]"
      ]
     },
     "execution_count": 5,
     "metadata": {},
     "output_type": "execute_result"
    },
    {
     "data": {
      "image/png": "[encoded data removed]",
      "text/plain": [
       "<matplotlib.figure.Figure at 0x10eb32e10>"
      ]
     },
     "metadata": {},
     "output_type": "display_data"
    }
   ],
   "source": [
    "plt.plot(btc.full_data.loc[:,'Date'], btc.full_data.loc[:,'Pct Returns'])"
   ]
  },
  {
   "cell_type": "code",
   "execution_count": 6,
   "metadata": {
    "collapsed": false
   },
   "outputs": [
    {
     "data": {
      "text/plain": [
       "1"
      ]
     },
     "execution_count": 6,
     "metadata": {},
     "output_type": "execute_result"
    }
   ],
   "source": [
    "(btc.full_data.loc[2,'Date'] - btc.full_data.loc[3,'Date']).days"
   ]
  },
  {
   "cell_type": "code",
   "execution_count": 7,
   "metadata": {
    "collapsed": true
   },
   "outputs": [],
   "source": [
    "import datetime"
   ]
  },
  {
   "cell_type": "code",
   "execution_count": 8,
   "metadata": {
    "collapsed": false
   },
   "outputs": [
    {
     "data": {
      "text/plain": [
       "1   2018-02-19\n",
       "Name: Date, dtype: datetime64[ns]"
      ]
     },
     "execution_count": 8,
     "metadata": {},
     "output_type": "execute_result"
    }
   ],
   "source": [
    "btc.full_data['Date'][btc.full_data['Date'] == datetime.datetime.strptime('2018-02-19', \"%Y-%m-%d\")]"
   ]
  },
  {
   "cell_type": "code",
   "execution_count": 9,
   "metadata": {
    "collapsed": false
   },
   "outputs": [
    {
     "data": {
      "text/plain": [
       "1"
      ]
     },
     "execution_count": 9,
     "metadata": {},
     "output_type": "execute_result"
    }
   ],
   "source": [
    "np.argwhere(btc.full_data['Date'] == datetime.datetime.strptime('2018-02-19', \"%Y-%m-%d\"))[0][0]"
   ]
  },
  {
   "cell_type": "code",
   "execution_count": 10,
   "metadata": {
    "collapsed": false
   },
   "outputs": [
    {
     "data": {
      "text/plain": [
       "datetime.datetime(2018, 2, 19, 0, 0)"
      ]
     },
     "execution_count": 10,
     "metadata": {},
     "output_type": "execute_result"
    }
   ],
   "source": [
    "datetime.datetime.strptime('2018-02-19', \"%Y-%m-%d\")"
   ]
  },
  {
   "cell_type": "code",
   "execution_count": 11,
   "metadata": {
    "collapsed": false
   },
   "outputs": [
    {
     "data": {
      "text/plain": [
       "0.037955849755564326"
      ]
     },
     "execution_count": 11,
     "metadata": {},
     "output_type": "execute_result"
    }
   ],
   "source": [
    "np.random.choice(btc.full_data['Pct Returns'])"
   ]
  },
  {
   "cell_type": "code",
   "execution_count": 12,
   "metadata": {
    "collapsed": true
   },
   "outputs": [],
   "source": [
    "import option_pricing as op"
   ]
  },
  {
   "cell_type": "code",
   "execution_count": 13,
   "metadata": {
    "collapsed": false
   },
   "outputs": [
    {
     "ename": "AttributeError",
     "evalue": "'module' object has no attribute 'reload'",
     "output_type": "error",
     "traceback": [
      "\u001b[0;31m---------------------------------------------------------------------------\u001b[0m",
      "\u001b[0;31mAttributeError\u001b[0m                            Traceback (most recent call last)",
      "\u001b[0;32m<ipython-input-13-9b0bff79c064>\u001b[0m in \u001b[0;36m<module>\u001b[0;34m()\u001b[0m\n\u001b[0;32m----> 1\u001b[0;31m \u001b[0mop\u001b[0m \u001b[0;34m=\u001b[0m \u001b[0mimportlib\u001b[0m\u001b[0;34m.\u001b[0m\u001b[0mreload\u001b[0m\u001b[0;34m(\u001b[0m\u001b[0mop\u001b[0m\u001b[0;34m)\u001b[0m\u001b[0;34m\u001b[0m\u001b[0m\n\u001b[0m",
      "\u001b[0;31mAttributeError\u001b[0m: 'module' object has no attribute 'reload'"
     ]
    }
   ],
   "source": [
    "op = importlib.reload(op)"
   ]
  },
  {
   "cell_type": "code",
   "execution_count": 15,
   "metadata": {
    "collapsed": false
   },
   "outputs": [],
   "source": [
    "d1 = datetime.datetime.strptime('2016-02-19', \"%Y-%m-%d\")\n",
    "d2 = datetime.datetime.strptime('2017-02-19', \"%Y-%m-%d\")\n",
    "out = op.random_paths(btc, d1, d2, lookback=60, N=50)"
   ]
  },
  {
   "cell_type": "code",
   "execution_count": 16,
   "metadata": {
    "collapsed": false
   },
   "outputs": [
    {
     "data": {
      "text/plain": [
       "731     437.16\n",
       "730     438.80\n",
       "729     437.75\n",
       "728     420.74\n",
       "727     424.95\n",
       "726     424.54\n",
       "725     432.15\n",
       "724     432.52\n",
       "723     433.50\n",
       "722     437.70\n",
       "721     435.12\n",
       "720     423.99\n",
       "719     421.65\n",
       "718     410.94\n",
       "717     400.57\n",
       "716     407.71\n",
       "715     414.32\n",
       "714     413.97\n",
       "713     414.86\n",
       "712     417.13\n",
       "711     421.69\n",
       "710     411.62\n",
       "709     414.06\n",
       "708     416.44\n",
       "707     416.83\n",
       "706     417.01\n",
       "705     420.62\n",
       "704     409.55\n",
       "703     410.44\n",
       "702     413.75\n",
       "        ...   \n",
       "395     921.79\n",
       "394     924.67\n",
       "393     921.01\n",
       "392     892.69\n",
       "391     901.54\n",
       "390     917.59\n",
       "389     919.75\n",
       "388     921.59\n",
       "387     919.50\n",
       "386     920.38\n",
       "385     970.40\n",
       "384     989.02\n",
       "383    1011.80\n",
       "382    1029.91\n",
       "381    1042.90\n",
       "380    1027.34\n",
       "379    1038.15\n",
       "378    1061.35\n",
       "377    1063.07\n",
       "376     994.38\n",
       "375     988.67\n",
       "374    1004.45\n",
       "373     999.18\n",
       "372     990.64\n",
       "371    1004.55\n",
       "370    1007.48\n",
       "369    1027.44\n",
       "368    1046.21\n",
       "367    1054.42\n",
       "366    1047.87\n",
       "Name: Close, Length: 366, dtype: float64"
      ]
     },
     "execution_count": 16,
     "metadata": {},
     "output_type": "execute_result"
    }
   ],
   "source": [
    "idx1 = np.argwhere(btc.full_data['Date'] == d1)[0][0]\n",
    "idx2 = np.argwhere(btc.full_data['Date'] == d2)[0][0]\n",
    "btc.full_data['Close'][(idx2):idx1].sort_index(ascending=False)"
   ]
  },
  {
   "cell_type": "code",
   "execution_count": 17,
   "metadata": {
    "collapsed": false
   },
   "outputs": [
    {
     "data": {
      "text/plain": [
       "366"
      ]
     },
     "execution_count": 17,
     "metadata": {},
     "output_type": "execute_result"
    }
   ],
   "source": [
    "idx2"
   ]
  },
  {
   "cell_type": "code",
   "execution_count": 18,
   "metadata": {
    "collapsed": false
   },
   "outputs": [],
   "source": [
    "def plot_random_paths(rp, true_path, coin):\n",
    "    \n",
    "    f, ax = plt.subplots(1,1, figsize=(12,8))\n",
    "    \n",
    "    dates = rp.index\n",
    "    \n",
    "    rp = rp.sort_index(axis=0 ,ascending=False).values\n",
    "    true_path = true_path.sort_index(ascending=False).values\n",
    "    \n",
    "    N = rp.shape[1]\n",
    "    \n",
    "    for i in np.arange(N):\n",
    "        ax.plot(dates, rp[:, i], color='blue', alpha=.2)\n",
    "        \n",
    "    ax.plot(dates, true_path, color='red')\n",
    "    \n",
    "    ax.set_xlabel('Date')\n",
    "    ax.set_ylabel('{} Price'.format(coin.name))\n",
    "    ax.set_title(coin.name)"
   ]
  },
  {
   "cell_type": "code",
   "execution_count": 34,
   "metadata": {
    "collapsed": false
   },
   "outputs": [
    {
     "data": {
      "image/png": "[encoded data removed]",
      "text/plain": [
       "<matplotlib.figure.Figure at 0x110af75d0>"
      ]
     },
     "metadata": {},
     "output_type": "display_data"
    }
   ],
   "source": [
    "d1 = datetime.datetime.strptime('2017-02-19', \"%Y-%m-%d\")\n",
    "d2 = datetime.datetime.strptime('2018-02-19', \"%Y-%m-%d\")\n",
    "idx1 = np.argwhere(btc.full_data['Date'] == d1)[0][0]\n",
    "idx2 = np.argwhere(btc.full_data['Date'] == d2)[0][0]\n",
    "out = op.random_paths(btc, d1, d2, lookback=15, N=10000)\n",
    "plot_random_paths(out, btc.full_data['Close'][idx2:idx1].reset_index()['Close'], btc)"
   ]
  },
  {
   "cell_type": "code",
   "execution_count": 40,
   "metadata": {
    "collapsed": false
   },
   "outputs": [
    {
     "data": {
      "text/plain": [
       "0       1050.926353\n",
       "1       1061.086525\n",
       "2       1061.086525\n",
       "3       1062.583591\n",
       "4       1064.594882\n",
       "5       1056.093027\n",
       "6       1066.625610\n",
       "7       1050.926353\n",
       "8       1062.583591\n",
       "9       1041.360688\n",
       "10      1067.013230\n",
       "11      1061.086525\n",
       "12      1062.583591\n",
       "13      1062.583591\n",
       "14      1067.013230\n",
       "15      1049.568155\n",
       "16      1068.630199\n",
       "17      1050.926353\n",
       "18      1038.913846\n",
       "19      1068.630199\n",
       "20      1071.287217\n",
       "21      1041.360688\n",
       "22      1042.372190\n",
       "23      1041.360688\n",
       "24      1042.372190\n",
       "25      1038.913846\n",
       "26      1062.583591\n",
       "27      1056.093027\n",
       "28      1042.372190\n",
       "29      1061.086525\n",
       "           ...     \n",
       "9970    1056.093027\n",
       "9971    1068.630199\n",
       "9972     980.162144\n",
       "9973    1041.360688\n",
       "9974    1071.287217\n",
       "9975    1041.360688\n",
       "9976    1042.372190\n",
       "9977    1032.235848\n",
       "9978    1049.568155\n",
       "9979    1049.568155\n",
       "9980    1041.360688\n",
       "9981    1071.287217\n",
       "9982    1056.093027\n",
       "9983    1032.235848\n",
       "9984    1068.630199\n",
       "9985    1068.630199\n",
       "9986    1056.093027\n",
       "9987    1038.913846\n",
       "9988     980.162144\n",
       "9989    1071.287217\n",
       "9990    1071.287217\n",
       "9991    1032.235848\n",
       "9992    1041.360688\n",
       "9993    1061.086525\n",
       "9994    1056.093027\n",
       "9995    1056.093027\n",
       "9996    1067.013230\n",
       "9997    1050.926353\n",
       "9998    1066.625610\n",
       "9999    1067.013230\n",
       "Name: 2018-02-18 00:00:00, Length: 10000, dtype: float64"
      ]
     },
     "execution_count": 40,
     "metadata": {},
     "output_type": "execute_result"
    }
   ],
   "source": [
    "out.iloc[-1, :]"
   ]
  },
  {
   "cell_type": "code",
   "execution_count": 41,
   "metadata": {
    "collapsed": false
   },
   "outputs": [
    {
     "data": {
      "text/plain": [
       "1050.359887655939"
      ]
     },
     "execution_count": 41,
     "metadata": {},
     "output_type": "execute_result"
    }
   ],
   "source": [
    "np.nanmax([np.nanmean(out.iloc[-1, :]), 0])"
   ]
  },
  {
   "cell_type": "code",
   "execution_count": 46,
   "metadata": {
    "collapsed": false
   },
   "outputs": [],
   "source": [
    "op = reload(op)"
   ]
  },
  {
   "cell_type": "code",
   "execution_count": 47,
   "metadata": {
    "collapsed": false
   },
   "outputs": [
    {
     "data": {
      "text/plain": [
       "137.11157320639776"
      ]
     },
     "execution_count": 47,
     "metadata": {},
     "output_type": "execute_result"
    }
   ],
   "source": [
    "op.empirical_method(btc, d1, d2, 0, 5000, 'call', lookback=30, N=500)"
   ]
  },
  {
   "cell_type": "code",
   "execution_count": null,
   "metadata": {
    "collapsed": true
   },
   "outputs": [],
   "source": [
    "#####\n",
    "# Options Strip\n",
    "######"
   ]
  },
  {
   "cell_type": "code",
   "execution_count": 61,
   "metadata": {
    "collapsed": true
   },
   "outputs": [],
   "source": [
    "def get_options_strip(coin, current_date, r, N_iter):\n",
    "    \n",
    "    # near and far dates\n",
    "    near_term = current_date + datetime.timedelta(days=5)\n",
    "    next_term = current_date + datetime.timedelta(days=30)\n",
    "    \n",
    "    starting_index = np.argwhere(coin.full_data['Date'] == current_date)[0][0]\n",
    "    starting_price = coin.full_data['Close'][starting_index]\n",
    "    \n",
    "    # produces ks to search over\n",
    "    ks_near = np.linspace(starting_price * .9, starting_price * 1.1, 10)\n",
    "    ks_next = np.linspace(starting_price * .8, starting_price * 1.2, 20)\n",
    "    \n",
    "    # near term options\n",
    "    near_term_calls = np.empty((10, ))\n",
    "    near_term_puts = np.empty((10, ))\n",
    "    \n",
    "    # next term options\n",
    "    next_term_calls = np.empty((20, ))\n",
    "    next_term_puts = np.empty((20, ))\n",
    "    \n",
    "    for i, k in enumerate(ks_near):\n",
    "        near_term_calls[i] = op.empirical_method(coin, current_date, near_term, 0, k, 'call', lookback=5, N=N_iter)\n",
    "        near_term_puts[i] = op.empirical_method(coin, current_date, near_term, 0, k, 'put', lookback=5, N=N_iter)\n",
    "        \n",
    "    for i, k in enumerate(ks_next):\n",
    "        next_term_calls[i] = op.empirical_method(coin, current_date, near_term, 0, k, 'call', lookback=30, N=N_iter)\n",
    "        next_term_puts[i] = op.empirical_method(coin, current_date, near_term, 0, k, 'put', lookback=30, N=N_iter)\n",
    "        \n",
    "    near_term_df = pd.DataFrame([near_term_calls, near_term_puts]).T\n",
    "    near_term_df.columns = ['Calls', 'Puts']\n",
    "    near_term_df.index = ks_near\n",
    "    next_term_df = pd.DataFrame([next_term_calls, next_term_puts]).T\n",
    "    next_term_df.columns = ['Calls', 'Puts']\n",
    "    next_term_df.index = ks_next\n",
    "    \n",
    "    return (near_term_df, next_term_df)"
   ]
  },
  {
   "cell_type": "code",
   "execution_count": 64,
   "metadata": {
    "collapsed": false
   },
   "outputs": [],
   "source": [
    "a = get_options_strip(btc, d1, 0, 100)[0]"
   ]
  },
  {
   "cell_type": "code",
   "execution_count": 68,
   "metadata": {
    "collapsed": false
   },
   "outputs": [
    {
     "data": {
      "text/plain": [
       "1059.5129999999999"
      ]
     },
     "execution_count": 68,
     "metadata": {},
     "output_type": "execute_result"
    }
   ],
   "source": [
    "a.loc[a.mean(axis=1).idxmin()]"
   ]
  },
  {
   "cell_type": "code",
   "execution_count": 97,
   "metadata": {
    "collapsed": false
   },
   "outputs": [
    {
     "data": {
      "text/plain": [
       "Calls    19.635470\n",
       "Puts     11.381509\n",
       "Name: 1059.513, dtype: float64"
      ]
     },
     "execution_count": 97,
     "metadata": {},
     "output_type": "execute_result"
    }
   ],
   "source": [
    "a.loc[a.mean(axis=1).idxmin()]"
   ]
  },
  {
   "cell_type": "code",
   "execution_count": 58,
   "metadata": {
    "collapsed": false
   },
   "outputs": [
    {
     "data": {
      "text/html": [
       "<div>\n",
       "<style>\n",
       "    .dataframe thead tr:only-child th {\n",
       "        text-align: right;\n",
       "    }\n",
       "\n",
       "    .dataframe thead th {\n",
       "        text-align: left;\n",
       "    }\n",
       "\n",
       "    .dataframe tbody tr th {\n",
       "        vertical-align: top;\n",
       "    }\n",
       "</style>\n",
       "<table border=\"1\" class=\"dataframe\">\n",
       "  <thead>\n",
       "    <tr style=\"text-align: right;\">\n",
       "      <th></th>\n",
       "      <th>0</th>\n",
       "      <th>1</th>\n",
       "    </tr>\n",
       "  </thead>\n",
       "  <tbody>\n",
       "    <tr>\n",
       "      <th>0</th>\n",
       "      <td>1.0</td>\n",
       "      <td>1.0</td>\n",
       "    </tr>\n",
       "    <tr>\n",
       "      <th>1</th>\n",
       "      <td>1.0</td>\n",
       "      <td>1.0</td>\n",
       "    </tr>\n",
       "    <tr>\n",
       "      <th>2</th>\n",
       "      <td>1.0</td>\n",
       "      <td>1.0</td>\n",
       "    </tr>\n",
       "    <tr>\n",
       "      <th>3</th>\n",
       "      <td>1.0</td>\n",
       "      <td>1.0</td>\n",
       "    </tr>\n",
       "    <tr>\n",
       "      <th>4</th>\n",
       "      <td>1.0</td>\n",
       "      <td>1.0</td>\n",
       "    </tr>\n",
       "  </tbody>\n",
       "</table>\n",
       "</div>"
      ],
      "text/plain": [
       "     0    1\n",
       "0  1.0  1.0\n",
       "1  1.0  1.0\n",
       "2  1.0  1.0\n",
       "3  1.0  1.0\n",
       "4  1.0  1.0"
      ]
     },
     "execution_count": 58,
     "metadata": {},
     "output_type": "execute_result"
    }
   ],
   "source": [
    "pd.DataFrame([np.ones(5), np.ones(5)]).T"
   ]
  },
  {
   "cell_type": "code",
   "execution_count": 132,
   "metadata": {
    "collapsed": true
   },
   "outputs": [],
   "source": [
    "cls = a['Calls'].index.values"
   ]
  },
  {
   "cell_type": "code",
   "execution_count": 133,
   "metadata": {
    "collapsed": false
   },
   "outputs": [
    {
     "data": {
      "text/plain": [
       "array([  943.083,   966.369,   989.655,  1012.941,  1036.227,  1059.513,\n",
       "        1082.799,  1106.085,  1129.371,  1152.657])"
      ]
     },
     "execution_count": 133,
     "metadata": {},
     "output_type": "execute_result"
    }
   ],
   "source": [
    "cls"
   ]
  },
  {
   "cell_type": "code",
   "execution_count": 134,
   "metadata": {
    "collapsed": false
   },
   "outputs": [
    {
     "data": {
      "text/plain": [
       "1152.6569999999999"
      ]
     },
     "execution_count": 134,
     "metadata": {},
     "output_type": "execute_result"
    }
   ],
   "source": [
    "cls[(1059.5129999999999 - cls).argmin()]"
   ]
  },
  {
   "cell_type": "code",
   "execution_count": 141,
   "metadata": {
    "collapsed": false
   },
   "outputs": [],
   "source": [
    "cls = 1059.5129999999999 - cls"
   ]
  },
  {
   "cell_type": "code",
   "execution_count": 143,
   "metadata": {
    "collapsed": false
   },
   "outputs": [
    {
     "data": {
      "text/plain": [
       "4"
      ]
     },
     "execution_count": 143,
     "metadata": {},
     "output_type": "execute_result"
    }
   ],
   "source": [
    "cls[cls > 0].argmin()"
   ]
  },
  {
   "cell_type": "code",
   "execution_count": 240,
   "metadata": {
    "collapsed": true
   },
   "outputs": [],
   "source": [
    "from __future__ import division\n",
    "\n",
    "def closest_call_or_put(val, array, call_or_put):\n",
    "    \n",
    "    try:\n",
    "        # loop through array and return propery idx\n",
    "        if call_or_put == 'call':\n",
    "            return min(array[array - val > 0])\n",
    "        else:\n",
    "            return max(array[val - array > 0])\n",
    "    except:\n",
    "        return val\n",
    "        \n",
    "        \n",
    "\n",
    "def cryptoVix(coin, current_date, r, N_iter, N_paths):\n",
    "    \n",
    "    vix = np.empty((N_iter,))\n",
    "    for i in np.arange(N_iter):\n",
    "    \n",
    "        # near and next options strip\n",
    "        near_strip, next_strip = get_options_strip(coin, current_date, r, N_paths)\n",
    "\n",
    "        # get idx where calls and puts differ the least\n",
    "        near_closest_idx = near_strip.mean(axis=1).idxmin()\n",
    "        next_closest_idx = next_strip.mean(axis=1).idxmin()\n",
    "\n",
    "        T_1 = 5/365\n",
    "        T_2 = 30/365\n",
    "\n",
    "        # near and next forward prices\n",
    "        F_near = near_closest_idx + (np.exp(r * T_1) * \\\n",
    "                    (near_strip.loc[near_closest_idx, 'Calls'] - \\\n",
    "                     near_strip.loc[near_closest_idx, 'Puts']))\n",
    "\n",
    "        F_next = next_closest_idx + (np.exp(r * T_2) * \\\n",
    "                    (next_strip.loc[next_closest_idx, 'Calls'] - \\\n",
    "                     next_strip.loc[next_closest_idx, 'Puts']))\n",
    "\n",
    "        # near/next strikes to find K_0s\n",
    "        ks_near = near_strip.index.values\n",
    "        ks_next = next_strip.index.values\n",
    "        \n",
    "        \n",
    "\n",
    "        k_0_near_call = closest_call_or_put(near_closest_idx, ks_near, 'call')\n",
    "        k_0_near_put = closest_call_or_put(near_closest_idx, ks_near, 'put')\n",
    "\n",
    "        k_0_next_call = closest_call_or_put(next_closest_idx, ks_next, 'call')\n",
    "        k_0_next_put = closest_call_or_put(next_closest_idx, ks_next, 'put')\n",
    "\n",
    "        # strikes given by np.linspace so the delta for strikes is constant\n",
    "        # therefore sufficient to calc one delta\n",
    "        delta_near = np.abs((ks_near[1] - ks_near[0]) / 2)\n",
    "        delta_next = np.abs((ks_next[1] - ks_next[0]) / 2)\n",
    "\n",
    "        # near and next strikes for calls and puts to be calculated\n",
    "        ks_near_puts = ks_near[ks_near < k_0_near_put]\n",
    "        ks_near_calls = ks_near[ks_near > k_0_near_call]\n",
    "        ks_next_puts = ks_next[ks_next < k_0_next_put]\n",
    "        ks_next_calls = ks_next[ks_next > k_0_next_call]\n",
    "\n",
    "        # calculate near vol\n",
    "        near_sum = 0\n",
    "        for k in ks_near_puts:\n",
    "            near_sum = near_sum + near_strip.loc[k, 'Puts'] / (k**2)\n",
    "        for k in ks_near_calls:\n",
    "            near_sum = near_sum + near_strip.loc[k, 'Calls'] / (k**2)\n",
    "\n",
    "        sigma_2_near = (np.exp(r * T_1) * delta_near * (2 / T_1) * near_sum) - \\\n",
    "            ((1 / T_1) * (((F_near / np.nanmean([k_0_near_call, k_0_near_put])) - 1)**2))\n",
    "\n",
    "        # calculate next vol\n",
    "        next_sum = 0\n",
    "        for k in ks_next_puts:\n",
    "            next_sum += next_strip.loc[k, 'Puts'] / (k**2)\n",
    "        for k in ks_next_calls:\n",
    "            next_sum += next_strip.loc[k, 'Calls'] / (k**2)\n",
    "\n",
    "\n",
    "        sigma_2_next = (np.exp(r * T_2) * delta_next * (2 / T_2) * next_sum) - \\\n",
    "            ((1 / T_2) * (((F_next / np.nanmean([k_0_next_call, k_0_next_put])) - 1)**2))\n",
    "\n",
    "        vix[i] = 100 * np.sqrt((T_1 * sigma_2_near) + (T_2 * sigma_2_next) * (365/30))\n",
    "        \n",
    "    return(np.nanmean(vix))"
   ]
  },
  {
   "cell_type": "code",
   "execution_count": 204,
   "metadata": {
    "collapsed": false
   },
   "outputs": [
    {
     "name": "stderr",
     "output_type": "stream",
     "text": [
      " 60%|██████    | 12/20 [01:54<01:15,  9.38s/it]/anaconda/lib/python2.7/site-packages/ipykernel/__main__.py:73: RuntimeWarning: invalid value encountered in sqrt\n",
      "100%|██████████| 20/20 [03:10<00:00,  9.44s/it]\n"
     ]
    },
    {
     "data": {
      "text/plain": [
       "5.9078101556798641"
      ]
     },
     "execution_count": 204,
     "metadata": {},
     "output_type": "execute_result"
    }
   ],
   "source": [
    "cryptoVix(btc, d1, 0, 20, 200)"
   ]
  },
  {
   "cell_type": "markdown",
   "metadata": {},
   "source": [
    "# VIX\n",
    "\n",
    "Methodology:\n",
    "\n",
    "* Create options strip 5 days in future and 30 days in future.\n",
    "* Find forward price: strike at which call and put differs by the least amount.\n",
    "\n"
   ]
  },
  {
   "cell_type": "code",
   "execution_count": 243,
   "metadata": {
    "collapsed": true
   },
   "outputs": [],
   "source": [
    "def coin_vix(coin):\n",
    "    # create vix for a given coin\n",
    "    \n",
    "    # for replicability\n",
    "    np.random.seed(109)\n",
    "    dates = coin.full_data['Date'][:-31]\n",
    "    vix = np.empty((len(dates,)))\n",
    "    \n",
    "    # create vix for each date\n",
    "    for i in tqdm.trange(len(dates,)):\n",
    "        \n",
    "        vix[i] = cryptoVix(coin, dates[i], 0, 4, 100)\n",
    "\n",
    "    out_series = pd.Series(vix)\n",
    "    out_series.index = dates\n",
    "    return out_series"
   ]
  },
  {
   "cell_type": "code",
   "execution_count": null,
   "metadata": {
    "collapsed": false
   },
   "outputs": [
    {
     "name": "stderr",
     "output_type": "stream",
     "text": [
      "\n",
      "\n",
      "  0%|          | 0/242 [00:00<?, ?it/s]\u001b[A\u001b[A\n",
      "\u001b[A\n",
      "\n",
      "  0%|          | 1/242 [00:19<1:17:34, 19.31s/it]\u001b[A\u001b[A\n",
      "\n",
      "  1%|          | 2/242 [00:38<1:16:33, 19.14s/it]\u001b[A\u001b[A\n",
      "\n",
      "  1%|          | 3/242 [00:58<1:17:13, 19.39s/it]\u001b[A\u001b[A\n",
      "\n",
      "  2%|▏         | 4/242 [01:17<1:16:32, 19.30s/it]\u001b[A\u001b[A\n",
      "\n",
      "  2%|▏         | 5/242 [01:35<1:15:31, 19.12s/it]\u001b[A\u001b[A\n",
      "\n",
      "  2%|▏         | 6/242 [01:54<1:14:13, 18.87s/it]\u001b[A\u001b[A\n",
      "\n",
      "  3%|▎         | 7/242 [02:13<1:14:15, 18.96s/it]\u001b[A\u001b[A\n",
      "\n",
      "  3%|▎         | 8/242 [02:32<1:14:39, 19.14s/it]\u001b[A\u001b[A\n",
      "\n",
      "  4%|▎         | 9/242 [02:52<1:14:55, 19.29s/it]\u001b[A\u001b[A"
     ]
    }
   ],
   "source": [
    "qtum_vix = coin_vix(coins['qtum'])"
   ]
  },
  {
   "cell_type": "code",
   "execution_count": null,
   "metadata": {
    "collapsed": true
   },
   "outputs": [],
   "source": []
  },
  {
   "cell_type": "code",
   "execution_count": null,
   "metadata": {
    "collapsed": true
   },
   "outputs": [],
   "source": []
  },
  {
   "cell_type": "code",
   "execution_count": null,
   "metadata": {
    "collapsed": true
   },
   "outputs": [],
   "source": []
  },
  {
   "cell_type": "code",
   "execution_count": 70,
   "metadata": {
    "collapsed": false
   },
   "outputs": [],
   "source": [
    "import crypto_backtester as cb\n",
    "coins = cb.load_coins('cryptocurrencypricehistory/')"
   ]
  },
  {
   "cell_type": "code",
   "execution_count": null,
   "metadata": {
    "collapsed": true
   },
   "outputs": [],
   "source": []
  }
 ],
 "metadata": {
  "anaconda-cloud": {},
  "kernelspec": {
   "display_name": "Python [default]",
   "language": "python",
   "name": "python2"
  },
  "language_info": {
   "codemirror_mode": {
    "name": "ipython",
    "version": 2
   },
   "file_extension": ".py",
   "mimetype": "text/x-python",
   "name": "python",
   "nbconvert_exporter": "python",
   "pygments_lexer": "ipython2",
   "version": "2.7.12"
  }
 },
 "nbformat": 4,
 "nbformat_minor": 1
}
