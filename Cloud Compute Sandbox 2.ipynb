{
 "cells": [
  {
   "cell_type": "code",
   "execution_count": 14,
   "metadata": {},
   "outputs": [
    {
     "name": "stdout",
     "output_type": "stream",
     "text": [
      "modules loaded\n"
     ]
    }
   ],
   "source": [
    "import pandas as pd\n",
    "import numpy as np\n",
    "import matplotlib.pyplot as plt\n",
    "\n",
    "import importlib\n",
    "import crypto_object\n",
    "import datetime\n",
    "import tqdm\n",
    "\n",
    "%matplotlib inline\n",
    "\n",
    "print('modules loaded')"
   ]
  },
  {
   "cell_type": "code",
   "execution_count": 3,
   "metadata": {},
   "outputs": [],
   "source": [
    "crypto_object = importlib.reload(crypto_object)\n",
    "btc = crypto_object.Coin('BTC', 'cryptocurrencypricehistory/bitcoin_price.csv')"
   ]
  },
  {
   "cell_type": "code",
   "execution_count": 4,
   "metadata": {},
   "outputs": [
    {
     "data": {
      "text/html": [
       "<div>\n",
       "<style scoped>\n",
       "    .dataframe tbody tr th:only-of-type {\n",
       "        vertical-align: middle;\n",
       "    }\n",
       "\n",
       "    .dataframe tbody tr th {\n",
       "        vertical-align: top;\n",
       "    }\n",
       "\n",
       "    .dataframe thead th {\n",
       "        text-align: right;\n",
       "    }\n",
       "</style>\n",
       "<table border=\"1\" class=\"dataframe\">\n",
       "  <thead>\n",
       "    <tr style=\"text-align: right;\">\n",
       "      <th></th>\n",
       "      <th>Date</th>\n",
       "      <th>Open</th>\n",
       "      <th>High</th>\n",
       "      <th>Low</th>\n",
       "      <th>Close</th>\n",
       "      <th>Volume</th>\n",
       "      <th>Market Cap</th>\n",
       "      <th>Pct Returns</th>\n",
       "    </tr>\n",
       "  </thead>\n",
       "  <tbody>\n",
       "    <tr>\n",
       "      <th>0</th>\n",
       "      <td>2018-02-20</td>\n",
       "      <td>11231.8</td>\n",
       "      <td>11958.5</td>\n",
       "      <td>11231.80</td>\n",
       "      <td>11403.7</td>\n",
       "      <td>9,926,540,000</td>\n",
       "      <td>189,536,000,000</td>\n",
       "      <td>0.015893</td>\n",
       "    </tr>\n",
       "    <tr>\n",
       "      <th>1</th>\n",
       "      <td>2018-02-19</td>\n",
       "      <td>10552.6</td>\n",
       "      <td>11273.8</td>\n",
       "      <td>10513.20</td>\n",
       "      <td>11225.3</td>\n",
       "      <td>7,652,090,000</td>\n",
       "      <td>178,055,000,000</td>\n",
       "      <td>0.063828</td>\n",
       "    </tr>\n",
       "    <tr>\n",
       "      <th>2</th>\n",
       "      <td>2018-02-18</td>\n",
       "      <td>11123.4</td>\n",
       "      <td>11349.8</td>\n",
       "      <td>10326.00</td>\n",
       "      <td>10551.8</td>\n",
       "      <td>8,744,010,000</td>\n",
       "      <td>187,663,000,000</td>\n",
       "      <td>-0.050474</td>\n",
       "    </tr>\n",
       "    <tr>\n",
       "      <th>3</th>\n",
       "      <td>2018-02-17</td>\n",
       "      <td>10207.5</td>\n",
       "      <td>11139.5</td>\n",
       "      <td>10149.40</td>\n",
       "      <td>11112.7</td>\n",
       "      <td>8,660,880,000</td>\n",
       "      <td>172,191,000,000</td>\n",
       "      <td>0.085871</td>\n",
       "    </tr>\n",
       "    <tr>\n",
       "      <th>4</th>\n",
       "      <td>2018-02-16</td>\n",
       "      <td>10135.7</td>\n",
       "      <td>10324.1</td>\n",
       "      <td>9824.82</td>\n",
       "      <td>10233.9</td>\n",
       "      <td>7,296,160,000</td>\n",
       "      <td>170,960,000,000</td>\n",
       "      <td>0.006640</td>\n",
       "    </tr>\n",
       "  </tbody>\n",
       "</table>\n",
       "</div>"
      ],
      "text/plain": [
       "        Date     Open     High       Low    Close         Volume  \\\n",
       "0 2018-02-20  11231.8  11958.5  11231.80  11403.7  9,926,540,000   \n",
       "1 2018-02-19  10552.6  11273.8  10513.20  11225.3  7,652,090,000   \n",
       "2 2018-02-18  11123.4  11349.8  10326.00  10551.8  8,744,010,000   \n",
       "3 2018-02-17  10207.5  11139.5  10149.40  11112.7  8,660,880,000   \n",
       "4 2018-02-16  10135.7  10324.1   9824.82  10233.9  7,296,160,000   \n",
       "\n",
       "        Market Cap  Pct Returns  \n",
       "0  189,536,000,000     0.015893  \n",
       "1  178,055,000,000     0.063828  \n",
       "2  187,663,000,000    -0.050474  \n",
       "3  172,191,000,000     0.085871  \n",
       "4  170,960,000,000     0.006640  "
      ]
     },
     "execution_count": 4,
     "metadata": {},
     "output_type": "execute_result"
    }
   ],
   "source": [
    "btc.full_data.head()"
   ]
  },
  {
   "cell_type": "code",
   "execution_count": 5,
   "metadata": {},
   "outputs": [
    {
     "data": {
      "text/plain": [
       "[<matplotlib.lines.Line2D at 0x7f18d1a43c88>]"
      ]
     },
     "execution_count": 5,
     "metadata": {},
     "output_type": "execute_result"
    },
    {
     "data": {
      "image/png": "[encoded data removed]",
      "text/plain": [
       "<Figure size 432x288 with 1 Axes>"
      ]
     },
     "metadata": {},
     "output_type": "display_data"
    }
   ],
   "source": [
    "plt.plot(btc.full_data.loc[:,'Date'], btc.full_data.loc[:,'Pct Returns'])"
   ]
  },
  {
   "cell_type": "code",
   "execution_count": 6,
   "metadata": {},
   "outputs": [
    {
     "data": {
      "text/plain": [
       "1"
      ]
     },
     "execution_count": 6,
     "metadata": {},
     "output_type": "execute_result"
    }
   ],
   "source": [
    "(btc.full_data.loc[2,'Date'] - btc.full_data.loc[3,'Date']).days"
   ]
  },
  {
   "cell_type": "code",
   "execution_count": 7,
   "metadata": {},
   "outputs": [],
   "source": [
    "import datetime"
   ]
  },
  {
   "cell_type": "code",
   "execution_count": 8,
   "metadata": {},
   "outputs": [
    {
     "data": {
      "text/plain": [
       "1   2018-02-19\n",
       "Name: Date, dtype: datetime64[ns]"
      ]
     },
     "execution_count": 8,
     "metadata": {},
     "output_type": "execute_result"
    }
   ],
   "source": [
    "btc.full_data['Date'][btc.full_data['Date'] == datetime.datetime.strptime('2018-02-19', \"%Y-%m-%d\")]"
   ]
  },
  {
   "cell_type": "code",
   "execution_count": 9,
   "metadata": {},
   "outputs": [
    {
     "data": {
      "text/plain": [
       "1"
      ]
     },
     "execution_count": 9,
     "metadata": {},
     "output_type": "execute_result"
    }
   ],
   "source": [
    "np.argwhere(btc.full_data['Date'] == datetime.datetime.strptime('2018-02-19', \"%Y-%m-%d\"))[0][0]"
   ]
  },
  {
   "cell_type": "code",
   "execution_count": 10,
   "metadata": {},
   "outputs": [
    {
     "data": {
      "text/plain": [
       "datetime.datetime(2018, 2, 19, 0, 0)"
      ]
     },
     "execution_count": 10,
     "metadata": {},
     "output_type": "execute_result"
    }
   ],
   "source": [
    "datetime.datetime.strptime('2018-02-19', \"%Y-%m-%d\")"
   ]
  },
  {
   "cell_type": "code",
   "execution_count": 11,
   "metadata": {},
   "outputs": [
    {
     "data": {
      "text/plain": [
       "-0.010670095926595473"
      ]
     },
     "execution_count": 11,
     "metadata": {},
     "output_type": "execute_result"
    }
   ],
   "source": [
    "np.random.choice(btc.full_data['Pct Returns'])"
   ]
  },
  {
   "cell_type": "code",
   "execution_count": 17,
   "metadata": {},
   "outputs": [],
   "source": [
    "import option_pricing as op"
   ]
  },
  {
   "cell_type": "code",
   "execution_count": 18,
   "metadata": {},
   "outputs": [],
   "source": [
    "op = importlib.reload(op)"
   ]
  },
  {
   "cell_type": "code",
   "execution_count": 14,
   "metadata": {},
   "outputs": [],
   "source": [
    "d1 = datetime.datetime.strptime('2016-02-19', \"%Y-%m-%d\")\n",
    "d2 = datetime.datetime.strptime('2017-02-19', \"%Y-%m-%d\")\n",
    "out = op.random_paths(btc, d1, d2, lookback=60, N=50)"
   ]
  },
  {
   "cell_type": "code",
   "execution_count": 15,
   "metadata": {},
   "outputs": [
    {
     "data": {
      "text/plain": [
       "731     437.16\n",
       "730     438.80\n",
       "729     437.75\n",
       "728     420.74\n",
       "727     424.95\n",
       "726     424.54\n",
       "725     432.15\n",
       "724     432.52\n",
       "723     433.50\n",
       "722     437.70\n",
       "721     435.12\n",
       "720     423.99\n",
       "719     421.65\n",
       "718     410.94\n",
       "717     400.57\n",
       "716     407.71\n",
       "715     414.32\n",
       "714     413.97\n",
       "713     414.86\n",
       "712     417.13\n",
       "711     421.69\n",
       "710     411.62\n",
       "709     414.06\n",
       "708     416.44\n",
       "707     416.83\n",
       "706     417.01\n",
       "705     420.62\n",
       "704     409.55\n",
       "703     410.44\n",
       "702     413.75\n",
       "        ...   \n",
       "395     921.79\n",
       "394     924.67\n",
       "393     921.01\n",
       "392     892.69\n",
       "391     901.54\n",
       "390     917.59\n",
       "389     919.75\n",
       "388     921.59\n",
       "387     919.50\n",
       "386     920.38\n",
       "385     970.40\n",
       "384     989.02\n",
       "383    1011.80\n",
       "382    1029.91\n",
       "381    1042.90\n",
       "380    1027.34\n",
       "379    1038.15\n",
       "378    1061.35\n",
       "377    1063.07\n",
       "376     994.38\n",
       "375     988.67\n",
       "374    1004.45\n",
       "373     999.18\n",
       "372     990.64\n",
       "371    1004.55\n",
       "370    1007.48\n",
       "369    1027.44\n",
       "368    1046.21\n",
       "367    1054.42\n",
       "366    1047.87\n",
       "Name: Close, Length: 366, dtype: float64"
      ]
     },
     "execution_count": 15,
     "metadata": {},
     "output_type": "execute_result"
    }
   ],
   "source": [
    "idx1 = np.argwhere(btc.full_data['Date'] == d1)[0][0]\n",
    "idx2 = np.argwhere(btc.full_data['Date'] == d2)[0][0]\n",
    "btc.full_data['Close'][(idx2):idx1].sort_index(ascending=False)"
   ]
  },
  {
   "cell_type": "code",
   "execution_count": 16,
   "metadata": {},
   "outputs": [
    {
     "data": {
      "text/plain": [
       "366"
      ]
     },
     "execution_count": 16,
     "metadata": {},
     "output_type": "execute_result"
    }
   ],
   "source": [
    "idx2"
   ]
  },
  {
   "cell_type": "code",
   "execution_count": 17,
   "metadata": {},
   "outputs": [],
   "source": [
    "def plot_random_paths(rp, true_path, coin):\n",
    "    \n",
    "    f, ax = plt.subplots(1,1, figsize=(12,8))\n",
    "    \n",
    "    dates = rp.index\n",
    "    \n",
    "    rp = rp.sort_index(axis=0 ,ascending=False).values\n",
    "    true_path = true_path.sort_index(ascending=False).values\n",
    "    \n",
    "    N = rp.shape[1]\n",
    "    \n",
    "    for i in np.arange(N):\n",
    "        ax.plot(dates, rp[:, i], color='blue', alpha=.2)\n",
    "        \n",
    "    ax.plot(dates, true_path, color='red')\n",
    "    \n",
    "    ax.set_xlabel('Date')\n",
    "    ax.set_ylabel('{} Price'.format(coin.name))\n",
    "    ax.set_title(coin.name)"
   ]
  },
  {
   "cell_type": "code",
   "execution_count": 19,
   "metadata": {},
   "outputs": [
    {
     "data": {
      "image/png": "[encoded data removed]",
      "text/plain": [
       "<Figure size 864x576 with 1 Axes>"
      ]
     },
     "metadata": {},
     "output_type": "display_data"
    }
   ],
   "source": [
    "crypto_object = importlib.reload(crypto_object)\n",
    "btc = crypto_object.Coin('BTC', 'cryptocurrencypricehistory/bitcoin_price.csv')\n",
    "d1 = datetime.datetime.strptime('2017-02-19', \"%Y-%m-%d\")\n",
    "d2 = datetime.datetime.strptime('2018-02-19', \"%Y-%m-%d\")\n",
    "idx1 = np.argwhere(btc.full_data['Date'] == d1)[0][0]\n",
    "idx2 = np.argwhere(btc.full_data['Date'] == d2)[0][0]\n",
    "out = op.random_paths(btc, d1, d2, lookback=15, N=20)\n",
    "plot_random_paths(out, btc.full_data['Close'][idx2:idx1].reset_index()['Close'], btc)"
   ]
  },
  {
   "cell_type": "code",
   "execution_count": 20,
   "metadata": {},
   "outputs": [
    {
     "data": {
      "text/plain": [
       "0     1068.630199\n",
       "1     1041.360688\n",
       "2     1067.013230\n",
       "3     1068.630199\n",
       "4     1071.287217\n",
       "5     1050.926353\n",
       "6     1061.086525\n",
       "7     1032.235848\n",
       "8     1032.235848\n",
       "9     1071.287217\n",
       "10    1066.625610\n",
       "11    1041.360688\n",
       "12    1068.630199\n",
       "13     980.162144\n",
       "14     980.162144\n",
       "15    1067.013230\n",
       "16    1058.896023\n",
       "17    1061.086525\n",
       "18    1042.372190\n",
       "19    1068.630199\n",
       "Name: 2018-02-18 00:00:00, dtype: float64"
      ]
     },
     "execution_count": 20,
     "metadata": {},
     "output_type": "execute_result"
    }
   ],
   "source": [
    "out.iloc[-1, :]"
   ]
  },
  {
   "cell_type": "code",
   "execution_count": 21,
   "metadata": {},
   "outputs": [
    {
     "data": {
      "text/plain": [
       "1049.981613793083"
      ]
     },
     "execution_count": 21,
     "metadata": {},
     "output_type": "execute_result"
    }
   ],
   "source": [
    "np.nanmax([np.nanmean(out.iloc[-1, :]), 0])"
   ]
  },
  {
   "cell_type": "code",
   "execution_count": 16,
   "metadata": {},
   "outputs": [
    {
     "ename": "NameError",
     "evalue": "name 'op' is not defined",
     "output_type": "error",
     "traceback": [
      "\u001b[0;31m--------------------------------------------------------------------------\u001b[0m",
      "\u001b[0;31mNameError\u001b[0m                                Traceback (most recent call last)",
      "\u001b[0;32m<ipython-input-16-ecddc955dd47>\u001b[0m in \u001b[0;36m<module>\u001b[0;34m()\u001b[0m\n\u001b[1;32m      1\u001b[0m \u001b[0;32mfrom\u001b[0m \u001b[0mimportlib\u001b[0m \u001b[0;32mimport\u001b[0m \u001b[0mreload\u001b[0m \u001b[0;31m# python 3\u001b[0m\u001b[0;34m\u001b[0m\u001b[0m\n\u001b[0;32m----> 2\u001b[0;31m \u001b[0mop\u001b[0m \u001b[0;34m=\u001b[0m \u001b[0mreload\u001b[0m\u001b[0;34m(\u001b[0m\u001b[0mop\u001b[0m\u001b[0;34m)\u001b[0m\u001b[0;34m\u001b[0m\u001b[0m\n\u001b[0m",
      "\u001b[0;31mNameError\u001b[0m: name 'op' is not defined"
     ]
    }
   ],
   "source": [
    "from importlib import reload # python 3\n",
    "op = reload(op)"
   ]
  },
  {
   "cell_type": "code",
   "execution_count": 25,
   "metadata": {},
   "outputs": [
    {
     "data": {
      "text/plain": [
       "113.69744460757053"
      ]
     },
     "execution_count": 25,
     "metadata": {},
     "output_type": "execute_result"
    }
   ],
   "source": [
    "op.empirical_method(btc, d1, d2, 0, 5000, 'call', lookback=30, N=500)"
   ]
  },
  {
   "cell_type": "code",
   "execution_count": null,
   "metadata": {},
   "outputs": [],
   "source": []
  },
  {
   "cell_type": "code",
   "execution_count": null,
   "metadata": {},
   "outputs": [],
   "source": [
    "#####\n",
    "# Options Strip\n",
    "######"
   ]
  },
  {
   "cell_type": "code",
   "execution_count": null,
   "metadata": {},
   "outputs": [],
   "source": [
    "def random_paths(coin, current_date, expiry_date, lookback=90, N=100):\n",
    "    \"\"\"\n",
    "    Function that produces random crypto price curves based on a lookback window\n",
    "    of historical values\n",
    "\n",
    "    \n",
    "    Parameters\n",
    "    ----------\n",
    "\n",
    "        coin : crypto_object.Coin\n",
    "\n",
    "\n",
    "        current_date : Datetime\n",
    "            t = 0 for the operation\n",
    "    \n",
    "        expiry_date : Datetime\n",
    "            expiry date of the option\n",
    "\n",
    "        lookback : int\n",
    "            number of previous days to draw returns from\n",
    "\n",
    "        N : int\n",
    "            number of streams to create\n",
    "    \"\"\"\n",
    "\n",
    "    # create data frame to store values\n",
    "    N_days = (expiry_date - current_date).days \n",
    "    paths = np.empty((N_days, N))\n",
    "\n",
    "    # ensure that lookback window is possible\n",
    "    longest_lookback = current_date - timedelta(days=lookback)\n",
    "    if longest_lookback not in set(coin.full_data['Date']):\n",
    "        print('ERROR: lookback window not possible with current start date')\n",
    "        sys.exit(1)\n",
    "\n",
    "    starting_index = np.argwhere(coin.full_data['Date'] == current_date)[0][0]\n",
    "    starting_price = coin.full_data['Close'][starting_index]\n",
    "\n",
    "    for path_num in np.arange(N):\n",
    "\n",
    "        # select a random return within lookback\n",
    "        px = starting_price\n",
    "\n",
    "        for offset in np.arange(N_days):\n",
    "\n",
    "            # pct returns to select from\n",
    "            lb_start = starting_index + offset\n",
    "            lb_end = lb_start + lookback\n",
    "            possible_returns = coin.full_data.loc[lb_start:(lb_end + 1), 'Pct Returns'].values\n",
    "            px = px * (1 + np.random.choice(possible_returns))\n",
    "            paths[N_days - offset - 1, path_num] = px\n",
    "\n",
    "    paths = pd.DataFrame(paths)\n",
    "    paths.index = [current_date + timedelta(days=int(x)) for x in np.arange(N_days)]\n",
    "    return(paths)\n",
    "\n",
    "\n",
    "\n",
    "def empirical_method(coin, current_date, expiry_date, r, K, call_or_put, lookback=90, N=100):\n",
    "    \"\"\"\n",
    "    Function that uses the empirical distribution\n",
    "    of crypto prices to calculate option prices. \n",
    "\n",
    "    \n",
    "    Parameters\n",
    "    ----------\n",
    "\n",
    "        coin : crypto_object.Coin\n",
    "\n",
    "\n",
    "        current_date : Datetime\n",
    "            t = 0 for the operation\n",
    "    \n",
    "        expiry_date : Datetime\n",
    "            expiry date of the option\n",
    "\n",
    "        r : float\n",
    "            risk-free interest rate\n",
    "\n",
    "        K : float\n",
    "            exercise price\n",
    "\n",
    "        call_or_put : str\n",
    "            option type\n",
    "\n",
    "        lookback : int\n",
    "            number of previous days to draw returns from\n",
    "\n",
    "        N : int\n",
    "            number of streams to create\n",
    "    \"\"\"\n",
    "\n",
    "    rps = random_paths(coin, current_date, expiry_date, lookback=lookback, N=N)\n",
    "\n",
    "    # final value for paths\n",
    "    final_values = rps.iloc[0, :]\n",
    "\n",
    "    # payout given final values\n",
    "    if call_or_put == 'call':\n",
    "        payout = [np.clip(x - K, 0, None) for x in final_values]\n",
    "    elif call_or_put == 'put':\n",
    "        payout = [np.clip(K - x, 0, None) for x in final_values]\n",
    "\n",
    "\n",
    "    N_days = (expiry_date - current_date).days\n",
    "    discount_factor = (1 + ((N_days/365) * r))**-1\n",
    "\n",
    "    # get empirical price\n",
    "    emp_price = np.nanmean(payout) * discount_factor\n",
    "\n",
    "    # ensure that these prices obey the call /put inequalities\n",
    "    if call_or_put == 'call':\n",
    "\n",
    "        # call bounds S_t > C_k > max(S_t - KZ(t, T), 0)\n",
    "        if emp_price < np.nanmax([np.nanmean(rps.iloc[-1, :] - (K * discount_factor)), 0]):\n",
    "            return np.nanmax([np.nanmean(rps.iloc[-1, :] - (K * discount_factor)), 0])\n",
    "        elif emp_price > np.nanmean(rps.iloc[-1, :]):\n",
    "            return np.nanmean(rps.iloc[-1, :])\n",
    "\n",
    "    else:\n",
    "\n",
    "        # max(KZ(t, T) - S_t, 0) < P_k < KZ(t,T)\n",
    "        if emp_price < np.nanmax([np.nanmean((K * discount_factor) - rps.iloc[-1, :]), 0]):\n",
    "            return np.nanmax([np.nanmean((K * discount_factor) - rps.iloc[-1, :]), 0])\n",
    "        elif emp_price > (K * discount_factor):\n",
    "            return (K * discount_factor)\n",
    "\n",
    "    return emp_price"
   ]
  },
  {
   "cell_type": "code",
   "execution_count": 12,
   "metadata": {},
   "outputs": [],
   "source": [
    "def get_options_strip(coin, current_date, r, N_iter):\n",
    "    \n",
    "    # near and far dates\n",
    "    near_term = current_date + datetime.timedelta(days=5)\n",
    "    next_term = current_date + datetime.timedelta(days=30)\n",
    "    \n",
    "    starting_index = np.argwhere(coin.full_data['Date'] == current_date)[0][0]\n",
    "    starting_price = coin.full_data['Close'][starting_index]\n",
    "    \n",
    "    # produces ks to search over\n",
    "    ks_near = np.linspace(starting_price * .9, starting_price * 1.1, 10)\n",
    "    ks_next = np.linspace(starting_price * .8, starting_price * 1.2, 20)\n",
    "    \n",
    "    # near term options\n",
    "    near_term_calls = np.empty((10, ))\n",
    "    near_term_puts = np.empty((10, ))\n",
    "    \n",
    "    # next term options\n",
    "    next_term_calls = np.empty((20, ))\n",
    "    next_term_puts = np.empty((20, ))\n",
    "    \n",
    "    for i, k in enumerate(ks_near):\n",
    "        near_term_calls[i] = empirical_method(coin, current_date, near_term, 0, k, 'call', lookback=5, N=N_iter)\n",
    "        near_term_puts[i] = empirical_method(coin, current_date, near_term, 0, k, 'put', lookback=5, N=N_iter)\n",
    "        \n",
    "    for i, k in enumerate(ks_next):\n",
    "        next_term_calls[i] = empirical_method(coin, current_date, near_term, 0, k, 'call', lookback=30, N=N_iter)\n",
    "        next_term_puts[i] = empirical_method(coin, current_date, near_term, 0, k, 'put', lookback=30, N=N_iter)\n",
    "        \n",
    "    near_term_df = pd.DataFrame([near_term_calls, near_term_puts]).T\n",
    "    near_term_df.columns = ['Calls', 'Puts']\n",
    "    near_term_df.index = ks_near\n",
    "    next_term_df = pd.DataFrame([next_term_calls, next_term_puts]).T\n",
    "    next_term_df.columns = ['Calls', 'Puts']\n",
    "    next_term_df.index = ks_next\n",
    "    \n",
    "    return (near_term_df, next_term_df)"
   ]
  },
  {
   "cell_type": "code",
   "execution_count": 27,
   "metadata": {},
   "outputs": [],
   "source": [
    "a = get_options_strip(btc, d1, 0, 100)[0]"
   ]
  },
  {
   "cell_type": "code",
   "execution_count": 28,
   "metadata": {},
   "outputs": [
    {
     "data": {
      "text/plain": [
       "Calls    22.765592\n",
       "Puts      9.563283\n",
       "Name: 1059.513, dtype: float64"
      ]
     },
     "execution_count": 28,
     "metadata": {},
     "output_type": "execute_result"
    }
   ],
   "source": [
    "a.loc[a.mean(axis=1).idxmin()]"
   ]
  },
  {
   "cell_type": "code",
   "execution_count": 29,
   "metadata": {},
   "outputs": [
    {
     "data": {
      "text/plain": [
       "Calls    22.765592\n",
       "Puts      9.563283\n",
       "Name: 1059.513, dtype: float64"
      ]
     },
     "execution_count": 29,
     "metadata": {},
     "output_type": "execute_result"
    }
   ],
   "source": [
    "a.loc[a.mean(axis=1).idxmin()]"
   ]
  },
  {
   "cell_type": "code",
   "execution_count": 30,
   "metadata": {},
   "outputs": [
    {
     "data": {
      "text/html": [
       "<div>\n",
       "<style scoped>\n",
       "    .dataframe tbody tr th:only-of-type {\n",
       "        vertical-align: middle;\n",
       "    }\n",
       "\n",
       "    .dataframe tbody tr th {\n",
       "        vertical-align: top;\n",
       "    }\n",
       "\n",
       "    .dataframe thead th {\n",
       "        text-align: right;\n",
       "    }\n",
       "</style>\n",
       "<table border=\"1\" class=\"dataframe\">\n",
       "  <thead>\n",
       "    <tr style=\"text-align: right;\">\n",
       "      <th></th>\n",
       "      <th>0</th>\n",
       "      <th>1</th>\n",
       "    </tr>\n",
       "  </thead>\n",
       "  <tbody>\n",
       "    <tr>\n",
       "      <th>0</th>\n",
       "      <td>1.0</td>\n",
       "      <td>1.0</td>\n",
       "    </tr>\n",
       "    <tr>\n",
       "      <th>1</th>\n",
       "      <td>1.0</td>\n",
       "      <td>1.0</td>\n",
       "    </tr>\n",
       "    <tr>\n",
       "      <th>2</th>\n",
       "      <td>1.0</td>\n",
       "      <td>1.0</td>\n",
       "    </tr>\n",
       "    <tr>\n",
       "      <th>3</th>\n",
       "      <td>1.0</td>\n",
       "      <td>1.0</td>\n",
       "    </tr>\n",
       "    <tr>\n",
       "      <th>4</th>\n",
       "      <td>1.0</td>\n",
       "      <td>1.0</td>\n",
       "    </tr>\n",
       "  </tbody>\n",
       "</table>\n",
       "</div>"
      ],
      "text/plain": [
       "     0    1\n",
       "0  1.0  1.0\n",
       "1  1.0  1.0\n",
       "2  1.0  1.0\n",
       "3  1.0  1.0\n",
       "4  1.0  1.0"
      ]
     },
     "execution_count": 30,
     "metadata": {},
     "output_type": "execute_result"
    }
   ],
   "source": [
    "pd.DataFrame([np.ones(5), np.ones(5)]).T"
   ]
  },
  {
   "cell_type": "code",
   "execution_count": 31,
   "metadata": {},
   "outputs": [],
   "source": [
    "cls = a['Calls'].index.values"
   ]
  },
  {
   "cell_type": "code",
   "execution_count": 32,
   "metadata": {},
   "outputs": [
    {
     "data": {
      "text/plain": [
       "array([ 943.083,  966.369,  989.655, 1012.941, 1036.227, 1059.513,\n",
       "       1082.799, 1106.085, 1129.371, 1152.657])"
      ]
     },
     "execution_count": 32,
     "metadata": {},
     "output_type": "execute_result"
    }
   ],
   "source": [
    "cls"
   ]
  },
  {
   "cell_type": "code",
   "execution_count": 33,
   "metadata": {},
   "outputs": [
    {
     "data": {
      "text/plain": [
       "1152.657"
      ]
     },
     "execution_count": 33,
     "metadata": {},
     "output_type": "execute_result"
    }
   ],
   "source": [
    "cls[(1059.5129999999999 - cls).argmin()]"
   ]
  },
  {
   "cell_type": "code",
   "execution_count": 34,
   "metadata": {},
   "outputs": [],
   "source": [
    "cls = 1059.5129999999999 - cls"
   ]
  },
  {
   "cell_type": "code",
   "execution_count": 35,
   "metadata": {
    "scrolled": true
   },
   "outputs": [
    {
     "data": {
      "text/plain": [
       "4"
      ]
     },
     "execution_count": 35,
     "metadata": {},
     "output_type": "execute_result"
    }
   ],
   "source": [
    "cls[cls > 0].argmin()"
   ]
  },
  {
   "cell_type": "code",
   "execution_count": null,
   "metadata": {},
   "outputs": [],
   "source": []
  },
  {
   "cell_type": "code",
   "execution_count": 8,
   "metadata": {},
   "outputs": [],
   "source": [
    "from __future__ import division\n",
    "\n",
    "def closest_call_or_put(val, array, call_or_put):\n",
    "    \n",
    "    try:\n",
    "        # loop through array and return propery idx\n",
    "        if call_or_put == 'call':\n",
    "            return min(array[array - val > 0])\n",
    "        else:\n",
    "            return max(array[val - array > 0])\n",
    "    except:\n",
    "        return val\n",
    "        \n",
    "        \n",
    "\n",
    "def cryptoVix(coin, current_date, r, N_iter, N_paths):\n",
    "    \n",
    "    vix = np.empty((N_iter,))\n",
    "    for i in np.arange(N_iter):\n",
    "    \n",
    "        # near and next options strip\n",
    "        near_strip, next_strip = get_options_strip(coin, current_date, r, N_paths)\n",
    "\n",
    "        # get idx where calls and puts differ the least\n",
    "        near_closest_idx = near_strip.mean(axis=1).idxmin()\n",
    "        next_closest_idx = next_strip.mean(axis=1).idxmin()\n",
    "\n",
    "        T_1 = 5/365\n",
    "        T_2 = 30/365\n",
    "\n",
    "        # near and next forward prices\n",
    "        F_near = near_closest_idx + (np.exp(r * T_1) * \\\n",
    "                    (near_strip.loc[near_closest_idx, 'Calls'] - \\\n",
    "                     near_strip.loc[near_closest_idx, 'Puts']))\n",
    "\n",
    "        F_next = next_closest_idx + (np.exp(r * T_2) * \\\n",
    "                    (next_strip.loc[next_closest_idx, 'Calls'] - \\\n",
    "                     next_strip.loc[next_closest_idx, 'Puts']))\n",
    "\n",
    "        # near/next strikes to find K_0s\n",
    "        ks_near = near_strip.index.values\n",
    "        ks_next = next_strip.index.values\n",
    "        \n",
    "        \n",
    "\n",
    "        k_0_near_call = closest_call_or_put(near_closest_idx, ks_near, 'call')\n",
    "        k_0_near_put = closest_call_or_put(near_closest_idx, ks_near, 'put')\n",
    "\n",
    "        k_0_next_call = closest_call_or_put(next_closest_idx, ks_next, 'call')\n",
    "        k_0_next_put = closest_call_or_put(next_closest_idx, ks_next, 'put')\n",
    "\n",
    "        # strikes given by np.linspace so the delta for strikes is constant\n",
    "        # therefore sufficient to calc one delta\n",
    "        delta_near = np.abs((ks_near[1] - ks_near[0]) / 2)\n",
    "        delta_next = np.abs((ks_next[1] - ks_next[0]) / 2)\n",
    "\n",
    "        # near and next strikes for calls and puts to be calculated\n",
    "        ks_near_puts = ks_near[ks_near < k_0_near_put]\n",
    "        ks_near_calls = ks_near[ks_near > k_0_near_call]\n",
    "        ks_next_puts = ks_next[ks_next < k_0_next_put]\n",
    "        ks_next_calls = ks_next[ks_next > k_0_next_call]\n",
    "\n",
    "        # calculate near vol\n",
    "        near_sum = 0\n",
    "        for k in ks_near_puts:\n",
    "            near_sum = near_sum + near_strip.loc[k, 'Puts'] / (k**2)\n",
    "        for k in ks_near_calls:\n",
    "            near_sum = near_sum + near_strip.loc[k, 'Calls'] / (k**2)\n",
    "\n",
    "        sigma_2_near = (np.exp(r * T_1) * delta_near * (2 / T_1) * near_sum) - \\\n",
    "            ((1 / T_1) * (((F_near / np.nanmean([k_0_near_call, k_0_near_put])) - 1)**2))\n",
    "\n",
    "        # calculate next vol\n",
    "        next_sum = 0\n",
    "        for k in ks_next_puts:\n",
    "            next_sum += next_strip.loc[k, 'Puts'] / (k**2)\n",
    "        for k in ks_next_calls:\n",
    "            next_sum += next_strip.loc[k, 'Calls'] / (k**2)\n",
    "\n",
    "\n",
    "        sigma_2_next = (np.exp(r * T_2) * delta_next * (2 / T_2) * next_sum) - \\\n",
    "            ((1 / T_2) * (((F_next / np.nanmean([k_0_next_call, k_0_next_put])) - 1)**2))\n",
    "\n",
    "        vix[i] = 100 * np.sqrt((T_1 * sigma_2_near) + (T_2 * sigma_2_next) * (365/30))\n",
    "        \n",
    "    return(np.nanmean(vix))"
   ]
  },
  {
   "cell_type": "code",
   "execution_count": 39,
   "metadata": {
    "scrolled": true
   },
   "outputs": [
    {
     "name": "stderr",
     "output_type": "stream",
     "text": [
      "/home/ubuntu/anaconda3/lib/python3.6/site-packages/ipykernel/__main__.py:78: RuntimeWarning: invalid value encountered in sqrt\n"
     ]
    },
    {
     "data": {
      "text/plain": [
       "7.708027861907088"
      ]
     },
     "execution_count": 39,
     "metadata": {},
     "output_type": "execute_result"
    }
   ],
   "source": [
    "cryptoVix(btc, d1, 0, 20, 2) #reduced number of paths as test"
   ]
  },
  {
   "cell_type": "markdown",
   "metadata": {},
   "source": [
    "# VIX\n",
    "\n",
    "Methodology:\n",
    "\n",
    "* Create options strip 5 days in future and 30 days in future.\n",
    "* Find forward price: strike at which call and put differs by the least amount.\n",
    "\n"
   ]
  },
  {
   "cell_type": "code",
   "execution_count": 9,
   "metadata": {},
   "outputs": [],
   "source": [
    "import os\n",
    "crypto_object = importlib.reload(crypto_object)\n",
    "\n",
    "def load_coins(dir_):\n",
    "    \"\"\"\n",
    "    Function to take in a directory containing data\n",
    "    and return a dictionary of `Coin` objects\n",
    "    \"\"\"\n",
    "    \n",
    "    # to store data\n",
    "    coin_dict = {}\n",
    "    \n",
    "    for filename in os.listdir(dir_):\n",
    "        \n",
    "        # price data\n",
    "        if filename.endswith(\"_price.csv\"):\n",
    "            \n",
    "            # coin name\n",
    "            coin_name = filename.split('_')[0]\n",
    "            \n",
    "            coin_dict[coin_name] = crypto_object.Coin(coin_name, dir_ + filename)\n",
    "            \n",
    "    return coin_dict\n",
    "coins = load_coins('cryptocurrencypricehistory/')"
   ]
  },
  {
   "cell_type": "code",
   "execution_count": 19,
   "metadata": {},
   "outputs": [],
   "source": [
    "def coin_vix(coin, N_iter=4, N_paths=100):\n",
    "    # create vix for a given coin\n",
    "    \n",
    "    # for replicability\n",
    "    np.random.seed(109)\n",
    "    dates = coin.full_data['Date'][:-31]\n",
    "    vix = np.empty((len(dates,)))\n",
    "    \n",
    "    # create vix for each date\n",
    "    for i in tqdm.trange(len(dates,)):\n",
    "        \n",
    "        vix[i] = cryptoVix(coin, dates[i], 0, N_iter, N_paths)\n",
    "\n",
    "    out_series = pd.Series(vix)\n",
    "    out_series.index = dates\n",
    "    return out_series"
   ]
  },
  {
   "cell_type": "code",
   "execution_count": 22,
   "metadata": {},
   "outputs": [
    {
     "name": "stderr",
     "output_type": "stream",
     "text": [
      "\n",
      "  0%|          | 0/242 [00:00<?, ?it/s]\u001b[A\n",
      "  0%|          | 1/242 [00:00<01:20,  2.98it/s]\u001b[A\n",
      "  1%|          | 2/242 [00:00<01:06,  3.61it/s]\u001b[A\n",
      "  1%|          | 3/242 [00:00<01:03,  3.78it/s]\u001b[A\n",
      "  2%|▏         | 4/242 [00:01<01:02,  3.83it/s]\u001b[A\n",
      "  2%|▏         | 5/242 [00:01<00:58,  4.08it/s]\u001b[A\n",
      "  2%|▏         | 6/242 [00:01<00:56,  4.15it/s]\u001b[A\n",
      "  3%|▎         | 7/242 [00:01<00:55,  4.23it/s]\u001b[A\n",
      "  3%|▎         | 8/242 [00:01<00:53,  4.37it/s]\u001b[A\n",
      "  4%|▎         | 9/242 [00:02<00:53,  4.35it/s]\u001b[A\n",
      "  4%|▍         | 10/242 [00:02<00:53,  4.31it/s]\u001b[A\n",
      "  5%|▍         | 11/242 [00:02<00:52,  4.40it/s]\u001b[A\n",
      "  5%|▍         | 12/242 [00:02<00:51,  4.49it/s]\u001b[A\n",
      "  5%|▌         | 13/242 [00:02<00:50,  4.56it/s]\u001b[A\n",
      "  6%|▌         | 14/242 [00:03<00:50,  4.51it/s]\u001b[A\n",
      "  6%|▌         | 15/242 [00:03<00:49,  4.57it/s]\u001b[A\n",
      "  7%|▋         | 16/242 [00:03<00:48,  4.62it/s]\u001b[A\n",
      "  7%|▋         | 17/242 [00:03<00:48,  4.67it/s]\u001b[A\n",
      " 26%|██▌       | 63/242 [00:12<00:35,  5.09it/s]/home/ubuntu/anaconda3/lib/python3.6/site-packages/ipykernel/__main__.py:78: RuntimeWarning: invalid value encountered in sqrt\n",
      "/home/ubuntu/anaconda3/lib/python3.6/site-packages/ipykernel/__main__.py:80: RuntimeWarning: Mean of empty slice\n",
      " 98%|█████████▊| 237/242 [00:46<00:00,  5.12it/s]/home/ubuntu/crypto109/option_pricing.py:118: RuntimeWarning: Mean of empty slice\n",
      "  emp_price = np.nanmean(payout) * discount_factor\n",
      "100%|█████████▉| 241/242 [00:47<00:00,  5.11it/s]/home/ubuntu/crypto109/option_pricing.py:124: RuntimeWarning: Mean of empty slice\n",
      "  if emp_price < np.nanmax([np.nanmean(rps.iloc[-1, :] - (K * discount_factor)), 0]):\n",
      "/home/ubuntu/crypto109/option_pricing.py:126: RuntimeWarning: Mean of empty slice\n",
      "  elif emp_price > np.nanmean(rps.iloc[-1, :]):\n",
      "100%|██████████| 242/242 [00:47<00:00,  5.11it/s]\n"
     ]
    }
   ],
   "source": [
    "qtum_vix = coin_vix(coins['qtum'], N_iter=1, N_paths=1)"
   ]
  },
  {
   "cell_type": "code",
   "execution_count": 23,
   "metadata": {
    "scrolled": true
   },
   "outputs": [
    {
     "data": {
      "text/plain": [
       "Date\n",
       "2018-02-20     33.173870\n",
       "2018-02-19     57.108276\n",
       "2018-02-18     76.058946\n",
       "2018-02-17     57.427237\n",
       "2018-02-16     60.264158\n",
       "2018-02-15     83.251576\n",
       "2018-02-14     85.828320\n",
       "2018-02-13     77.308856\n",
       "2018-02-12     53.004741\n",
       "2018-02-11     70.305705\n",
       "2018-02-10     55.117759\n",
       "2018-02-09     96.277330\n",
       "2018-02-08     75.112943\n",
       "2018-02-07     50.413347\n",
       "2018-02-06     80.512995\n",
       "2018-02-05     53.685321\n",
       "2018-02-04     67.994081\n",
       "2018-02-03     63.084480\n",
       "2018-02-02     75.418014\n",
       "2018-02-01     57.160008\n",
       "2018-01-31     72.992980\n",
       "2018-01-30     25.928354\n",
       "2018-01-29     49.019569\n",
       "2018-01-28     71.466401\n",
       "2018-01-27     73.124826\n",
       "2018-01-26     75.173827\n",
       "2018-01-25     63.673588\n",
       "2018-01-24     81.970252\n",
       "2018-01-23     72.037039\n",
       "2018-01-22     82.905553\n",
       "                 ...    \n",
       "2017-07-23     53.145701\n",
       "2017-07-22     46.708292\n",
       "2017-07-21     46.178988\n",
       "2017-07-20     88.922279\n",
       "2017-07-19     42.863498\n",
       "2017-07-18     58.725503\n",
       "2017-07-17     44.508635\n",
       "2017-07-16     54.160785\n",
       "2017-07-15     80.248285\n",
       "2017-07-14     37.142558\n",
       "2017-07-13     88.552602\n",
       "2017-07-12     55.602419\n",
       "2017-07-11     48.185543\n",
       "2017-07-10     41.988883\n",
       "2017-07-09     59.051946\n",
       "2017-07-08     57.926630\n",
       "2017-07-07     49.800122\n",
       "2017-07-06     75.258548\n",
       "2017-07-05     71.055934\n",
       "2017-07-04     56.836191\n",
       "2017-07-03     65.629360\n",
       "2017-07-02     69.602355\n",
       "2017-07-01    105.475026\n",
       "2017-06-30     79.965318\n",
       "2017-06-29     93.144574\n",
       "2017-06-28           NaN\n",
       "2017-06-27     36.610434\n",
       "2017-06-26           NaN\n",
       "2017-06-25           NaN\n",
       "2017-06-24           NaN\n",
       "Length: 242, dtype: float64"
      ]
     },
     "execution_count": 23,
     "metadata": {},
     "output_type": "execute_result"
    }
   ],
   "source": [
    "qtum_vix"
   ]
  },
  {
   "cell_type": "code",
   "execution_count": 24,
   "metadata": {},
   "outputs": [
    {
     "data": {
      "text/plain": [
       "<matplotlib.axes._subplots.AxesSubplot at 0x7f01c7c1dc50>"
      ]
     },
     "execution_count": 24,
     "metadata": {},
     "output_type": "execute_result"
    },
    {
     "data": {
      "image/png": "[encoded data removed]",
      "text/plain": [
       "<Figure size 432x288 with 1 Axes>"
      ]
     },
     "metadata": {},
     "output_type": "display_data"
    }
   ],
   "source": [
    "qtum_vix.plot()"
   ]
  },
  {
   "cell_type": "code",
   "execution_count": 25,
   "metadata": {},
   "outputs": [
    {
     "data": {
      "text/plain": [
       "<bound method Series.to_frame of Date\n",
       "2017-06-24           NaN\n",
       "2017-06-25           NaN\n",
       "2017-06-26           NaN\n",
       "2017-06-27     36.610434\n",
       "2017-06-28           NaN\n",
       "2017-06-29     93.144574\n",
       "2017-06-30     79.965318\n",
       "2017-07-01    105.475026\n",
       "2017-07-02     69.602355\n",
       "2017-07-03     65.629360\n",
       "2017-07-04     56.836191\n",
       "2017-07-05     71.055934\n",
       "2017-07-06     75.258548\n",
       "2017-07-07     49.800122\n",
       "2017-07-08     57.926630\n",
       "2017-07-09     59.051946\n",
       "2017-07-10     41.988883\n",
       "2017-07-11     48.185543\n",
       "2017-07-12     55.602419\n",
       "2017-07-13     88.552602\n",
       "2017-07-14     37.142558\n",
       "2017-07-15     80.248285\n",
       "2017-07-16     54.160785\n",
       "2017-07-17     44.508635\n",
       "2017-07-18     58.725503\n",
       "2017-07-19     42.863498\n",
       "2017-07-20     88.922279\n",
       "2017-07-21     46.178988\n",
       "2017-07-22     46.708292\n",
       "2017-07-23     53.145701\n",
       "                 ...    \n",
       "2018-01-22     82.905553\n",
       "2018-01-23     72.037039\n",
       "2018-01-24     81.970252\n",
       "2018-01-25     63.673588\n",
       "2018-01-26     75.173827\n",
       "2018-01-27     73.124826\n",
       "2018-01-28     71.466401\n",
       "2018-01-29     49.019569\n",
       "2018-01-30     25.928354\n",
       "2018-01-31     72.992980\n",
       "2018-02-01     57.160008\n",
       "2018-02-02     75.418014\n",
       "2018-02-03     63.084480\n",
       "2018-02-04     67.994081\n",
       "2018-02-05     53.685321\n",
       "2018-02-06     80.512995\n",
       "2018-02-07     50.413347\n",
       "2018-02-08     75.112943\n",
       "2018-02-09     96.277330\n",
       "2018-02-10     55.117759\n",
       "2018-02-11     70.305705\n",
       "2018-02-12     53.004741\n",
       "2018-02-13     77.308856\n",
       "2018-02-14     85.828320\n",
       "2018-02-15     83.251576\n",
       "2018-02-16     60.264158\n",
       "2018-02-17     57.427237\n",
       "2018-02-18     76.058946\n",
       "2018-02-19     57.108276\n",
       "2018-02-20     33.173870\n",
       "Length: 242, dtype: float64>"
      ]
     },
     "execution_count": 25,
     "metadata": {},
     "output_type": "execute_result"
    }
   ],
   "source": [
    "qtum_vix[::-1].to_frame"
   ]
  },
  {
   "cell_type": "code",
   "execution_count": 26,
   "metadata": {},
   "outputs": [],
   "source": [
    "q_close = coins['qtum'].full_data.loc[:, ['Date', 'Close']]"
   ]
  },
  {
   "cell_type": "code",
   "execution_count": 27,
   "metadata": {},
   "outputs": [],
   "source": [
    "b = q_close.join(qtum_vix[::-1].to_frame(), on='Date', how='left')"
   ]
  },
  {
   "cell_type": "code",
   "execution_count": 28,
   "metadata": {},
   "outputs": [
    {
     "data": {
      "text/html": [
       "<div>\n",
       "<style scoped>\n",
       "    .dataframe tbody tr th:only-of-type {\n",
       "        vertical-align: middle;\n",
       "    }\n",
       "\n",
       "    .dataframe tbody tr th {\n",
       "        vertical-align: top;\n",
       "    }\n",
       "\n",
       "    .dataframe thead th {\n",
       "        text-align: right;\n",
       "    }\n",
       "</style>\n",
       "<table border=\"1\" class=\"dataframe\">\n",
       "  <thead>\n",
       "    <tr style=\"text-align: right;\">\n",
       "      <th></th>\n",
       "      <th>Date</th>\n",
       "      <th>Close</th>\n",
       "      <th>0</th>\n",
       "    </tr>\n",
       "  </thead>\n",
       "  <tbody>\n",
       "    <tr>\n",
       "      <th>0</th>\n",
       "      <td>2018-02-20</td>\n",
       "      <td>31.11</td>\n",
       "      <td>33.173870</td>\n",
       "    </tr>\n",
       "    <tr>\n",
       "      <th>1</th>\n",
       "      <td>2018-02-19</td>\n",
       "      <td>32.66</td>\n",
       "      <td>57.108276</td>\n",
       "    </tr>\n",
       "    <tr>\n",
       "      <th>2</th>\n",
       "      <td>2018-02-18</td>\n",
       "      <td>31.24</td>\n",
       "      <td>76.058946</td>\n",
       "    </tr>\n",
       "    <tr>\n",
       "      <th>3</th>\n",
       "      <td>2018-02-17</td>\n",
       "      <td>33.56</td>\n",
       "      <td>57.427237</td>\n",
       "    </tr>\n",
       "    <tr>\n",
       "      <th>4</th>\n",
       "      <td>2018-02-16</td>\n",
       "      <td>33.02</td>\n",
       "      <td>60.264158</td>\n",
       "    </tr>\n",
       "    <tr>\n",
       "      <th>5</th>\n",
       "      <td>2018-02-15</td>\n",
       "      <td>33.06</td>\n",
       "      <td>83.251576</td>\n",
       "    </tr>\n",
       "    <tr>\n",
       "      <th>6</th>\n",
       "      <td>2018-02-14</td>\n",
       "      <td>32.55</td>\n",
       "      <td>85.828320</td>\n",
       "    </tr>\n",
       "    <tr>\n",
       "      <th>7</th>\n",
       "      <td>2018-02-13</td>\n",
       "      <td>30.11</td>\n",
       "      <td>77.308856</td>\n",
       "    </tr>\n",
       "    <tr>\n",
       "      <th>8</th>\n",
       "      <td>2018-02-12</td>\n",
       "      <td>30.13</td>\n",
       "      <td>53.004741</td>\n",
       "    </tr>\n",
       "    <tr>\n",
       "      <th>9</th>\n",
       "      <td>2018-02-11</td>\n",
       "      <td>27.48</td>\n",
       "      <td>70.305705</td>\n",
       "    </tr>\n",
       "    <tr>\n",
       "      <th>10</th>\n",
       "      <td>2018-02-10</td>\n",
       "      <td>30.27</td>\n",
       "      <td>55.117759</td>\n",
       "    </tr>\n",
       "    <tr>\n",
       "      <th>11</th>\n",
       "      <td>2018-02-09</td>\n",
       "      <td>31.16</td>\n",
       "      <td>96.277330</td>\n",
       "    </tr>\n",
       "    <tr>\n",
       "      <th>12</th>\n",
       "      <td>2018-02-08</td>\n",
       "      <td>26.48</td>\n",
       "      <td>75.112943</td>\n",
       "    </tr>\n",
       "    <tr>\n",
       "      <th>13</th>\n",
       "      <td>2018-02-07</td>\n",
       "      <td>21.78</td>\n",
       "      <td>50.413347</td>\n",
       "    </tr>\n",
       "    <tr>\n",
       "      <th>14</th>\n",
       "      <td>2018-02-06</td>\n",
       "      <td>24.05</td>\n",
       "      <td>80.512995</td>\n",
       "    </tr>\n",
       "    <tr>\n",
       "      <th>15</th>\n",
       "      <td>2018-02-05</td>\n",
       "      <td>20.54</td>\n",
       "      <td>53.685321</td>\n",
       "    </tr>\n",
       "    <tr>\n",
       "      <th>16</th>\n",
       "      <td>2018-02-04</td>\n",
       "      <td>26.19</td>\n",
       "      <td>67.994081</td>\n",
       "    </tr>\n",
       "    <tr>\n",
       "      <th>17</th>\n",
       "      <td>2018-02-03</td>\n",
       "      <td>29.93</td>\n",
       "      <td>63.084480</td>\n",
       "    </tr>\n",
       "    <tr>\n",
       "      <th>18</th>\n",
       "      <td>2018-02-02</td>\n",
       "      <td>30.26</td>\n",
       "      <td>75.418014</td>\n",
       "    </tr>\n",
       "    <tr>\n",
       "      <th>19</th>\n",
       "      <td>2018-02-01</td>\n",
       "      <td>35.68</td>\n",
       "      <td>57.160008</td>\n",
       "    </tr>\n",
       "    <tr>\n",
       "      <th>20</th>\n",
       "      <td>2018-01-31</td>\n",
       "      <td>42.12</td>\n",
       "      <td>72.992980</td>\n",
       "    </tr>\n",
       "    <tr>\n",
       "      <th>21</th>\n",
       "      <td>2018-01-30</td>\n",
       "      <td>37.33</td>\n",
       "      <td>25.928354</td>\n",
       "    </tr>\n",
       "    <tr>\n",
       "      <th>22</th>\n",
       "      <td>2018-01-29</td>\n",
       "      <td>43.41</td>\n",
       "      <td>49.019569</td>\n",
       "    </tr>\n",
       "    <tr>\n",
       "      <th>23</th>\n",
       "      <td>2018-01-28</td>\n",
       "      <td>43.76</td>\n",
       "      <td>71.466401</td>\n",
       "    </tr>\n",
       "    <tr>\n",
       "      <th>24</th>\n",
       "      <td>2018-01-27</td>\n",
       "      <td>39.58</td>\n",
       "      <td>73.124826</td>\n",
       "    </tr>\n",
       "    <tr>\n",
       "      <th>25</th>\n",
       "      <td>2018-01-26</td>\n",
       "      <td>39.70</td>\n",
       "      <td>75.173827</td>\n",
       "    </tr>\n",
       "    <tr>\n",
       "      <th>26</th>\n",
       "      <td>2018-01-25</td>\n",
       "      <td>40.72</td>\n",
       "      <td>63.673588</td>\n",
       "    </tr>\n",
       "    <tr>\n",
       "      <th>27</th>\n",
       "      <td>2018-01-24</td>\n",
       "      <td>40.51</td>\n",
       "      <td>81.970252</td>\n",
       "    </tr>\n",
       "    <tr>\n",
       "      <th>28</th>\n",
       "      <td>2018-01-23</td>\n",
       "      <td>39.15</td>\n",
       "      <td>72.037039</td>\n",
       "    </tr>\n",
       "    <tr>\n",
       "      <th>29</th>\n",
       "      <td>2018-01-22</td>\n",
       "      <td>39.97</td>\n",
       "      <td>82.905553</td>\n",
       "    </tr>\n",
       "    <tr>\n",
       "      <th>...</th>\n",
       "      <td>...</td>\n",
       "      <td>...</td>\n",
       "      <td>...</td>\n",
       "    </tr>\n",
       "    <tr>\n",
       "      <th>243</th>\n",
       "      <td>2017-06-22</td>\n",
       "      <td>12.10</td>\n",
       "      <td>NaN</td>\n",
       "    </tr>\n",
       "    <tr>\n",
       "      <th>244</th>\n",
       "      <td>2017-06-21</td>\n",
       "      <td>11.83</td>\n",
       "      <td>NaN</td>\n",
       "    </tr>\n",
       "    <tr>\n",
       "      <th>245</th>\n",
       "      <td>2017-06-20</td>\n",
       "      <td>11.49</td>\n",
       "      <td>NaN</td>\n",
       "    </tr>\n",
       "    <tr>\n",
       "      <th>246</th>\n",
       "      <td>2017-06-19</td>\n",
       "      <td>10.59</td>\n",
       "      <td>NaN</td>\n",
       "    </tr>\n",
       "    <tr>\n",
       "      <th>247</th>\n",
       "      <td>2017-06-18</td>\n",
       "      <td>10.58</td>\n",
       "      <td>NaN</td>\n",
       "    </tr>\n",
       "    <tr>\n",
       "      <th>248</th>\n",
       "      <td>2017-06-17</td>\n",
       "      <td>11.25</td>\n",
       "      <td>NaN</td>\n",
       "    </tr>\n",
       "    <tr>\n",
       "      <th>249</th>\n",
       "      <td>2017-06-16</td>\n",
       "      <td>11.29</td>\n",
       "      <td>NaN</td>\n",
       "    </tr>\n",
       "    <tr>\n",
       "      <th>250</th>\n",
       "      <td>2017-06-15</td>\n",
       "      <td>11.11</td>\n",
       "      <td>NaN</td>\n",
       "    </tr>\n",
       "    <tr>\n",
       "      <th>251</th>\n",
       "      <td>2017-06-14</td>\n",
       "      <td>11.77</td>\n",
       "      <td>NaN</td>\n",
       "    </tr>\n",
       "    <tr>\n",
       "      <th>252</th>\n",
       "      <td>2017-06-13</td>\n",
       "      <td>12.42</td>\n",
       "      <td>NaN</td>\n",
       "    </tr>\n",
       "    <tr>\n",
       "      <th>253</th>\n",
       "      <td>2017-06-12</td>\n",
       "      <td>10.96</td>\n",
       "      <td>NaN</td>\n",
       "    </tr>\n",
       "    <tr>\n",
       "      <th>254</th>\n",
       "      <td>2017-06-11</td>\n",
       "      <td>11.76</td>\n",
       "      <td>NaN</td>\n",
       "    </tr>\n",
       "    <tr>\n",
       "      <th>255</th>\n",
       "      <td>2017-06-10</td>\n",
       "      <td>11.33</td>\n",
       "      <td>NaN</td>\n",
       "    </tr>\n",
       "    <tr>\n",
       "      <th>256</th>\n",
       "      <td>2017-06-09</td>\n",
       "      <td>11.74</td>\n",
       "      <td>NaN</td>\n",
       "    </tr>\n",
       "    <tr>\n",
       "      <th>257</th>\n",
       "      <td>2017-06-08</td>\n",
       "      <td>12.35</td>\n",
       "      <td>NaN</td>\n",
       "    </tr>\n",
       "    <tr>\n",
       "      <th>258</th>\n",
       "      <td>2017-06-07</td>\n",
       "      <td>10.97</td>\n",
       "      <td>NaN</td>\n",
       "    </tr>\n",
       "    <tr>\n",
       "      <th>259</th>\n",
       "      <td>2017-06-06</td>\n",
       "      <td>11.50</td>\n",
       "      <td>NaN</td>\n",
       "    </tr>\n",
       "    <tr>\n",
       "      <th>260</th>\n",
       "      <td>2017-06-05</td>\n",
       "      <td>11.17</td>\n",
       "      <td>NaN</td>\n",
       "    </tr>\n",
       "    <tr>\n",
       "      <th>261</th>\n",
       "      <td>2017-06-04</td>\n",
       "      <td>12.15</td>\n",
       "      <td>NaN</td>\n",
       "    </tr>\n",
       "    <tr>\n",
       "      <th>262</th>\n",
       "      <td>2017-06-03</td>\n",
       "      <td>12.54</td>\n",
       "      <td>NaN</td>\n",
       "    </tr>\n",
       "    <tr>\n",
       "      <th>263</th>\n",
       "      <td>2017-06-02</td>\n",
       "      <td>13.46</td>\n",
       "      <td>NaN</td>\n",
       "    </tr>\n",
       "    <tr>\n",
       "      <th>264</th>\n",
       "      <td>2017-06-01</td>\n",
       "      <td>7.79</td>\n",
       "      <td>NaN</td>\n",
       "    </tr>\n",
       "    <tr>\n",
       "      <th>265</th>\n",
       "      <td>2017-05-31</td>\n",
       "      <td>4.86</td>\n",
       "      <td>NaN</td>\n",
       "    </tr>\n",
       "    <tr>\n",
       "      <th>266</th>\n",
       "      <td>2017-05-30</td>\n",
       "      <td>4.65</td>\n",
       "      <td>NaN</td>\n",
       "    </tr>\n",
       "    <tr>\n",
       "      <th>267</th>\n",
       "      <td>2017-05-29</td>\n",
       "      <td>4.60</td>\n",
       "      <td>NaN</td>\n",
       "    </tr>\n",
       "    <tr>\n",
       "      <th>268</th>\n",
       "      <td>2017-05-28</td>\n",
       "      <td>4.62</td>\n",
       "      <td>NaN</td>\n",
       "    </tr>\n",
       "    <tr>\n",
       "      <th>269</th>\n",
       "      <td>2017-05-27</td>\n",
       "      <td>4.53</td>\n",
       "      <td>NaN</td>\n",
       "    </tr>\n",
       "    <tr>\n",
       "      <th>270</th>\n",
       "      <td>2017-05-26</td>\n",
       "      <td>4.10</td>\n",
       "      <td>NaN</td>\n",
       "    </tr>\n",
       "    <tr>\n",
       "      <th>271</th>\n",
       "      <td>2017-05-25</td>\n",
       "      <td>4.66</td>\n",
       "      <td>NaN</td>\n",
       "    </tr>\n",
       "    <tr>\n",
       "      <th>272</th>\n",
       "      <td>2017-05-24</td>\n",
       "      <td>6.19</td>\n",
       "      <td>NaN</td>\n",
       "    </tr>\n",
       "  </tbody>\n",
       "</table>\n",
       "<p>273 rows × 3 columns</p>\n",
       "</div>"
      ],
      "text/plain": [
       "          Date  Close          0\n",
       "0   2018-02-20  31.11  33.173870\n",
       "1   2018-02-19  32.66  57.108276\n",
       "2   2018-02-18  31.24  76.058946\n",
       "3   2018-02-17  33.56  57.427237\n",
       "4   2018-02-16  33.02  60.264158\n",
       "5   2018-02-15  33.06  83.251576\n",
       "6   2018-02-14  32.55  85.828320\n",
       "7   2018-02-13  30.11  77.308856\n",
       "8   2018-02-12  30.13  53.004741\n",
       "9   2018-02-11  27.48  70.305705\n",
       "10  2018-02-10  30.27  55.117759\n",
       "11  2018-02-09  31.16  96.277330\n",
       "12  2018-02-08  26.48  75.112943\n",
       "13  2018-02-07  21.78  50.413347\n",
       "14  2018-02-06  24.05  80.512995\n",
       "15  2018-02-05  20.54  53.685321\n",
       "16  2018-02-04  26.19  67.994081\n",
       "17  2018-02-03  29.93  63.084480\n",
       "18  2018-02-02  30.26  75.418014\n",
       "19  2018-02-01  35.68  57.160008\n",
       "20  2018-01-31  42.12  72.992980\n",
       "21  2018-01-30  37.33  25.928354\n",
       "22  2018-01-29  43.41  49.019569\n",
       "23  2018-01-28  43.76  71.466401\n",
       "24  2018-01-27  39.58  73.124826\n",
       "25  2018-01-26  39.70  75.173827\n",
       "26  2018-01-25  40.72  63.673588\n",
       "27  2018-01-24  40.51  81.970252\n",
       "28  2018-01-23  39.15  72.037039\n",
       "29  2018-01-22  39.97  82.905553\n",
       "..         ...    ...        ...\n",
       "243 2017-06-22  12.10        NaN\n",
       "244 2017-06-21  11.83        NaN\n",
       "245 2017-06-20  11.49        NaN\n",
       "246 2017-06-19  10.59        NaN\n",
       "247 2017-06-18  10.58        NaN\n",
       "248 2017-06-17  11.25        NaN\n",
       "249 2017-06-16  11.29        NaN\n",
       "250 2017-06-15  11.11        NaN\n",
       "251 2017-06-14  11.77        NaN\n",
       "252 2017-06-13  12.42        NaN\n",
       "253 2017-06-12  10.96        NaN\n",
       "254 2017-06-11  11.76        NaN\n",
       "255 2017-06-10  11.33        NaN\n",
       "256 2017-06-09  11.74        NaN\n",
       "257 2017-06-08  12.35        NaN\n",
       "258 2017-06-07  10.97        NaN\n",
       "259 2017-06-06  11.50        NaN\n",
       "260 2017-06-05  11.17        NaN\n",
       "261 2017-06-04  12.15        NaN\n",
       "262 2017-06-03  12.54        NaN\n",
       "263 2017-06-02  13.46        NaN\n",
       "264 2017-06-01   7.79        NaN\n",
       "265 2017-05-31   4.86        NaN\n",
       "266 2017-05-30   4.65        NaN\n",
       "267 2017-05-29   4.60        NaN\n",
       "268 2017-05-28   4.62        NaN\n",
       "269 2017-05-27   4.53        NaN\n",
       "270 2017-05-26   4.10        NaN\n",
       "271 2017-05-25   4.66        NaN\n",
       "272 2017-05-24   6.19        NaN\n",
       "\n",
       "[273 rows x 3 columns]"
      ]
     },
     "execution_count": 28,
     "metadata": {},
     "output_type": "execute_result"
    }
   ],
   "source": [
    "b"
   ]
  },
  {
   "cell_type": "code",
   "execution_count": 29,
   "metadata": {},
   "outputs": [
    {
     "data": {
      "text/plain": [
       "0"
      ]
     },
     "execution_count": 29,
     "metadata": {},
     "output_type": "execute_result"
    }
   ],
   "source": [
    "b.columns[2]"
   ]
  },
  {
   "cell_type": "code",
   "execution_count": 30,
   "metadata": {},
   "outputs": [
    {
     "data": {
      "image/png": "[encoded data removed]",
      "text/plain": [
       "<Figure size 864x576 with 1 Axes>"
      ]
     },
     "metadata": {},
     "output_type": "display_data"
    }
   ],
   "source": [
    "f, ax = plt.subplots(1,1, figsize=(12, 8))\n",
    "ax.plot(b['Date'], b['Close'], color='red', label='Qtum Curve')\n",
    "ax.plot(b['Date'], b[0], color='blue', label='Qtum VIX')\n",
    "ax.set_title('Qtum and Qtum VIX')\n",
    "ax.set_ylabel('Qtum price / Qtum VIX Price')\n",
    "ax.set_xlabel('Date')\n",
    "ax.legend();"
   ]
  },
  {
   "cell_type": "code",
   "execution_count": null,
   "metadata": {},
   "outputs": [],
   "source": []
  },
  {
   "cell_type": "code",
   "execution_count": null,
   "metadata": {},
   "outputs": [],
   "source": []
  },
  {
   "cell_type": "markdown",
   "metadata": {
    "collapsed": true
   },
   "source": [
    "# Parallelize\n",
    "\n",
    "These vix computations take several hours for each coin. Our team decided to do all the coins at once using a 36 Haskell core AWS CPU (2.9ghz) instance."
   ]
  },
  {
   "cell_type": "code",
   "execution_count": 48,
   "metadata": {},
   "outputs": [
    {
     "name": "stdout",
     "output_type": "stream",
     "text": [
      "36 cores\n"
     ]
    }
   ],
   "source": [
    "import multiprocessing\n",
    "\n",
    "print(multiprocessing.cpu_count(), 'cores')\n",
    "\n",
    "# We must import this explicitly, it is not imported by the top-level\n",
    "# multiprocessing module.\n",
    "import multiprocessing.pool\n",
    "import time\n",
    "\n",
    "from random import randint\n",
    "\n",
    "\n",
    "class NoDaemonProcess(multiprocessing.Process):\n",
    "    # make 'daemon' attribute always return False\n",
    "    def _get_daemon(self):\n",
    "        return False\n",
    "    def _set_daemon(self, value):\n",
    "        pass\n",
    "    daemon = property(_get_daemon, _set_daemon)\n",
    "\n",
    "# We sub-class multiprocessing.pool.Pool instead of multiprocessing.Pool\n",
    "# because the latter is only a wrapper function, not a proper class.\n",
    "class MyPool(multiprocessing.pool.Pool):\n",
    "    Process = NoDaemonProcess"
   ]
  },
  {
   "cell_type": "code",
   "execution_count": null,
   "metadata": {},
   "outputs": [],
   "source": []
  },
  {
   "cell_type": "code",
   "execution_count": 49,
   "metadata": {
    "scrolled": true
   },
   "outputs": [
    {
     "name": "stdout",
     "output_type": "stream",
     "text": [
      "['ethereum', 'omisego', 'stratis', 'numeraire', 'neo', 'qtum', 'ripple', 'nem', 'dash', 'litecoin', 'bitcoin', 'bitconnect', 'waves', 'iota', 'monero']\n"
     ]
    }
   ],
   "source": [
    "coin_names = list(coins.keys())\n",
    "\n",
    "print(coin_names)"
   ]
  },
  {
   "cell_type": "code",
   "execution_count": 102,
   "metadata": {
    "scrolled": true
   },
   "outputs": [
    {
     "data": {
      "text/plain": [
       "['ethereum']"
      ]
     },
     "execution_count": 102,
     "metadata": {},
     "output_type": "execute_result"
    }
   ],
   "source": [
    "[coin_names[0]]"
   ]
  },
  {
   "cell_type": "code",
   "execution_count": 154,
   "metadata": {},
   "outputs": [
    {
     "data": {
      "text/plain": [
       "array([0, 1, 2, 3, 4])"
      ]
     },
     "execution_count": 154,
     "metadata": {},
     "output_type": "execute_result"
    }
   ],
   "source": [
    "np.arange(5)"
   ]
  },
  {
   "cell_type": "code",
   "execution_count": 186,
   "metadata": {},
   "outputs": [],
   "source": [
    "import numpy as np\n",
    "import pandas as pd\n",
    "import crypto_object as co\n",
    "import sys\n",
    "from datetime import timedelta\n",
    "\n",
    "def pathHelper(path_num, \n",
    "               starting_price, \n",
    "               N_days, \n",
    "               starting_index, \n",
    "               lookback,\n",
    "               coin):\n",
    "    # select a random return within lookback\n",
    "    px = starting_price\n",
    "\n",
    "    for offset in np.arange(N_days):\n",
    "\n",
    "        # pct returns to select from\n",
    "        lb_start = starting_index + offset\n",
    "        lb_end = lb_start + lookback\n",
    "        possible_returns = coin.full_data.loc[lb_start:(lb_end + 1), 'Pct Returns'].values\n",
    "        px = px * (1 + np.random.choice(possible_returns))\n",
    "        return {'px':px,'N_days':N_days,'offset':offset,'path_num':path_num}\n",
    "\n",
    "def random_paths(coin, current_date, expiry_date, lookback=90, N=100):\n",
    "    \"\"\"\n",
    "    Function that produces random crypto price curves based on a lookback window\n",
    "    of historical values\n",
    "\n",
    "    \n",
    "    Parameters\n",
    "    ----------\n",
    "\n",
    "        coin : crypto_object.Coin\n",
    "\n",
    "\n",
    "        current_date : Datetime\n",
    "            t = 0 for the operation\n",
    "    \n",
    "        expiry_date : Datetime\n",
    "            expiry date of the option\n",
    "\n",
    "        lookback : int\n",
    "            number of previous days to draw returns from\n",
    "\n",
    "        N : int\n",
    "            number of streams to create\n",
    "    \"\"\"\n",
    "\n",
    "    # create data frame to store values\n",
    "    N_days = (expiry_date - current_date).days \n",
    "    paths = np.empty((N_days, N))\n",
    "\n",
    "    # ensure that lookback window is possible\n",
    "    longest_lookback = current_date - timedelta(days=lookback)\n",
    "    if longest_lookback not in set(coin.full_data['Date']):\n",
    "        print('ERROR: lookback window not possible with current start date')\n",
    "        sys.exit(1)\n",
    "\n",
    "    starting_index = np.argwhere(coin.full_data['Date'] == current_date)[0][0]\n",
    "    starting_price = coin.full_data['Close'][starting_index]\n",
    "\n",
    "    \n",
    "\n",
    "#    with MyPool(32) as p:        \n",
    " #       \n",
    "  #      path_return = p.map(partial(pathHelper, \n",
    "   #            starting_price=starting_price, \n",
    "    #           N_days=N_days, \n",
    "     #          starting_index=starting_index, \n",
    "      #         lookback=lookback,\n",
    "       #        coin=coin), np.arange(N_days))    \n",
    "    \n",
    "    \n",
    "#    for each in path_return:\n",
    " #       paths[each['N_days'] - each['offset'] - 1, each['path_num']] = each['px'] \n",
    "    for path_num in np.arange(N):\n",
    "\n",
    "        # select a random return within lookback\n",
    "        px = starting_price\n",
    "\n",
    "        for offset in np.arange(N_days):\n",
    "\n",
    "            # pct returns to select from\n",
    "            lb_start = starting_index + offset\n",
    "            lb_end = lb_start + lookback\n",
    "            possible_returns = coin.full_data.loc[lb_start:(lb_end + 1), 'Pct Returns'].values\n",
    "            px = px * (1 + np.random.choice(possible_returns))\n",
    "            paths[N_days - offset - 1, path_num] = px\n",
    "\n",
    "    paths = pd.DataFrame(paths)\n",
    "    paths.index = [current_date + timedelta(days=int(x)) for x in np.arange(N_days)]\n",
    "    return(paths)\n",
    "\n",
    "\n",
    "\n",
    "def empirical_method(coin, current_date, expiry_date, r, K, call_or_put, lookback=90, N=100):\n",
    "    \"\"\"\n",
    "    Function that uses the empirical distribution\n",
    "    of crypto prices to calculate option prices. \n",
    "\n",
    "    \n",
    "    Parameters\n",
    "    ----------\n",
    "\n",
    "        coin : crypto_object.Coin\n",
    "\n",
    "\n",
    "        current_date : Datetime\n",
    "            t = 0 for the operation\n",
    "    \n",
    "        expiry_date : Datetime\n",
    "            expiry date of the option\n",
    "\n",
    "        r : float\n",
    "            risk-free interest rate\n",
    "\n",
    "        K : float\n",
    "            exercise price\n",
    "\n",
    "        call_or_put : str\n",
    "            option type\n",
    "\n",
    "        lookback : int\n",
    "            number of previous days to draw returns from\n",
    "\n",
    "        N : int\n",
    "            number of streams to create\n",
    "    \"\"\"\n",
    "\n",
    "    rps = random_paths(coin, current_date, expiry_date, lookback=lookback, N=N)\n",
    "\n",
    "    # final value for paths\n",
    "    final_values = rps.iloc[0, :]\n",
    "\n",
    "    # payout given final values\n",
    "    if call_or_put == 'call':\n",
    "        payout = [np.clip(x - K, 0, None) for x in final_values]\n",
    "    elif call_or_put == 'put':\n",
    "        payout = [np.clip(K - x, 0, None) for x in final_values]\n",
    "\n",
    "\n",
    "    N_days = (expiry_date - current_date).days\n",
    "    discount_factor = (1 + ((N_days/365) * r))**-1\n",
    "\n",
    "    # get empirical price\n",
    "    emp_price = np.nanmean(payout) * discount_factor\n",
    "\n",
    "    # ensure that these prices obey the call /put inequalities\n",
    "    if call_or_put == 'call':\n",
    "\n",
    "        # call bounds S_t > C_k > max(S_t - KZ(t, T), 0)\n",
    "        if emp_price < np.nanmax([np.nanmean(rps.iloc[-1, :] - (K * discount_factor)), 0]):\n",
    "            return np.nanmax([np.nanmean(rps.iloc[-1, :] - (K * discount_factor)), 0])\n",
    "        elif emp_price > np.nanmean(rps.iloc[-1, :]):\n",
    "            return np.nanmean(rps.iloc[-1, :])\n",
    "\n",
    "    else:\n",
    "\n",
    "        # max(KZ(t, T) - S_t, 0) < P_k < KZ(t,T)\n",
    "        if emp_price < np.nanmax([np.nanmean((K * discount_factor) - rps.iloc[-1, :]), 0]):\n",
    "            return np.nanmax([np.nanmean((K * discount_factor) - rps.iloc[-1, :]), 0])\n",
    "        elif emp_price > (K * discount_factor):\n",
    "            return (K * discount_factor)\n",
    "\n",
    "    return emp_price"
   ]
  },
  {
   "cell_type": "code",
   "execution_count": 187,
   "metadata": {},
   "outputs": [],
   "source": [
    "def get_options_strip(coin, current_date, r, N_iter):\n",
    "    \n",
    "    # near and far dates\n",
    "    near_term = current_date + datetime.timedelta(days=5)\n",
    "    next_term = current_date + datetime.timedelta(days=30)\n",
    "    \n",
    "    starting_index = np.argwhere(coin.full_data['Date'] == current_date)[0][0]\n",
    "    starting_price = coin.full_data['Close'][starting_index]\n",
    "    \n",
    "    # produces ks to search over\n",
    "    ks_near = np.linspace(starting_price * .9, starting_price * 1.1, 10)\n",
    "    ks_next = np.linspace(starting_price * .8, starting_price * 1.2, 20)\n",
    "    \n",
    "    # near term options\n",
    "    near_term_calls = np.empty((10, ))\n",
    "    near_term_puts = np.empty((10, ))\n",
    "    \n",
    "    # next term options\n",
    "    next_term_calls = np.empty((20, ))\n",
    "    next_term_puts = np.empty((20, ))\n",
    "    \n",
    "    for i, k in enumerate(ks_near):\n",
    "        near_term_calls[i] = empirical_method(coin, current_date, near_term, 0, k, 'call', lookback=5, N=N_iter)\n",
    "        near_term_puts[i] = empirical_method(coin, current_date, near_term, 0, k, 'put', lookback=5, N=N_iter)\n",
    "        \n",
    "    for i, k in enumerate(ks_next):\n",
    "        next_term_calls[i] = empirical_method(coin, current_date, near_term, 0, k, 'call', lookback=30, N=N_iter)\n",
    "        next_term_puts[i] = empirical_method(coin, current_date, near_term, 0, k, 'put', lookback=30, N=N_iter)\n",
    "        \n",
    "    near_term_df = pd.DataFrame([near_term_calls, near_term_puts]).T\n",
    "    near_term_df.columns = ['Calls', 'Puts']\n",
    "    near_term_df.index = ks_near\n",
    "    next_term_df = pd.DataFrame([next_term_calls, next_term_puts]).T\n",
    "    next_term_df.columns = ['Calls', 'Puts']\n",
    "    next_term_df.index = ks_next\n",
    "    \n",
    "    return (near_term_df, next_term_df)"
   ]
  },
  {
   "cell_type": "code",
   "execution_count": 200,
   "metadata": {},
   "outputs": [
    {
     "ename": "NameError",
     "evalue": "name 'plot_random_paths' is not defined",
     "output_type": "error",
     "traceback": [
      "\u001b[0;31m--------------------------------------------------------------------------\u001b[0m",
      "\u001b[0;31mNameError\u001b[0m                                Traceback (most recent call last)",
      "\u001b[0;32m<ipython-input-200-372d8c79b4ac>\u001b[0m in \u001b[0;36m<module>\u001b[0;34m()\u001b[0m\n\u001b[1;32m      6\u001b[0m \u001b[0midx2\u001b[0m \u001b[0;34m=\u001b[0m \u001b[0mnp\u001b[0m\u001b[0;34m.\u001b[0m\u001b[0margwhere\u001b[0m\u001b[0;34m(\u001b[0m\u001b[0mbtc\u001b[0m\u001b[0;34m.\u001b[0m\u001b[0mfull_data\u001b[0m\u001b[0;34m[\u001b[0m\u001b[0;34m'Date'\u001b[0m\u001b[0;34m]\u001b[0m \u001b[0;34m==\u001b[0m \u001b[0md2\u001b[0m\u001b[0;34m)\u001b[0m\u001b[0;34m[\u001b[0m\u001b[0;36m0\u001b[0m\u001b[0;34m]\u001b[0m\u001b[0;34m[\u001b[0m\u001b[0;36m0\u001b[0m\u001b[0;34m]\u001b[0m\u001b[0;34m\u001b[0m\u001b[0m\n\u001b[1;32m      7\u001b[0m \u001b[0mout\u001b[0m \u001b[0;34m=\u001b[0m \u001b[0mop\u001b[0m\u001b[0;34m.\u001b[0m\u001b[0mrandom_paths\u001b[0m\u001b[0;34m(\u001b[0m\u001b[0mbtc\u001b[0m\u001b[0;34m,\u001b[0m \u001b[0md1\u001b[0m\u001b[0;34m,\u001b[0m \u001b[0md2\u001b[0m\u001b[0;34m,\u001b[0m \u001b[0mlookback\u001b[0m\u001b[0;34m=\u001b[0m\u001b[0;36m15\u001b[0m\u001b[0;34m,\u001b[0m \u001b[0mN\u001b[0m\u001b[0;34m=\u001b[0m\u001b[0;36m20\u001b[0m\u001b[0;34m)\u001b[0m\u001b[0;34m\u001b[0m\u001b[0m\n\u001b[0;32m----> 8\u001b[0;31m \u001b[0mplot_random_paths\u001b[0m\u001b[0;34m(\u001b[0m\u001b[0mout\u001b[0m\u001b[0;34m,\u001b[0m \u001b[0mbtc\u001b[0m\u001b[0;34m.\u001b[0m\u001b[0mfull_data\u001b[0m\u001b[0;34m[\u001b[0m\u001b[0;34m'Close'\u001b[0m\u001b[0;34m]\u001b[0m\u001b[0;34m[\u001b[0m\u001b[0midx2\u001b[0m\u001b[0;34m:\u001b[0m\u001b[0midx1\u001b[0m\u001b[0;34m]\u001b[0m\u001b[0;34m.\u001b[0m\u001b[0mreset_index\u001b[0m\u001b[0;34m(\u001b[0m\u001b[0;34m)\u001b[0m\u001b[0;34m[\u001b[0m\u001b[0;34m'Close'\u001b[0m\u001b[0;34m]\u001b[0m\u001b[0;34m,\u001b[0m \u001b[0mbtc\u001b[0m\u001b[0;34m)\u001b[0m\u001b[0;34m\u001b[0m\u001b[0m\n\u001b[0m",
      "\u001b[0;31mNameError\u001b[0m: name 'plot_random_paths' is not defined"
     ]
    }
   ],
   "source": [
    "crypto_object = importlib.reload(crypto_object)\n",
    "btc = crypto_object.Coin('BTC', 'cryptocurrencypricehistory/bitcoin_price.csv')\n",
    "d1 = datetime.datetime.strptime('2017-02-19', \"%Y-%m-%d\")\n",
    "d2 = datetime.datetime.strptime('2018-02-19', \"%Y-%m-%d\")\n",
    "idx1 = np.argwhere(btc.full_data['Date'] == d1)[0][0]\n",
    "idx2 = np.argwhere(btc.full_data['Date'] == d2)[0][0]\n",
    "out = op.random_paths(btc, d1, d2, lookback=15, N=20)\n",
    "plot_random_paths(out, btc.full_data['Close'][idx2:idx1].reset_index()['Close'], btc)"
   ]
  },
  {
   "cell_type": "code",
   "execution_count": null,
   "metadata": {},
   "outputs": [],
   "source": [
    "a = get_options_strip(btc, d1, 0, 100)[0]"
   ]
  },
  {
   "cell_type": "code",
   "execution_count": null,
   "metadata": {},
   "outputs": [],
   "source": []
  },
  {
   "cell_type": "code",
   "execution_count": 188,
   "metadata": {},
   "outputs": [],
   "source": [
    "def cryptoVixHelper(i, coin, current_date, r, N_iter, N_paths):\n",
    "    # near and next options strip\n",
    "    near_strip, next_strip = get_options_strip(coin, current_date, r, N_paths)\n",
    "\n",
    "    # get idx where calls and puts differ the least\n",
    "    near_closest_idx = near_strip.mean(axis=1).idxmin()\n",
    "    next_closest_idx = next_strip.mean(axis=1).idxmin()\n",
    "\n",
    "    T_1 = 5/365\n",
    "    T_2 = 30/365\n",
    "\n",
    "    # near and next forward prices\n",
    "    F_near = near_closest_idx + (np.exp(r * T_1) * \\\n",
    "                (near_strip.loc[near_closest_idx, 'Calls'] - \\\n",
    "                 near_strip.loc[near_closest_idx, 'Puts']))\n",
    "\n",
    "    F_next = next_closest_idx + (np.exp(r * T_2) * \\\n",
    "                (next_strip.loc[next_closest_idx, 'Calls'] - \\\n",
    "                 next_strip.loc[next_closest_idx, 'Puts']))\n",
    "\n",
    "    # near/next strikes to find K_0s\n",
    "    ks_near = near_strip.index.values\n",
    "    ks_next = next_strip.index.values\n",
    "\n",
    "\n",
    "\n",
    "    k_0_near_call = closest_call_or_put(near_closest_idx, ks_near, 'call')\n",
    "    k_0_near_put = closest_call_or_put(near_closest_idx, ks_near, 'put')\n",
    "\n",
    "    k_0_next_call = closest_call_or_put(next_closest_idx, ks_next, 'call')\n",
    "    k_0_next_put = closest_call_or_put(next_closest_idx, ks_next, 'put')\n",
    "\n",
    "    # strikes given by np.linspace so the delta for strikes is constant\n",
    "    # therefore sufficient to calc one delta\n",
    "    delta_near = np.abs((ks_near[1] - ks_near[0]) / 2)\n",
    "    delta_next = np.abs((ks_next[1] - ks_next[0]) / 2)\n",
    "\n",
    "    # near and next strikes for calls and puts to be calculated\n",
    "    ks_near_puts = ks_near[ks_near < k_0_near_put]\n",
    "    ks_near_calls = ks_near[ks_near > k_0_near_call]\n",
    "    ks_next_puts = ks_next[ks_next < k_0_next_put]\n",
    "    ks_next_calls = ks_next[ks_next > k_0_next_call]\n",
    "\n",
    "    # calculate near vol\n",
    "    near_sum = 0\n",
    "    for k in ks_near_puts:\n",
    "        near_sum = near_sum + near_strip.loc[k, 'Puts'] / (k**2)\n",
    "    for k in ks_near_calls:\n",
    "        near_sum = near_sum + near_strip.loc[k, 'Calls'] / (k**2)\n",
    "\n",
    "    sigma_2_near = (np.exp(r * T_1) * delta_near * (2 / T_1) * near_sum) - \\\n",
    "        ((1 / T_1) * (((F_near / np.nanmean([k_0_near_call, k_0_near_put])) - 1)**2))\n",
    "\n",
    "    # calculate next vol\n",
    "    next_sum = 0\n",
    "    for k in ks_next_puts:\n",
    "        next_sum += next_strip.loc[k, 'Puts'] / (k**2)\n",
    "    for k in ks_next_calls:\n",
    "        next_sum += next_strip.loc[k, 'Calls'] / (k**2)\n",
    "\n",
    "\n",
    "    sigma_2_next = (np.exp(r * T_2) * delta_next * (2 / T_2) * next_sum) - \\\n",
    "        ((1 / T_2) * (((F_next / np.nanmean([k_0_next_call, k_0_next_put])) - 1)**2))\n",
    "\n",
    "    return (100 * np.sqrt((T_1 * sigma_2_near) + (T_2 * sigma_2_next) * (365/30)))        \n",
    "\n"
   ]
  },
  {
   "cell_type": "code",
   "execution_count": 189,
   "metadata": {},
   "outputs": [],
   "source": [
    "from functools import partial\n",
    "\n",
    "def cryptoVixParallel(coin, current_date, r, N_iter, N_paths):\n",
    "    vix = np.empty((N_iter,))\n",
    "    \n",
    "    with MyPool(32) as p:\n",
    "        \n",
    "        \n",
    "        vix = p.map(partial(cryptoVixHelper, coin=coin, \n",
    "                                              current_date=current_date, \n",
    "                                              r=r, \n",
    "                                              N_iter=N_iter, \n",
    "                                              N_paths=N_paths), np.arange(N_iter))\n",
    "    \n",
    "    return (np.nanmean(vix))"
   ]
  },
  {
   "cell_type": "code",
   "execution_count": null,
   "metadata": {},
   "outputs": [],
   "source": [
    "\n"
   ]
  },
  {
   "cell_type": "code",
   "execution_count": 190,
   "metadata": {},
   "outputs": [],
   "source": [
    "def coin_vix(coin, N_iter=4, N_paths=100):\n",
    "    # create vix for a given coin\n",
    "    \n",
    "    # for replicability\n",
    "    np.random.seed(109)\n",
    "    dates = coin.full_data['Date'][:-31]\n",
    "    vix = np.empty((len(dates,)))\n",
    "    \n",
    "    # create vix for each date\n",
    "    for i in tqdm.trange(len(dates,)):\n",
    "        \n",
    "        vix[i] = cryptoVixParallel(coin, dates[i], 0, N_iter, N_paths)\n",
    "\n",
    "    out_series = pd.Series(vix)\n",
    "    out_series.index = dates\n",
    "    return out_series"
   ]
  },
  {
   "cell_type": "code",
   "execution_count": 191,
   "metadata": {},
   "outputs": [
    {
     "name": "stdout",
     "output_type": "stream",
     "text": [
      "ethereum 577\n",
      "omisego 222\n",
      "stratis 558\n",
      "numeraire 243\n",
      "neo 530\n",
      "qtum 273\n",
      "ripple 1662\n",
      "nem 1057\n",
      "dash 1468\n",
      "litecoin 1760\n",
      "bitcoin 213\n",
      "bitconnect 397\n",
      "waves 629\n",
      "iota 253\n",
      "monero 1371\n"
     ]
    }
   ],
   "source": [
    "for coin in coin_names:\n",
    "    print(coin, len(coins[coin].full_data))"
   ]
  },
  {
   "cell_type": "code",
   "execution_count": 210,
   "metadata": {},
   "outputs": [
    {
     "name": "stdout",
     "output_type": "stream",
     "text": [
      "['ethereum', 'omisego', 'stratis', 'numeraire', 'neo']\n",
      "['qtum', 'ripple', 'nem', 'dash', 'litecoin']\n",
      "['bitcoin', 'bitconnect', 'waves', 'iota', 'monero']\n"
     ]
    }
   ],
   "source": [
    "print(coin_names[0:5])\n",
    "print(coin_names[5:10])\n",
    "print(coin_names[10:15])\n",
    "\n",
    "\n"
   ]
  },
  {
   "cell_type": "code",
   "execution_count": null,
   "metadata": {},
   "outputs": [],
   "source": []
  },
  {
   "cell_type": "code",
   "execution_count": 199,
   "metadata": {
    "scrolled": true
   },
   "outputs": [
    {
     "name": "stderr",
     "output_type": "stream",
     "text": [
      " 20%|█▉        | 98/499 [00:58<04:00,  1.67it/s]]/home/ubuntu/anaconda3/lib/python3.6/site-packages/ipykernel/__main__.py:59: RuntimeWarning: invalid value encountered in sqrt\n",
      "/home/ubuntu/anaconda3/lib/python3.6/site-packages/ipykernel/__main__.py:59: RuntimeWarning: invalid value encountered in sqrt\n",
      " 18%|█▊        | 96/527 [00:59<04:25,  1.63it/s]/home/ubuntu/anaconda3/lib/python3.6/site-packages/ipykernel/__main__.py:15: RuntimeWarning: Mean of empty slice\n",
      " 19%|█▉        | 101/527 [01:02<04:21,  1.63it/s]/home/ubuntu/anaconda3/lib/python3.6/site-packages/ipykernel/__main__.py:59: RuntimeWarning: invalid value encountered in sqrt\n",
      " 60%|██████    | 115/191 [01:02<00:41,  1.85it/s]/home/ubuntu/anaconda3/lib/python3.6/site-packages/ipykernel/__main__.py:59: RuntimeWarning: invalid value encountered in sqrt\n",
      "/home/ubuntu/anaconda3/lib/python3.6/site-packages/ipykernel/__main__.py:15: RuntimeWarning: Mean of empty slice\n",
      " 88%|████████▊ | 186/212 [01:41<00:14,  1.84it/s]/home/ubuntu/anaconda3/lib/python3.6/site-packages/ipykernel/__main__.py:147: RuntimeWarning: Mean of empty slice\n",
      " 32%|███▏      | 167/527 [01:41<03:38,  1.65it/s]/home/ubuntu/anaconda3/lib/python3.6/site-packages/ipykernel/__main__.py:147: RuntimeWarning: Mean of empty slice\n",
      " 34%|███▍      | 170/499 [01:41<03:16,  1.68it/s]/home/ubuntu/anaconda3/lib/python3.6/site-packages/ipykernel/__main__.py:147: RuntimeWarning: Mean of empty slice\n",
      " 88%|████████▊ | 187/212 [01:41<00:13,  1.84it/s]/home/ubuntu/anaconda3/lib/python3.6/site-packages/ipykernel/__main__.py:147: RuntimeWarning: Mean of empty slice\n",
      " 32%|███▏      | 168/527 [01:41<03:37,  1.65it/s]/home/ubuntu/anaconda3/lib/python3.6/site-packages/ipykernel/__main__.py:147: RuntimeWarning: Mean of empty slice\n",
      " 89%|████████▊ | 188/212 [01:42<00:13,  1.84it/s]/home/ubuntu/anaconda3/lib/python3.6/site-packages/ipykernel/__main__.py:147: RuntimeWarning: Mean of empty slice\n",
      " 32%|███▏      | 169/527 [01:42<03:36,  1.65it/s]/home/ubuntu/anaconda3/lib/python3.6/site-packages/ipykernel/__main__.py:147: RuntimeWarning: Mean of empty slice\n",
      "/home/ubuntu/anaconda3/lib/python3.6/site-packages/ipykernel/__main__.py:147: RuntimeWarning: Mean of empty slice\n",
      " 34%|███▍      | 172/499 [01:42<03:15,  1.68it/s]/home/ubuntu/anaconda3/lib/python3.6/site-packages/ipykernel/__main__.py:147: RuntimeWarning: Mean of empty slice\n",
      "/home/ubuntu/anaconda3/lib/python3.6/site-packages/ipykernel/__main__.py:147: RuntimeWarning: Mean of empty slice\n",
      " 32%|███▏      | 170/527 [01:42<03:36,  1.65it/s]/home/ubuntu/anaconda3/lib/python3.6/site-packages/ipykernel/__main__.py:153: RuntimeWarning: Mean of empty slice\n",
      "/home/ubuntu/anaconda3/lib/python3.6/site-packages/ipykernel/__main__.py:155: RuntimeWarning: Mean of empty slice\n",
      "/home/ubuntu/anaconda3/lib/python3.6/site-packages/ipykernel/__main__.py:153: RuntimeWarning: Mean of empty slice\n",
      "/home/ubuntu/anaconda3/lib/python3.6/site-packages/ipykernel/__main__.py:155: RuntimeWarning: Mean of empty slice\n",
      "100%|██████████| 191/191 [01:43<00:00,  1.85it/s]\n",
      " 35%|███▌      | 187/527 [01:53<03:25,  1.65it/s]/home/ubuntu/anaconda3/lib/python3.6/site-packages/ipykernel/__main__.py:147: RuntimeWarning: Mean of empty slice\n",
      "/home/ubuntu/anaconda3/lib/python3.6/site-packages/ipykernel/__main__.py:147: RuntimeWarning: Mean of empty slice\n",
      " 98%|█████████▊| 208/212 [01:53<00:02,  1.84it/s]/home/ubuntu/anaconda3/lib/python3.6/site-packages/ipykernel/__main__.py:147: RuntimeWarning: Mean of empty slice\n",
      " 38%|███▊      | 190/499 [01:53<03:04,  1.67it/s]/home/ubuntu/anaconda3/lib/python3.6/site-packages/ipykernel/__main__.py:147: RuntimeWarning: Mean of empty slice\n",
      " 36%|███▌      | 188/527 [01:53<03:24,  1.65it/s]/home/ubuntu/anaconda3/lib/python3.6/site-packages/ipykernel/__main__.py:15: RuntimeWarning: Mean of empty slice\n",
      " 99%|█████████▊| 209/212 [01:53<00:01,  1.84it/s]/home/ubuntu/anaconda3/lib/python3.6/site-packages/ipykernel/__main__.py:147: RuntimeWarning: Mean of empty slice\n",
      "/home/ubuntu/anaconda3/lib/python3.6/site-packages/ipykernel/__main__.py:147: RuntimeWarning: Mean of empty slice\n",
      " 99%|█████████▉| 210/212 [01:54<00:01,  1.84it/s]/home/ubuntu/anaconda3/lib/python3.6/site-packages/ipykernel/__main__.py:147: RuntimeWarning: Mean of empty slice\n",
      "/home/ubuntu/anaconda3/lib/python3.6/site-packages/ipykernel/__main__.py:147: RuntimeWarning: Mean of empty slice\n",
      "100%|█████████▉| 211/212 [01:54<00:00,  1.84it/s]/home/ubuntu/anaconda3/lib/python3.6/site-packages/ipykernel/__main__.py:147: RuntimeWarning: Mean of empty slice\n",
      "/home/ubuntu/anaconda3/lib/python3.6/site-packages/ipykernel/__main__.py:147: RuntimeWarning: Mean of empty slice\n",
      "/home/ubuntu/anaconda3/lib/python3.6/site-packages/ipykernel/__main__.py:153: RuntimeWarning: Mean of empty slice\n",
      "/home/ubuntu/anaconda3/lib/python3.6/site-packages/ipykernel/__main__.py:155: RuntimeWarning: Mean of empty slice\n",
      "/home/ubuntu/anaconda3/lib/python3.6/site-packages/ipykernel/__main__.py:153: RuntimeWarning: Mean of empty slice\n",
      "/home/ubuntu/anaconda3/lib/python3.6/site-packages/ipykernel/__main__.py:155: RuntimeWarning: Mean of empty slice\n",
      "100%|██████████| 212/212 [01:55<00:00,  1.84it/s]\n",
      " 99%|█████████▉| 494/499 [04:52<00:02,  1.69it/s]/home/ubuntu/anaconda3/lib/python3.6/site-packages/ipykernel/__main__.py:147: RuntimeWarning: Mean of empty slice\n",
      "/home/ubuntu/anaconda3/lib/python3.6/site-packages/ipykernel/__main__.py:147: RuntimeWarning: Mean of empty slice\n",
      " 93%|█████████▎| 489/527 [04:52<00:22,  1.67it/s]/home/ubuntu/anaconda3/lib/python3.6/site-packages/ipykernel/__main__.py:147: RuntimeWarning: Mean of empty slice\n",
      "/home/ubuntu/anaconda3/lib/python3.6/site-packages/ipykernel/__main__.py:147: RuntimeWarning: Mean of empty slice\n",
      " 99%|█████████▉| 496/499 [04:53<00:01,  1.69it/s]/home/ubuntu/anaconda3/lib/python3.6/site-packages/ipykernel/__main__.py:147: RuntimeWarning: Mean of empty slice\n",
      "/home/ubuntu/anaconda3/lib/python3.6/site-packages/ipykernel/__main__.py:147: RuntimeWarning: Mean of empty slice\n",
      " 93%|█████████▎| 491/527 [04:53<00:21,  1.67it/s]/home/ubuntu/anaconda3/lib/python3.6/site-packages/ipykernel/__main__.py:147: RuntimeWarning: Mean of empty slice\n",
      "/home/ubuntu/anaconda3/lib/python3.6/site-packages/ipykernel/__main__.py:147: RuntimeWarning: Mean of empty slice\n",
      " 93%|█████████▎| 492/527 [04:54<00:20,  1.67it/s]/home/ubuntu/anaconda3/lib/python3.6/site-packages/ipykernel/__main__.py:147: RuntimeWarning: Mean of empty slice\n",
      "/home/ubuntu/anaconda3/lib/python3.6/site-packages/ipykernel/__main__.py:147: RuntimeWarning: Mean of empty slice\n",
      "/home/ubuntu/anaconda3/lib/python3.6/site-packages/ipykernel/__main__.py:153: RuntimeWarning: Mean of empty slice\n",
      "/home/ubuntu/anaconda3/lib/python3.6/site-packages/ipykernel/__main__.py:155: RuntimeWarning: Mean of empty slice\n",
      "/home/ubuntu/anaconda3/lib/python3.6/site-packages/ipykernel/__main__.py:153: RuntimeWarning: Mean of empty slice\n",
      "/home/ubuntu/anaconda3/lib/python3.6/site-packages/ipykernel/__main__.py:155: RuntimeWarning: Mean of empty slice\n",
      "100%|██████████| 499/499 [04:55<00:00,  1.69it/s]\n",
      " 99%|█████████▉| 522/527 [05:12<00:02,  1.67it/s]/home/ubuntu/anaconda3/lib/python3.6/site-packages/ipykernel/__main__.py:147: RuntimeWarning: Mean of empty slice\n",
      "/home/ubuntu/anaconda3/lib/python3.6/site-packages/ipykernel/__main__.py:147: RuntimeWarning: Mean of empty slice\n",
      " 99%|█████████▉| 523/527 [05:12<00:02,  1.67it/s]/home/ubuntu/anaconda3/lib/python3.6/site-packages/ipykernel/__main__.py:147: RuntimeWarning: Mean of empty slice\n",
      "/home/ubuntu/anaconda3/lib/python3.6/site-packages/ipykernel/__main__.py:147: RuntimeWarning: Mean of empty slice\n",
      "/home/ubuntu/anaconda3/lib/python3.6/site-packages/ipykernel/__main__.py:15: RuntimeWarning: Mean of empty slice\n",
      " 99%|█████████▉| 524/527 [05:13<00:01,  1.67it/s]/home/ubuntu/anaconda3/lib/python3.6/site-packages/ipykernel/__main__.py:147: RuntimeWarning: Mean of empty slice\n",
      "/home/ubuntu/anaconda3/lib/python3.6/site-packages/ipykernel/__main__.py:147: RuntimeWarning: Mean of empty slice\n",
      "100%|█████████▉| 525/527 [05:14<00:01,  1.67it/s]/home/ubuntu/anaconda3/lib/python3.6/site-packages/ipykernel/__main__.py:147: RuntimeWarning: Mean of empty slice\n",
      "/home/ubuntu/anaconda3/lib/python3.6/site-packages/ipykernel/__main__.py:147: RuntimeWarning: Mean of empty slice\n"
     ]
    },
    {
     "name": "stderr",
     "output_type": "stream",
     "text": [
      "100%|█████████▉| 526/527 [05:14<00:00,  1.67it/s]/home/ubuntu/anaconda3/lib/python3.6/site-packages/ipykernel/__main__.py:147: RuntimeWarning: Mean of empty slice\n",
      "/home/ubuntu/anaconda3/lib/python3.6/site-packages/ipykernel/__main__.py:147: RuntimeWarning: Mean of empty slice\n",
      "/home/ubuntu/anaconda3/lib/python3.6/site-packages/ipykernel/__main__.py:153: RuntimeWarning: Mean of empty slice\n",
      "/home/ubuntu/anaconda3/lib/python3.6/site-packages/ipykernel/__main__.py:155: RuntimeWarning: Mean of empty slice\n",
      "/home/ubuntu/anaconda3/lib/python3.6/site-packages/ipykernel/__main__.py:153: RuntimeWarning: Mean of empty slice\n",
      "/home/ubuntu/anaconda3/lib/python3.6/site-packages/ipykernel/__main__.py:155: RuntimeWarning: Mean of empty slice\n",
      "100%|██████████| 527/527 [05:15<00:00,  1.67it/s]\n"
     ]
    }
   ],
   "source": [
    "\n",
    "def f(coin_name):\n",
    "    try:\n",
    "        x = coin_vix(coins[coin_name], N_iter=4, N_paths=100)\n",
    "        return (coin_name,x)\n",
    "    except:\n",
    "        return (coin_name,'failed')\n",
    "    \n",
    "coin_vixes = []\n",
    "\n",
    "if __name__ == '__main__':\n",
    "    with MyPool(32) as p:\n",
    "        coin_vixes = (p.map(f, coin_names[1:5]))"
   ]
  },
  {
   "cell_type": "code",
   "execution_count": 211,
   "metadata": {},
   "outputs": [
    {
     "data": {
      "text/plain": [
       "('stratis', Date\n",
       " 2018-02-20    27.693609\n",
       " 2018-02-19    68.248827\n",
       " 2018-02-18    58.940381\n",
       " 2018-02-17    56.323490\n",
       " 2018-02-16    63.804325\n",
       " 2018-02-15    34.002098\n",
       " 2018-02-14    66.297572\n",
       " 2018-02-13    69.616719\n",
       " 2018-02-12    54.566514\n",
       " 2018-02-11    47.868174\n",
       " 2018-02-10    41.054629\n",
       " 2018-02-09    38.711937\n",
       " 2018-02-08    65.526131\n",
       " 2018-02-07    48.411872\n",
       " 2018-02-06    69.436864\n",
       " 2018-02-05    67.987432\n",
       " 2018-02-04    55.618884\n",
       " 2018-02-03    40.105668\n",
       " 2018-02-02    77.990704\n",
       " 2018-02-01    63.781312\n",
       " 2018-01-31    50.769934\n",
       " 2018-01-30    51.461718\n",
       " 2018-01-29    53.419656\n",
       " 2018-01-28    67.412077\n",
       " 2018-01-27    62.885164\n",
       " 2018-01-26    45.761154\n",
       " 2018-01-25    70.704380\n",
       " 2018-01-24    63.927885\n",
       " 2018-01-23    65.351613\n",
       " 2018-01-22    91.710223\n",
       "                 ...    \n",
       " 2016-10-11    26.124600\n",
       " 2016-10-10    30.771252\n",
       " 2016-10-09    44.177801\n",
       " 2016-10-08    24.257422\n",
       " 2016-10-07    55.727072\n",
       " 2016-10-06    74.067564\n",
       " 2016-10-05    43.486989\n",
       " 2016-10-04    63.964064\n",
       " 2016-10-03    55.090374\n",
       " 2016-10-02    40.742429\n",
       " 2016-10-01    63.072467\n",
       " 2016-09-30    68.387155\n",
       " 2016-09-29    78.175291\n",
       " 2016-09-28    62.698957\n",
       " 2016-09-27    53.777800\n",
       " 2016-09-26    51.921875\n",
       " 2016-09-25    78.764098\n",
       " 2016-09-24    62.204124\n",
       " 2016-09-23    56.440989\n",
       " 2016-09-22    64.542636\n",
       " 2016-09-21    53.790984\n",
       " 2016-09-20    74.205077\n",
       " 2016-09-19    76.059554\n",
       " 2016-09-18    52.117408\n",
       " 2016-09-17    65.292872\n",
       " 2016-09-16    61.469086\n",
       " 2016-09-15          NaN\n",
       " 2016-09-14          NaN\n",
       " 2016-09-13          NaN\n",
       " 2016-09-12    60.638835\n",
       " Length: 527, dtype: float64)"
      ]
     },
     "execution_count": 211,
     "metadata": {},
     "output_type": "execute_result"
    }
   ],
   "source": [
    "coin_vixes[1]"
   ]
  },
  {
   "cell_type": "code",
   "execution_count": 215,
   "metadata": {},
   "outputs": [],
   "source": [
    "# store objects in file\n",
    "import pickle\n",
    "def save_object(obj, filename):\n",
    "    with open(filename, 'wb') as output:  # Overwrites any existing file.\n",
    "        pickle.dump(obj, output, pickle.HIGHEST_PROTOCOL)\n"
   ]
  },
  {
   "cell_type": "code",
   "execution_count": 216,
   "metadata": {},
   "outputs": [],
   "source": [
    "save_object(coin_vixes[1], '2_paths/test.pkl')"
   ]
  },
  {
   "cell_type": "code",
   "execution_count": 219,
   "metadata": {},
   "outputs": [],
   "source": [
    "with open(\"2_paths/test.pkl\", \"rb\") as input_file:\n",
    "    vix_data_test = pickle.load(input_file)"
   ]
  },
  {
   "cell_type": "code",
   "execution_count": 220,
   "metadata": {},
   "outputs": [
    {
     "data": {
      "text/plain": [
       "('stratis', Date\n",
       " 2018-02-20    27.693609\n",
       " 2018-02-19    68.248827\n",
       " 2018-02-18    58.940381\n",
       " 2018-02-17    56.323490\n",
       " 2018-02-16    63.804325\n",
       " 2018-02-15    34.002098\n",
       " 2018-02-14    66.297572\n",
       " 2018-02-13    69.616719\n",
       " 2018-02-12    54.566514\n",
       " 2018-02-11    47.868174\n",
       " 2018-02-10    41.054629\n",
       " 2018-02-09    38.711937\n",
       " 2018-02-08    65.526131\n",
       " 2018-02-07    48.411872\n",
       " 2018-02-06    69.436864\n",
       " 2018-02-05    67.987432\n",
       " 2018-02-04    55.618884\n",
       " 2018-02-03    40.105668\n",
       " 2018-02-02    77.990704\n",
       " 2018-02-01    63.781312\n",
       " 2018-01-31    50.769934\n",
       " 2018-01-30    51.461718\n",
       " 2018-01-29    53.419656\n",
       " 2018-01-28    67.412077\n",
       " 2018-01-27    62.885164\n",
       " 2018-01-26    45.761154\n",
       " 2018-01-25    70.704380\n",
       " 2018-01-24    63.927885\n",
       " 2018-01-23    65.351613\n",
       " 2018-01-22    91.710223\n",
       "                 ...    \n",
       " 2016-10-11    26.124600\n",
       " 2016-10-10    30.771252\n",
       " 2016-10-09    44.177801\n",
       " 2016-10-08    24.257422\n",
       " 2016-10-07    55.727072\n",
       " 2016-10-06    74.067564\n",
       " 2016-10-05    43.486989\n",
       " 2016-10-04    63.964064\n",
       " 2016-10-03    55.090374\n",
       " 2016-10-02    40.742429\n",
       " 2016-10-01    63.072467\n",
       " 2016-09-30    68.387155\n",
       " 2016-09-29    78.175291\n",
       " 2016-09-28    62.698957\n",
       " 2016-09-27    53.777800\n",
       " 2016-09-26    51.921875\n",
       " 2016-09-25    78.764098\n",
       " 2016-09-24    62.204124\n",
       " 2016-09-23    56.440989\n",
       " 2016-09-22    64.542636\n",
       " 2016-09-21    53.790984\n",
       " 2016-09-20    74.205077\n",
       " 2016-09-19    76.059554\n",
       " 2016-09-18    52.117408\n",
       " 2016-09-17    65.292872\n",
       " 2016-09-16    61.469086\n",
       " 2016-09-15          NaN\n",
       " 2016-09-14          NaN\n",
       " 2016-09-13          NaN\n",
       " 2016-09-12    60.638835\n",
       " Length: 527, dtype: float64)"
      ]
     },
     "execution_count": 220,
     "metadata": {},
     "output_type": "execute_result"
    }
   ],
   "source": [
    "vix_data_test"
   ]
  },
  {
   "cell_type": "code",
   "execution_count": null,
   "metadata": {},
   "outputs": [],
   "source": [
    "a = get_options_strip(btc, d1, 0, 100)[0]"
   ]
  }
 ],
 "metadata": {
  "anaconda-cloud": {},
  "kernelspec": {
   "display_name": "Environment (conda_anaconda3)",
   "language": "python",
   "name": "conda_anaconda3"
  },
  "language_info": {
   "codemirror_mode": {
    "name": "ipython",
    "version": 3
   },
   "file_extension": ".py",
   "mimetype": "text/x-python",
   "name": "python",
   "nbconvert_exporter": "python",
   "pygments_lexer": "ipython3",
   "version": "3.6.4"
  }
 },
 "nbformat": 4,
 "nbformat_minor": 1
}
